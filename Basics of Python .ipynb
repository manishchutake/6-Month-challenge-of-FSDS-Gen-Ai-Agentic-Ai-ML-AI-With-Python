{
 "cells": [
  {
   "cell_type": "markdown",
   "id": "280a4df8-c730-43f2-9129-32b0393fee69",
   "metadata": {},
   "source": [
    "# addition(+)"
   ]
  },
  {
   "cell_type": "code",
   "execution_count": 2,
   "id": "a6f6c9bd-12c8-489e-95cf-087b9abaa1ec",
   "metadata": {},
   "outputs": [
    {
     "name": "stdout",
     "output_type": "stream",
     "text": [
      "5\n"
     ]
    }
   ],
   "source": [
    "print(3 + 2)"
   ]
  },
  {
   "cell_type": "markdown",
   "id": "321c4278-cf32-4830-9317-453c30423d25",
   "metadata": {},
   "source": [
    "# subtraction(-)"
   ]
  },
  {
   "cell_type": "code",
   "execution_count": 3,
   "id": "03fbf1e4-4f42-475d-9427-8909a2d17d90",
   "metadata": {},
   "outputs": [
    {
     "name": "stdout",
     "output_type": "stream",
     "text": [
      "1\n"
     ]
    }
   ],
   "source": [
    "print(3 - 2)"
   ]
  },
  {
   "cell_type": "markdown",
   "id": "42e00b73-91af-44b7-8dd6-8d2a5e21bc92",
   "metadata": {},
   "source": [
    "# multiplication(*)"
   ]
  },
  {
   "cell_type": "code",
   "execution_count": 4,
   "id": "0dc34f92-835c-40b1-b83e-0d9a9a2bc8cf",
   "metadata": {},
   "outputs": [
    {
     "name": "stdout",
     "output_type": "stream",
     "text": [
      "6\n"
     ]
    }
   ],
   "source": [
    "print(3 * 2)"
   ]
  },
  {
   "cell_type": "markdown",
   "id": "d0f62177-84ac-4554-8e5c-a1b1ef6c7e9e",
   "metadata": {},
   "source": [
    "# division(/)"
   ]
  },
  {
   "cell_type": "code",
   "execution_count": 5,
   "id": "eb3d17d8-ae8b-47a0-ab02-0f2b7b8750b9",
   "metadata": {},
   "outputs": [
    {
     "name": "stdout",
     "output_type": "stream",
     "text": [
      "1.5\n"
     ]
    }
   ],
   "source": [
    "print(3 / 2)"
   ]
  },
  {
   "cell_type": "markdown",
   "id": "7daf8a78-4f30-4924-902d-23047b4976ff",
   "metadata": {},
   "source": [
    "# exponential(**)"
   ]
  },
  {
   "cell_type": "code",
   "execution_count": 1,
   "id": "077421ca-863b-4454-bff5-e140bc2defae",
   "metadata": {},
   "outputs": [
    {
     "name": "stdout",
     "output_type": "stream",
     "text": [
      "9\n"
     ]
    }
   ],
   "source": [
    "print(3 ** 2)"
   ]
  },
  {
   "cell_type": "markdown",
   "id": "0489aeff-b379-4a17-b313-5b3967523539",
   "metadata": {},
   "source": [
    "#  modules(%)"
   ]
  },
  {
   "cell_type": "code",
   "execution_count": 2,
   "id": "df07a09c-f3b7-4ae0-bb3e-2d049cde7945",
   "metadata": {},
   "outputs": [
    {
     "name": "stdout",
     "output_type": "stream",
     "text": [
      "1\n"
     ]
    }
   ],
   "source": [
    "print(3 % 2)"
   ]
  },
  {
   "cell_type": "markdown",
   "id": "5dd450f9-4400-408c-a42e-1b389a8898c5",
   "metadata": {},
   "source": [
    "# Floor division operator"
   ]
  },
  {
   "cell_type": "code",
   "execution_count": 3,
   "id": "53a30afe-4119-4b28-9d9b-525df018d5f3",
   "metadata": {},
   "outputs": [
    {
     "name": "stdout",
     "output_type": "stream",
     "text": [
      "1\n"
     ]
    }
   ],
   "source": [
    "print(3 // 2)"
   ]
  },
  {
   "cell_type": "markdown",
   "id": "829d330e-ed64-4569-b2ec-ae34f49fecd4",
   "metadata": {},
   "source": [
    "#  Check Data Types"
   ]
  },
  {
   "cell_type": "code",
   "execution_count": 4,
   "id": "137be368-eb59-4775-a68b-2af2b31dfc04",
   "metadata": {},
   "outputs": [
    {
     "name": "stdout",
     "output_type": "stream",
     "text": [
      "<class 'int'>\n"
     ]
    }
   ],
   "source": [
    "print(type(10))"
   ]
  },
  {
   "cell_type": "code",
   "execution_count": 5,
   "id": "ea5510b5-9a87-48a6-86d4-2340fdaa7199",
   "metadata": {},
   "outputs": [
    {
     "name": "stdout",
     "output_type": "stream",
     "text": [
      "<class 'float'>\n"
     ]
    }
   ],
   "source": [
    "print(type(3.14))"
   ]
  },
  {
   "cell_type": "code",
   "execution_count": 6,
   "id": "fd336ecd-79a5-4f8c-b664-cdf2d592dcd3",
   "metadata": {},
   "outputs": [
    {
     "name": "stdout",
     "output_type": "stream",
     "text": [
      "<class 'complex'>\n"
     ]
    }
   ],
   "source": [
    "print(type(1 + 3j))"
   ]
  },
  {
   "cell_type": "code",
   "execution_count": 7,
   "id": "cb44cddc-173e-48dc-9567-8285a5a3d775",
   "metadata": {},
   "outputs": [
    {
     "name": "stdout",
     "output_type": "stream",
     "text": [
      "<class 'str'>\n"
     ]
    }
   ],
   "source": [
    "print(type('Asabeneh'))"
   ]
  },
  {
   "cell_type": "code",
   "execution_count": 9,
   "id": "6283fa6f-b20c-406f-b8fc-0fae52063204",
   "metadata": {},
   "outputs": [
    {
     "name": "stdout",
     "output_type": "stream",
     "text": [
      "<class 'list'>\n"
     ]
    }
   ],
   "source": [
    "print(type([1, 2, 3]))"
   ]
  },
  {
   "cell_type": "code",
   "execution_count": 10,
   "id": "d4a2c739-dd53-42e1-96d9-319a15c655a9",
   "metadata": {},
   "outputs": [
    {
     "name": "stdout",
     "output_type": "stream",
     "text": [
      "<class 'dict'>\n"
     ]
    }
   ],
   "source": [
    "print(type({'name':'Manish'}))"
   ]
  },
  {
   "cell_type": "code",
   "execution_count": 11,
   "id": "fc3838d3-c0e6-4de6-9604-339fd8f02aad",
   "metadata": {},
   "outputs": [
    {
     "name": "stdout",
     "output_type": "stream",
     "text": [
      "<class 'set'>\n"
     ]
    }
   ],
   "source": [
    "print(type({9.8, 3.14, 2.7}))"
   ]
  },
  {
   "cell_type": "code",
   "execution_count": 1,
   "id": "ad582c35-3bd1-4ddc-924c-8c3bf71086e4",
   "metadata": {},
   "outputs": [
    {
     "name": "stdout",
     "output_type": "stream",
     "text": [
      "<class 'tuple'>\n"
     ]
    }
   ],
   "source": [
    "print(type((9.8, 3.14, 2.7)))"
   ]
  },
  {
   "cell_type": "code",
   "execution_count": 2,
   "id": "91b07721-f734-46ed-9570-8acf96738773",
   "metadata": {},
   "outputs": [
    {
     "name": "stdout",
     "output_type": "stream",
     "text": [
      "<class 'bool'>\n"
     ]
    }
   ],
   "source": [
    "print(type(3 ==3))"
   ]
  },
  {
   "cell_type": "code",
   "execution_count": 3,
   "id": "840ffccd-1b87-494f-a6b8-9308069e2208",
   "metadata": {},
   "outputs": [
    {
     "name": "stdout",
     "output_type": "stream",
     "text": [
      "<class 'bool'>\n"
     ]
    }
   ],
   "source": [
    "print(type(3 >= 3))"
   ]
  },
  {
   "cell_type": "markdown",
   "id": "6446da64-2af9-407e-af11-52206e155c54",
   "metadata": {},
   "source": [
    "# Arithmeic Operations in Python"
   ]
  },
  {
   "cell_type": "markdown",
   "id": "b5317ea3-6080-4b68-b656-18b290317bb6",
   "metadata": {},
   "source": [
    "# Integers"
   ]
  },
  {
   "cell_type": "code",
   "execution_count": 5,
   "id": "04b1fa25-39e2-4211-945e-f8ddc2966054",
   "metadata": {},
   "outputs": [
    {
     "name": "stdout",
     "output_type": "stream",
     "text": [
      "Addition: 3\n"
     ]
    }
   ],
   "source": [
    "print('Addition:', 1 + 2)"
   ]
  },
  {
   "cell_type": "code",
   "execution_count": 6,
   "id": "ce822dd7-0284-4007-8e53-63e0f997490a",
   "metadata": {},
   "outputs": [
    {
     "name": "stdout",
     "output_type": "stream",
     "text": [
      "Subtraction: 1\n"
     ]
    }
   ],
   "source": [
    "print('Subtraction:', 2 - 1)"
   ]
  },
  {
   "cell_type": "code",
   "execution_count": 7,
   "id": "2a7267c6-8ccb-4959-be2b-e4f0dbb518b5",
   "metadata": {},
   "outputs": [
    {
     "name": "stdout",
     "output_type": "stream",
     "text": [
      "Multiplication: 6\n"
     ]
    }
   ],
   "source": [
    "print('Multiplication:', 2 * 3)"
   ]
  },
  {
   "cell_type": "code",
   "execution_count": 8,
   "id": "a2bb8051-6fb9-41fd-8e72-2b07530d743f",
   "metadata": {},
   "outputs": [
    {
     "name": "stdout",
     "output_type": "stream",
     "text": [
      "Division: 2.0\n"
     ]
    }
   ],
   "source": [
    "print('Division:', 4 / 2)"
   ]
  },
  {
   "cell_type": "code",
   "execution_count": 9,
   "id": "40d4da9e-ceed-4503-b72b-ad800b345846",
   "metadata": {},
   "outputs": [
    {
     "name": "stdout",
     "output_type": "stream",
     "text": [
      "Division: 3.0\n"
     ]
    }
   ],
   "source": [
    "print('Division:', 6 / 2)"
   ]
  },
  {
   "cell_type": "code",
   "execution_count": 10,
   "id": "a59d85b8-1fe8-4187-bd51-0616dd98518c",
   "metadata": {},
   "outputs": [
    {
     "name": "stdout",
     "output_type": "stream",
     "text": [
      "Division: 3.5\n"
     ]
    }
   ],
   "source": [
    "print('Division:', 7 / 2)"
   ]
  },
  {
   "cell_type": "code",
   "execution_count": 11,
   "id": "110bf4fe-9c7b-4f4b-aa3d-0c66f067b62c",
   "metadata": {},
   "outputs": [
    {
     "name": "stdout",
     "output_type": "stream",
     "text": [
      "Division without the remainder: 3\n"
     ]
    }
   ],
   "source": [
    "print('Division without the remainder:', 7 // 2)"
   ]
  },
  {
   "cell_type": "code",
   "execution_count": 12,
   "id": "7d28e1d0-2582-4507-a350-e23ea71aab17",
   "metadata": {},
   "outputs": [
    {
     "name": "stdout",
     "output_type": "stream",
     "text": [
      "Modules: 1\n"
     ]
    }
   ],
   "source": [
    "print('Modules:', 3 % 2)"
   ]
  },
  {
   "cell_type": "code",
   "execution_count": 13,
   "id": "c6fec041-af54-4021-b467-a5c1d3f78633",
   "metadata": {},
   "outputs": [
    {
     "name": "stdout",
     "output_type": "stream",
     "text": [
      "Division without the remainder: 2\n"
     ]
    }
   ],
   "source": [
    "print('Division without the remainder:', 7 // 3)"
   ]
  },
  {
   "cell_type": "code",
   "execution_count": 14,
   "id": "f3e013e4-2e14-42e9-951a-46dae84ccfff",
   "metadata": {},
   "outputs": [
    {
     "name": "stdout",
     "output_type": "stream",
     "text": [
      "Expoential: 9\n"
     ]
    }
   ],
   "source": [
    "print('Expoential:', 3 ** 2)"
   ]
  },
  {
   "cell_type": "markdown",
   "id": "f14ca272-8707-4cf7-bb8a-ca13faffc990",
   "metadata": {},
   "source": [
    "# Floating Numbers"
   ]
  },
  {
   "cell_type": "code",
   "execution_count": 16,
   "id": "ab5af75f-cff9-4fb1-9020-7b7e43bbf5b2",
   "metadata": {},
   "outputs": [
    {
     "name": "stdout",
     "output_type": "stream",
     "text": [
      "Floating Number,PI 3.14\n"
     ]
    }
   ],
   "source": [
    "print('Floating Number,PI', 3.14)"
   ]
  },
  {
   "cell_type": "code",
   "execution_count": 17,
   "id": "fae6d769-724e-4082-8ecb-ac331720b470",
   "metadata": {},
   "outputs": [
    {
     "name": "stdout",
     "output_type": "stream",
     "text": [
      "Floating Number,gravity 9.81\n"
     ]
    }
   ],
   "source": [
    "print('Floating Number,gravity', 9.81)"
   ]
  },
  {
   "cell_type": "markdown",
   "id": "20129ae7-2adf-41f3-9722-12d1c4e0e555",
   "metadata": {},
   "source": [
    "# Complex Numbers"
   ]
  },
  {
   "cell_type": "code",
   "execution_count": 18,
   "id": "b296dccf-6c00-4d6d-898c-fd1537df493d",
   "metadata": {},
   "outputs": [
    {
     "name": "stdout",
     "output_type": "stream",
     "text": [
      "complex number: (1+1j)\n"
     ]
    }
   ],
   "source": [
    "print('complex number:', 1 + 1j)"
   ]
  },
  {
   "cell_type": "code",
   "execution_count": 20,
   "id": "6cfadce0-7879-4c8b-961e-b11fca7a31a7",
   "metadata": {},
   "outputs": [
    {
     "name": "stdout",
     "output_type": "stream",
     "text": [
      "Multiplying complex number: (2+0j)\n"
     ]
    }
   ],
   "source": [
    "print('Multiplying complex number:',(1 + 1j) * (1 - 1j))"
   ]
  },
  {
   "cell_type": "markdown",
   "id": "6c612f3d-d720-46b3-9f5b-4a966f1e7211",
   "metadata": {},
   "source": [
    "# Arithmetic operations and assigning the result to a variable"
   ]
  },
  {
   "cell_type": "code",
   "execution_count": 29,
   "id": "8af8582b-1895-41b0-90fe-33eaec0eee22",
   "metadata": {},
   "outputs": [
    {
     "name": "stdout",
     "output_type": "stream",
     "text": [
      "a + b =  5\n",
      "a - b =  1\n",
      "a * b =  6\n",
      "a / b =  1.5\n",
      "a % b =  1\n",
      "a // b =  1\n",
      "a ** b =  9\n"
     ]
    }
   ],
   "source": [
    "a = 3\n",
    "b = 2\n",
    "total = a + b\n",
    "diff = a - b\n",
    "product = a * b\n",
    "division = a / b\n",
    "remainder = a % b\n",
    "floor_division = a // b\n",
    "expoential = a ** b\n",
    "print('a + b = ', total)\n",
    "print('a - b = ', diff)\n",
    "print('a * b = ', product)\n",
    "print('a / b = ', division)\n",
    "print('a % b = ', remainder)\n",
    "print('a // b = ', floor_division)\n",
    "print('a ** b = ', expoential)\n"
   ]
  },
  {
   "cell_type": "markdown",
   "id": "3ed93392-1fc8-414f-99ed-5e51667102ed",
   "metadata": {},
   "source": [
    "# Declaring values and organizing them together"
   ]
  },
  {
   "cell_type": "code",
   "execution_count": 30,
   "id": "f79fd0fa-3022-4f83-a013-97b69ddff582",
   "metadata": {},
   "outputs": [
    {
     "name": "stdout",
     "output_type": "stream",
     "text": [
      "total: 7\n",
      "diffrence: 1\n",
      "product: 12\n",
      "division: 1.3333333333333333\n",
      "remainder: 1\n"
     ]
    }
   ],
   "source": [
    "num_one = 3\n",
    "num_two = 4\n",
    "total = num_one + num_two\n",
    "diff = num_two -  num_one\n",
    "product = num_one * num_two\n",
    "div = num_two / num_one\n",
    "remainder = num_two % num_one\n",
    "\n",
    "print('total:',total)\n",
    "print('diffrence:',diff)\n",
    "print('product:', product)\n",
    "print('division:', div)\n",
    "print('remainder:',remainder)\n"
   ]
  },
  {
   "cell_type": "markdown",
   "id": "e2bece04-8fde-43b9-b367-dafee9213907",
   "metadata": {},
   "source": [
    "# Calculating Area of Circle"
   ]
  },
  {
   "cell_type": "code",
   "execution_count": 31,
   "id": "2ebd6c0d-dab4-4ab2-a30f-513ec6962561",
   "metadata": {},
   "outputs": [
    {
     "name": "stdout",
     "output_type": "stream",
     "text": [
      "area of circle: 314.0\n"
     ]
    }
   ],
   "source": [
    "radius = 10\n",
    "area_of_circle = 3.14 * radius ** 2\n",
    "print('area of circle:',area_of_circle)"
   ]
  },
  {
   "cell_type": "markdown",
   "id": "1042420f-c64f-4987-aad3-402ce71d23d0",
   "metadata": {},
   "source": [
    "# Calculating Area Of Rectangle"
   ]
  },
  {
   "cell_type": "code",
   "execution_count": 32,
   "id": "3996144a-58e2-44ff-a57e-ce91d29f2026",
   "metadata": {},
   "outputs": [
    {
     "name": "stdout",
     "output_type": "stream",
     "text": [
      "area of rectangle: 200\n"
     ]
    }
   ],
   "source": [
    "length = 10\n",
    "width = 20\n",
    "area_of_rectangle = length * width\n",
    "print('area of rectangle:', area_of_rectangle) "
   ]
  },
  {
   "cell_type": "markdown",
   "id": "83fc489b-8319-4e3f-b8bc-d16dee54c67f",
   "metadata": {},
   "source": [
    "# Calculating a weight of an object"
   ]
  },
  {
   "cell_type": "code",
   "execution_count": 33,
   "id": "621f685e-7f5b-44fb-8996-8125b716e09f",
   "metadata": {},
   "outputs": [
    {
     "name": "stdout",
     "output_type": "stream",
     "text": [
      "735.75 N\n"
     ]
    }
   ],
   "source": [
    "mass = 75 \n",
    "gravity = 9.81\n",
    "weight = mass * gravity\n",
    "print(weight,'N')"
   ]
  },
  {
   "cell_type": "code",
   "execution_count": 35,
   "id": "38ab5ac2-d471-4739-be50-7ed0654e2d9b",
   "metadata": {},
   "outputs": [
    {
     "name": "stdout",
     "output_type": "stream",
     "text": [
      "True\n",
      "True\n",
      "False\n",
      "True\n",
      "True\n",
      "False\n",
      "True\n",
      "False\n",
      "True\n",
      "True\n",
      "False\n",
      "True\n",
      "True\n",
      "False\n"
     ]
    }
   ],
   "source": [
    "print(3 > 2)\n",
    "print(3 >= 2)\n",
    "print(3 < 2)\n",
    "print(2 < 3)\n",
    "print(2 <= 3)\n",
    "print(3 == 2)\n",
    "print(3 != 2)\n",
    "print(len('mango') == len('avocodo'))\n",
    "print(len('mango') != len('avocodo'))\n",
    "print(len('mango') < len('avocodo'))\n",
    "print(len('milk') != len('meat'))\n",
    "print(len('milk') == len('meat'))\n",
    "print(len('tomato') == len('potato'))\n",
    "print(len('python') > len('dragon'))\n",
    "\n",
    "\n"
   ]
  },
  {
   "cell_type": "markdown",
   "id": "5f40fe42-35bc-423e-9796-54dc519a004c",
   "metadata": {},
   "source": [
    "# Boolean Comparision"
   ]
  },
  {
   "cell_type": "code",
   "execution_count": 36,
   "id": "d821714b-ef84-4e7b-ac39-fd4f1e4ba52d",
   "metadata": {},
   "outputs": [
    {
     "name": "stdout",
     "output_type": "stream",
     "text": [
      "True == True: True\n",
      "True == False: False\n",
      "Flase == False: True\n",
      " True and True: True\n",
      " True or True: True\n"
     ]
    }
   ],
   "source": [
    "print('True == True:', True == True)\n",
    "print('True == False:', True == False)\n",
    "print('Flase == False:', False == False)\n",
    "print(' True and True:', True and True)\n",
    "print(' True or True:', True or True)"
   ]
  },
  {
   "cell_type": "markdown",
   "id": "9ff25bfa-eeb5-4043-81b2-25ae4e73e0ab",
   "metadata": {},
   "source": [
    "#  Another way comparision"
   ]
  },
  {
   "cell_type": "code",
   "execution_count": 43,
   "id": "08a313bc-f7d5-41cf-949a-cef0ff844850",
   "metadata": {},
   "outputs": [
    {
     "name": "stdout",
     "output_type": "stream",
     "text": [
      "1 is 1 True\n",
      "1 is not 2 True\n",
      "A in Asabenah True\n",
      "B in Asabenah False\n",
      "True\n",
      "a in an: True\n",
      "4 is 2 ** 2: True\n"
     ]
    }
   ],
   "source": [
    "print('1 is 1', 1 is 1)\n",
    "print('1 is not 2', 1 is not 2)\n",
    "print('A in Asabenah', 'A' in 'Asabenah')\n",
    "print('B in Asabenah', 'B' in 'Asabenah')\n",
    "print('Coding' in 'Coding for all')\n",
    "print('a in an:', 'a' in 'an')\n",
    "print('4 is 2 ** 2:', 4 is 2 ** 2)\n"
   ]
  },
  {
   "cell_type": "code",
   "execution_count": 44,
   "id": "3d74f267-6f60-474b-9bb7-b8e763d67569",
   "metadata": {},
   "outputs": [
    {
     "name": "stdout",
     "output_type": "stream",
     "text": [
      "True\n",
      "False\n",
      "False\n",
      "True\n",
      "True\n",
      "False\n",
      "False\n",
      "False\n",
      "True\n",
      "True\n",
      "False\n"
     ]
    }
   ],
   "source": [
    "print(3 > 2 and 4 > 3)\n",
    "print(3 > 2 and 4 < 3)\n",
    "print(3 < 2 and 4 < 3)\n",
    "print(3 > 2 or 4 > 3)\n",
    "print(3 > 2 or 4 < 3)\n",
    "print(3 < 2 or 4 < 3)\n",
    "print(not 3 > 2)\n",
    "print(not True)\n",
    "print(not False)\n",
    "print(not not True)\n",
    "print(not not False)\n"
   ]
  },
  {
   "cell_type": "markdown",
   "id": "7962c7b6-6410-41ec-ae9b-97221f6ee7bc",
   "metadata": {},
   "source": [
    "#  Variables in Python"
   ]
  },
  {
   "cell_type": "code",
   "execution_count": 72,
   "id": "220b271d-6ae0-4025-9798-8a7e798c7eeb",
   "metadata": {},
   "outputs": [
    {
     "name": "stdout",
     "output_type": "stream",
     "text": [
      "first name: MANISH\n",
      "first name length: 6\n",
      "last name:  CHUTAKE\n",
      "last name length:  7\n",
      "country:  NAGPUR\n",
      "city:  MAHARASHTRA\n",
      "age:  40087\n",
      "Married:  True\n",
      "skills:  ['HTML', 'CSS', 'JS', 'REACT', 'PYTHON']\n",
      "personal information:  {'firstname': 'Asabenah', 'Lastname': 'Yetayeh', 'Country': 'Finland', 'city': 'Helanski'}\n"
     ]
    }
   ],
   "source": [
    "first_name = 'MANISH' \n",
    "last_name = 'CHUTAKE'\n",
    "country = 'NAGPUR'\n",
    "city = 'MAHARASHTRA'\n",
    "age = 40087\n",
    "is_married = True\n",
    "skills = ['HTML', 'CSS', 'JS', 'REACT', 'PYTHON']\n",
    "personal_info = {\n",
    "    'firstname':'Asabenah',\n",
    "    'Lastname':'Yetayeh',\n",
    "    'Country': 'Finland',\n",
    "'city':'Helanski'}\n",
    "\n",
    "print('first name:', first_name)\n",
    "print('first name length:', len(first_name))\n",
    "print('last name: ', last_name)\n",
    "print('last name length: ', len(last_name))\n",
    "print('country: ', country)\n",
    "print('city: ', city)\n",
    "print('age: ', age)\n",
    "print('Married: ', is_married)\n",
    "print('skills: ', skills)\n",
    "print('personal information: ', personal_info)\n",
    "\n",
    "\n",
    "\n",
    "\n"
   ]
  },
  {
   "cell_type": "markdown",
   "id": "bd8c1b73-22a0-4272-91ff-2913f1ba2517",
   "metadata": {},
   "source": [
    "\n",
    "# Declaring multiple variables in one line"
   ]
  },
  {
   "cell_type": "code",
   "execution_count": 73,
   "id": "4cd9523b-9ac6-48d9-a18d-f58fe83d4b25",
   "metadata": {},
   "outputs": [
    {
     "name": "stdout",
     "output_type": "stream",
     "text": [
      "Asabeneh Yetayeh Helsink 250 True\n",
      "First name: Asabeneh\n",
      "Last name:  Yetayeh\n",
      "Country:  Helsink\n",
      "Age:  250\n",
      "Married:  True\n"
     ]
    }
   ],
   "source": [
    "first_name, last_name, country, age, is_married = 'Asabeneh', 'Yetayeh', 'Helsink', 250, True\n",
    "\n",
    "print(first_name, last_name, country, age, is_married)\n",
    "print('First name:', first_name)\n",
    "print('Last name: ', last_name)\n",
    "print('Country: ', country)\n",
    "print('Age: ', age)\n",
    "print('Married: ', is_married)"
   ]
  },
  {
   "cell_type": "code",
   "execution_count": null,
   "id": "a83d486b-9859-4c56-b1df-abb1b6ce824b",
   "metadata": {},
   "outputs": [],
   "source": []
  }
 ],
 "metadata": {
  "kernelspec": {
   "display_name": "Python [conda env:base] *",
   "language": "python",
   "name": "conda-base-py"
  },
  "language_info": {
   "codemirror_mode": {
    "name": "ipython",
    "version": 3
   },
   "file_extension": ".py",
   "mimetype": "text/x-python",
   "name": "python",
   "nbconvert_exporter": "python",
   "pygments_lexer": "ipython3",
   "version": "3.13.5"
  }
 },
 "nbformat": 4,
 "nbformat_minor": 5
}
