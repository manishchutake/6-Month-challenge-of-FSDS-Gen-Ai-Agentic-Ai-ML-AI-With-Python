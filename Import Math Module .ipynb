{
 "cells": [
  {
   "cell_type": "code",
   "execution_count": 29,
   "id": "de2ec1c6-81e1-4810-95c3-1cc7c9c52b73",
   "metadata": {},
   "outputs": [
    {
     "ename": "NameError",
     "evalue": "name 'sqrt' is not defined",
     "output_type": "error",
     "traceback": [
      "\u001b[0;31m---------------------------------------------------------------------------\u001b[0m",
      "\u001b[0;31mNameError\u001b[0m                                 Traceback (most recent call last)",
      "Cell \u001b[0;32mIn[29], line 1\u001b[0m\n\u001b[0;32m----> 1\u001b[0m x \u001b[38;5;241m=\u001b[39m sqrt(\u001b[38;5;241m25\u001b[39m)\n\u001b[1;32m      2\u001b[0m x\n",
      "\u001b[0;31mNameError\u001b[0m: name 'sqrt' is not defined"
     ]
    }
   ],
   "source": [
    "x = sqrt(25)\n",
    "x"
   ]
  },
  {
   "cell_type": "code",
   "execution_count": 31,
   "id": "b96f04c5-7738-4d11-813d-7eb9390989f1",
   "metadata": {},
   "outputs": [
    {
     "data": {
      "text/plain": [
       "5.0"
      ]
     },
     "execution_count": 31,
     "metadata": {},
     "output_type": "execute_result"
    }
   ],
   "source": [
    "import math\n",
    "x = math.sqrt(25)\n",
    "x"
   ]
  },
  {
   "cell_type": "code",
   "execution_count": 32,
   "id": "d9043e65-5649-4ac2-9561-9e10601b0181",
   "metadata": {},
   "outputs": [
    {
     "data": {
      "text/plain": [
       "3.872983346207417"
      ]
     },
     "execution_count": 32,
     "metadata": {},
     "output_type": "execute_result"
    }
   ],
   "source": [
    "x1 = math.sqrt(15)\n",
    "x1"
   ]
  },
  {
   "cell_type": "code",
   "execution_count": 33,
   "id": "76c39f5b-4191-42e5-bfee-dc11eeb74ee4",
   "metadata": {},
   "outputs": [
    {
     "name": "stdout",
     "output_type": "stream",
     "text": [
      "2\n"
     ]
    }
   ],
   "source": [
    "print(math.floor(2.9))"
   ]
  },
  {
   "cell_type": "code",
   "execution_count": 34,
   "id": "4c787df2-6867-4a15-bb7a-508eddf53e7b",
   "metadata": {},
   "outputs": [
    {
     "name": "stdout",
     "output_type": "stream",
     "text": [
      "3\n"
     ]
    }
   ],
   "source": [
    "print(math.ceil(2.9))"
   ]
  },
  {
   "cell_type": "code",
   "execution_count": 35,
   "id": "2c387023-629b-450b-a053-f4d5e1dc5e94",
   "metadata": {},
   "outputs": [
    {
     "name": "stdout",
     "output_type": "stream",
     "text": [
      "9.0\n"
     ]
    }
   ],
   "source": [
    "print(math.pow(3,2))"
   ]
  },
  {
   "cell_type": "code",
   "execution_count": 36,
   "id": "590abb20-6603-4ccd-9829-f088b8469477",
   "metadata": {},
   "outputs": [
    {
     "name": "stdout",
     "output_type": "stream",
     "text": [
      "3.141592653589793\n"
     ]
    }
   ],
   "source": [
    "print(math.pi)"
   ]
  },
  {
   "cell_type": "code",
   "execution_count": 37,
   "id": "5c26e8c4-7d0c-4998-a4fe-55b059df7630",
   "metadata": {},
   "outputs": [
    {
     "name": "stdout",
     "output_type": "stream",
     "text": [
      "2.718281828459045\n"
     ]
    }
   ],
   "source": [
    "print(math.e)"
   ]
  },
  {
   "cell_type": "code",
   "execution_count": 38,
   "id": "03681ea9-f05f-47f1-9a34-7a02d9b0335b",
   "metadata": {},
   "outputs": [
    {
     "data": {
      "text/plain": [
       "3.1622776601683795"
      ]
     },
     "execution_count": 38,
     "metadata": {},
     "output_type": "execute_result"
    }
   ],
   "source": [
    "import math as m\n",
    "m.sqrt(10)"
   ]
  },
  {
   "cell_type": "code",
   "execution_count": 39,
   "id": "d5795f08-ad96-474b-ad74-54376e8d9e82",
   "metadata": {},
   "outputs": [
    {
     "data": {
      "text/plain": [
       "8.0"
      ]
     },
     "execution_count": 39,
     "metadata": {},
     "output_type": "execute_result"
    }
   ],
   "source": [
    "from math import sqrt,pow # math has many function if you want to call specific function then you use from \n",
    "pow(2,3)"
   ]
  },
  {
   "cell_type": "code",
   "execution_count": 40,
   "id": "24e237cb-0e9b-4cf4-b8f5-63aa21cb0a44",
   "metadata": {},
   "outputs": [
    {
     "data": {
      "text/plain": [
       "8"
      ]
     },
     "execution_count": 40,
     "metadata": {},
     "output_type": "execute_result"
    }
   ],
   "source": [
    "round(pow(2,3))"
   ]
  },
  {
   "cell_type": "markdown",
   "id": "e692a218-85b8-459d-a112-16902c275e93",
   "metadata": {},
   "source": [
    "### user input function in python || command line input"
   ]
  },
  {
   "cell_type": "code",
   "execution_count": 1,
   "id": "d4f88ed5-f921-4493-bfbb-161173472f30",
   "metadata": {},
   "outputs": [
    {
     "name": "stdin",
     "output_type": "stream",
     "text": [
      " 12\n"
     ]
    },
    {
     "data": {
      "text/plain": [
       "'12'"
      ]
     },
     "execution_count": 1,
     "metadata": {},
     "output_type": "execute_result"
    }
   ],
   "source": [
    " x = input()\n",
    "x"
   ]
  },
  {
   "cell_type": "code",
   "execution_count": 2,
   "id": "6c878401-59e0-432d-a54c-101f27476d28",
   "metadata": {},
   "outputs": [
    {
     "name": "stdin",
     "output_type": "stream",
     "text": [
      " 7\n"
     ]
    },
    {
     "data": {
      "text/plain": [
       "'7'"
      ]
     },
     "execution_count": 2,
     "metadata": {},
     "output_type": "execute_result"
    }
   ],
   "source": [
    "y = input()\n",
    "y"
   ]
  },
  {
   "cell_type": "code",
   "execution_count": 3,
   "id": "f0058910-4144-45ed-8d6a-5712862e2056",
   "metadata": {},
   "outputs": [
    {
     "name": "stdout",
     "output_type": "stream",
     "text": [
      "127\n"
     ]
    }
   ],
   "source": [
    "z = x + y\n",
    "print(z)"
   ]
  },
  {
   "cell_type": "code",
   "execution_count": 4,
   "id": "69dc294a-48f6-4c65-98f5-c1f32c8e74f6",
   "metadata": {},
   "outputs": [
    {
     "name": "stdin",
     "output_type": "stream",
     "text": [
      "Enter the 1st number 5\n"
     ]
    },
    {
     "data": {
      "text/plain": [
       "'5'"
      ]
     },
     "execution_count": 4,
     "metadata": {},
     "output_type": "execute_result"
    }
   ],
   "source": [
    "x1 = input ('Enter the 1st number')\n",
    "x1"
   ]
  },
  {
   "cell_type": "code",
   "execution_count": 7,
   "id": "a9069392-a3c6-4c03-97d1-a281d4d6faef",
   "metadata": {},
   "outputs": [
    {
     "name": "stdin",
     "output_type": "stream",
     "text": [
      "Enter the 2nd number 4\n"
     ]
    },
    {
     "data": {
      "text/plain": [
       "'4'"
      ]
     },
     "execution_count": 7,
     "metadata": {},
     "output_type": "execute_result"
    }
   ],
   "source": [
    "y1 = input('Enter the 2nd number')\n",
    "y1"
   ]
  },
  {
   "cell_type": "code",
   "execution_count": 8,
   "id": "c6b3f24c-d7e3-4d56-b170-3254d81e835b",
   "metadata": {},
   "outputs": [
    {
     "name": "stdout",
     "output_type": "stream",
     "text": [
      "54\n"
     ]
    }
   ],
   "source": [
    "z1 = x1 + y1\n",
    "print(z1)"
   ]
  },
  {
   "cell_type": "code",
   "execution_count": 9,
   "id": "fee14c08-4d81-451f-8a03-079c4be028d2",
   "metadata": {},
   "outputs": [
    {
     "data": {
      "text/plain": [
       "str"
      ]
     },
     "execution_count": 9,
     "metadata": {},
     "output_type": "execute_result"
    }
   ],
   "source": [
    "type(x1)\n",
    "type(y1)"
   ]
  },
  {
   "cell_type": "code",
   "execution_count": 10,
   "id": "7191d5dc-0c26-47b1-87e4-a2ae3fd311f9",
   "metadata": {},
   "outputs": [
    {
     "name": "stdin",
     "output_type": "stream",
     "text": [
      "Enter the 1st number 4\n"
     ]
    },
    {
     "data": {
      "text/plain": [
       "'4'"
      ]
     },
     "execution_count": 10,
     "metadata": {},
     "output_type": "execute_result"
    }
   ],
   "source": [
    "x1 = input('Enter the 1st number')\n",
    "x1"
   ]
  },
  {
   "cell_type": "code",
   "execution_count": 12,
   "id": "12ec4ad3-87ac-4e6d-ae42-29925a541162",
   "metadata": {},
   "outputs": [
    {
     "data": {
      "text/plain": [
       "4"
      ]
     },
     "execution_count": 12,
     "metadata": {},
     "output_type": "execute_result"
    }
   ],
   "source": [
    "a1 = int(x1)\n",
    "a1"
   ]
  },
  {
   "cell_type": "code",
   "execution_count": 13,
   "id": "ae5d0b44-2783-4be0-99f3-55a7b4df47df",
   "metadata": {},
   "outputs": [
    {
     "name": "stdin",
     "output_type": "stream",
     "text": [
      "Enter the 2nd nummber 2\n"
     ]
    },
    {
     "data": {
      "text/plain": [
       "'2'"
      ]
     },
     "execution_count": 13,
     "metadata": {},
     "output_type": "execute_result"
    }
   ],
   "source": [
    "y1 = input('Enter the 2nd nummber')\n",
    "y1"
   ]
  },
  {
   "cell_type": "code",
   "execution_count": 14,
   "id": "4ec839a6-e574-4644-9b7d-01b078a7238d",
   "metadata": {},
   "outputs": [
    {
     "data": {
      "text/plain": [
       "2"
      ]
     },
     "execution_count": 14,
     "metadata": {},
     "output_type": "execute_result"
    }
   ],
   "source": [
    "b1 = int(y1)\n",
    "b1"
   ]
  },
  {
   "cell_type": "code",
   "execution_count": 15,
   "id": "909453c7-8ebb-4697-be03-2d88a34f4377",
   "metadata": {},
   "outputs": [
    {
     "name": "stdout",
     "output_type": "stream",
     "text": [
      "6\n"
     ]
    }
   ],
   "source": [
    "z1 = a1 + b1\n",
    "print(z1)"
   ]
  },
  {
   "cell_type": "code",
   "execution_count": 17,
   "id": "8915346b-6cce-45de-9bbe-ede873debf61",
   "metadata": {},
   "outputs": [
    {
     "name": "stdin",
     "output_type": "stream",
     "text": [
      "Enter the 1st number 5\n"
     ]
    },
    {
     "data": {
      "text/plain": [
       "5"
      ]
     },
     "execution_count": 17,
     "metadata": {},
     "output_type": "execute_result"
    }
   ],
   "source": [
    "x2 = int(input('Enter the 1st number'))\n",
    "x2"
   ]
  },
  {
   "cell_type": "code",
   "execution_count": 18,
   "id": "259f4087-7b83-4fcb-aabb-ce79fb836949",
   "metadata": {},
   "outputs": [
    {
     "name": "stdin",
     "output_type": "stream",
     "text": [
      "Enter the 2nd number 4\n"
     ]
    },
    {
     "data": {
      "text/plain": [
       "4"
      ]
     },
     "execution_count": 18,
     "metadata": {},
     "output_type": "execute_result"
    }
   ],
   "source": [
    "y2 = int(input('Enter the 2nd number'))\n",
    "y2"
   ]
  },
  {
   "cell_type": "code",
   "execution_count": 19,
   "id": "774c1f9e-38a3-4c60-9885-b7753667159c",
   "metadata": {},
   "outputs": [
    {
     "data": {
      "text/plain": [
       "9"
      ]
     },
     "execution_count": 19,
     "metadata": {},
     "output_type": "execute_result"
    }
   ],
   "source": [
    "z2 = x2 + y2\n",
    "z2"
   ]
  },
  {
   "cell_type": "code",
   "execution_count": 20,
   "id": "67d06246-2599-4e3d-9baa-f0917940aa02",
   "metadata": {},
   "outputs": [
    {
     "name": "stdin",
     "output_type": "stream",
     "text": [
      "enter  char 12\n"
     ]
    },
    {
     "name": "stdout",
     "output_type": "stream",
     "text": [
      "12\n"
     ]
    }
   ],
   "source": [
    "ch = input('enter  char')\n",
    "print(ch)"
   ]
  },
  {
   "cell_type": "code",
   "execution_count": 21,
   "id": "78ba533f-6083-45d4-ba35-3dea46efc1ad",
   "metadata": {},
   "outputs": [
    {
     "name": "stdout",
     "output_type": "stream",
     "text": [
      "1\n"
     ]
    }
   ],
   "source": [
    "print(ch[0])"
   ]
  },
  {
   "cell_type": "code",
   "execution_count": 22,
   "id": "7a0ee737-77d2-4ac1-b2ff-da4b4159034c",
   "metadata": {},
   "outputs": [
    {
     "name": "stdout",
     "output_type": "stream",
     "text": [
      "2\n"
     ]
    }
   ],
   "source": [
    "print(ch[1])"
   ]
  },
  {
   "cell_type": "code",
   "execution_count": 23,
   "id": "0a7ce47f-9437-45cd-90e0-70f690b3f7d1",
   "metadata": {},
   "outputs": [
    {
     "name": "stdout",
     "output_type": "stream",
     "text": [
      "2\n"
     ]
    }
   ],
   "source": [
    "print(ch[-1])"
   ]
  },
  {
   "cell_type": "code",
   "execution_count": 24,
   "id": "8e2d3f8f-4daa-405c-a2fb-fa7a24f5b334",
   "metadata": {},
   "outputs": [
    {
     "name": "stdin",
     "output_type": "stream",
     "text": [
      "enter a char 2\n"
     ]
    },
    {
     "name": "stdout",
     "output_type": "stream",
     "text": [
      "2\n"
     ]
    }
   ],
   "source": [
    "ch = input('enter a char')[0]\n",
    "print(ch)"
   ]
  },
  {
   "cell_type": "code",
   "execution_count": 27,
   "id": "c8be9129-9eb5-467b-97a9-f0b736a78062",
   "metadata": {},
   "outputs": [
    {
     "name": "stdin",
     "output_type": "stream",
     "text": [
      "enter a char 2\n"
     ]
    },
    {
     "name": "stdout",
     "output_type": "stream",
     "text": [
      "\n"
     ]
    }
   ],
   "source": [
    "ch = input('enter a char')[1:3]\n",
    "print(ch)"
   ]
  },
  {
   "cell_type": "code",
   "execution_count": 28,
   "id": "ce43f001-466f-4929-bb26-7d39df5475c9",
   "metadata": {},
   "outputs": [
    {
     "name": "stdin",
     "output_type": "stream",
     "text": [
      "enter an expr 3\n"
     ]
    },
    {
     "name": "stdout",
     "output_type": "stream",
     "text": [
      "3\n"
     ]
    }
   ],
   "source": [
    "result = eval(input('enter an expr'))\n",
    "print(result)"
   ]
  }
 ],
 "metadata": {
  "kernelspec": {
   "display_name": "Python [conda env:base] *",
   "language": "python",
   "name": "conda-base-py"
  },
  "language_info": {
   "codemirror_mode": {
    "name": "ipython",
    "version": 3
   },
   "file_extension": ".py",
   "mimetype": "text/x-python",
   "name": "python",
   "nbconvert_exporter": "python",
   "pygments_lexer": "ipython3",
   "version": "3.13.5"
  }
 },
 "nbformat": 4,
 "nbformat_minor": 5
}
