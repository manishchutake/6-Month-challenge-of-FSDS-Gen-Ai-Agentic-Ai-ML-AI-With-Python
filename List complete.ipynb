{
 "cells": [
  {
   "cell_type": "markdown",
   "id": "68a7b9b2-5efa-49b5-8613-cfa5d7035a9e",
   "metadata": {},
   "source": [
    "# 1- NUMBERS "
   ]
  },
  {
   "cell_type": "code",
   "execution_count": 1,
   "id": "a9c8b21d-d304-472e-9e3a-467b8df91491",
   "metadata": {},
   "outputs": [
    {
     "data": {
      "text/plain": [
       "10"
      ]
     },
     "execution_count": 1,
     "metadata": {},
     "output_type": "execute_result"
    }
   ],
   "source": [
    "10 "
   ]
  },
  {
   "cell_type": "code",
   "execution_count": 2,
   "id": "59610610-83bd-4282-8bde-313c7c20054c",
   "metadata": {},
   "outputs": [
    {
     "data": {
      "text/plain": [
       "5"
      ]
     },
     "execution_count": 2,
     "metadata": {},
     "output_type": "execute_result"
    }
   ],
   "source": [
    "5"
   ]
  },
  {
   "cell_type": "code",
   "execution_count": 3,
   "id": "96192562-b497-49c0-92d9-702842a4211b",
   "metadata": {},
   "outputs": [
    {
     "data": {
      "text/plain": [
       "15"
      ]
     },
     "execution_count": 3,
     "metadata": {},
     "output_type": "execute_result"
    }
   ],
   "source": [
    "10 + 5"
   ]
  },
  {
   "cell_type": "code",
   "execution_count": 4,
   "id": "0a823259-557b-4519-b51b-bf955669d9f1",
   "metadata": {},
   "outputs": [
    {
     "data": {
      "text/plain": [
       "5"
      ]
     },
     "execution_count": 4,
     "metadata": {},
     "output_type": "execute_result"
    }
   ],
   "source": [
    "10- 5"
   ]
  },
  {
   "cell_type": "code",
   "execution_count": 5,
   "id": "90fc2586-af74-41e4-ad80-83e8bfc95c2b",
   "metadata": {},
   "outputs": [
    {
     "data": {
      "text/plain": [
       "2.0"
      ]
     },
     "execution_count": 5,
     "metadata": {},
     "output_type": "execute_result"
    }
   ],
   "source": [
    "10 / 5  #FLOAT DIVISION"
   ]
  },
  {
   "cell_type": "code",
   "execution_count": 6,
   "id": "46db9cb5-9e5c-4910-b630-999babe519e9",
   "metadata": {},
   "outputs": [
    {
     "data": {
      "text/plain": [
       "2"
      ]
     },
     "execution_count": 6,
     "metadata": {},
     "output_type": "execute_result"
    }
   ],
   "source": [
    "10 // 5 #INT DIVISION"
   ]
  },
  {
   "cell_type": "markdown",
   "id": "c5c9f10c-b683-4d39-a929-db6e32db1f6b",
   "metadata": {},
   "source": [
    "# 2- TEXT ( STRING)"
   ]
  },
  {
   "cell_type": "code",
   "execution_count": 7,
   "id": "d06fbee9-1c0c-4104-a564-17a4e1bfad7b",
   "metadata": {},
   "outputs": [
    {
     "data": {
      "text/plain": [
       "'welcome to 7pm fsdsbatch under prakash senapati guidance'"
      ]
     },
     "execution_count": 7,
     "metadata": {},
     "output_type": "execute_result"
    }
   ],
   "source": [
    "'welcome to 7pm fsdsbatch under prakash senapati guidance'"
   ]
  },
  {
   "cell_type": "code",
   "execution_count": 8,
   "id": "ef9c71a3-6e9e-45f6-b9c8-469c504c4822",
   "metadata": {},
   "outputs": [
    {
     "data": {
      "text/plain": [
       "'welcome to 7pm fsdsbatch under prakash senapati guidance'"
      ]
     },
     "execution_count": 8,
     "metadata": {},
     "output_type": "execute_result"
    }
   ],
   "source": [
    "\"welcome to 7pm fsdsbatch under prakash senapati guidance\""
   ]
  },
  {
   "cell_type": "code",
   "execution_count": 9,
   "id": "3e80f118-fa3e-4ebb-b233-92a638daf624",
   "metadata": {},
   "outputs": [
    {
     "ename": "SyntaxError",
     "evalue": "incomplete input (3776282572.py, line 1)",
     "output_type": "error",
     "traceback": [
      "\u001b[1;36m  Cell \u001b[1;32mIn[9], line 1\u001b[1;36m\u001b[0m\n\u001b[1;33m    ''' welcome to 7pm fsdsbatch\u001b[0m\n\u001b[1;37m    ^\u001b[0m\n\u001b[1;31mSyntaxError\u001b[0m\u001b[1;31m:\u001b[0m incomplete input\n"
     ]
    }
   ],
   "source": [
    "''' welcome to 7pm fsdsbatch \n",
    "under prakash senapati guidance \""
   ]
  },
  {
   "cell_type": "code",
   "execution_count": null,
   "id": "71069e1a-3e08-47f9-903b-c604ade82aa3",
   "metadata": {},
   "outputs": [],
   "source": [
    "\" welcome to 7pm fsdsbatch \n",
    "under prakash senapati guidance '''"
   ]
  },
  {
   "cell_type": "code",
   "execution_count": null,
   "id": "c486ab18-bbe3-49e0-83bc-a0147fc05b5f",
   "metadata": {},
   "outputs": [],
   "source": [
    "''' welcome to 7pm fsdsbatch \n",
    "under prakash senapati guidance '''"
   ]
  },
  {
   "cell_type": "markdown",
   "id": "20cb0c5b-9af5-49c3-a1ef-b65618474885",
   "metadata": {},
   "source": [
    "# 3- python variable creation \n",
    "\n",
    "- variable name = value"
   ]
  },
  {
   "cell_type": "code",
   "execution_count": null,
   "id": "27ae1617-0085-406e-a6dc-99af3305aa18",
   "metadata": {},
   "outputs": [],
   "source": [
    "v = 9"
   ]
  },
  {
   "cell_type": "code",
   "execution_count": null,
   "id": "4f519689-7c55-4768-9138-c3f17090b27d",
   "metadata": {},
   "outputs": [],
   "source": [
    "v"
   ]
  },
  {
   "cell_type": "code",
   "execution_count": null,
   "id": "b4e06098-579e-4bbb-a63a-b8d99f5490ae",
   "metadata": {},
   "outputs": [],
   "source": [
    "id(v)"
   ]
  },
  {
   "cell_type": "code",
   "execution_count": null,
   "id": "d1c4ccfe-3ba2-46e7-915e-7363eae53d32",
   "metadata": {},
   "outputs": [],
   "source": [
    "9 = v  "
   ]
  },
  {
   "cell_type": "code",
   "execution_count": null,
   "id": "ece13b19-9f2a-4a23-a756-ac29598509e2",
   "metadata": {},
   "outputs": [],
   "source": [
    "9v = 8"
   ]
  },
  {
   "cell_type": "code",
   "execution_count": null,
   "id": "3dfe000d-ddf5-48e4-9892-91c1f7852f11",
   "metadata": {},
   "outputs": [],
   "source": [
    "v9 = 8\n",
    "v9"
   ]
  },
  {
   "cell_type": "code",
   "execution_count": null,
   "id": "3060cbe5-42bb-4dbc-a7c0-9b80fff4b954",
   "metadata": {},
   "outputs": [],
   "source": [
    "var = 10"
   ]
  },
  {
   "cell_type": "code",
   "execution_count": null,
   "id": "52761ebc-030a-4b39-baf4-5bada7e62835",
   "metadata": {},
   "outputs": [],
   "source": [
    "VAR"
   ]
  },
  {
   "cell_type": "code",
   "execution_count": null,
   "id": "df1afed8-0e76-4160-9290-55de6d6fd351",
   "metadata": {},
   "outputs": [],
   "source": [
    "var"
   ]
  },
  {
   "cell_type": "code",
   "execution_count": null,
   "id": "74a06dab-e440-4a01-882b-d9723277e954",
   "metadata": {},
   "outputs": [],
   "source": [
    "nit = 7\n",
    "narehsit "
   ]
  },
  {
   "cell_type": "code",
   "execution_count": null,
   "id": "8566dedf-221f-4edc-a6f6-eca07e24cb5f",
   "metadata": {},
   "outputs": [],
   "source": [
    "puspa1, puspa2 = 2000"
   ]
  },
  {
   "cell_type": "code",
   "execution_count": null,
   "id": "618a3062-b380-4c17-ae68-cb11b9a8d700",
   "metadata": {},
   "outputs": [],
   "source": [
    "puspa1, puspa2 = 2000, 1800"
   ]
  },
  {
   "cell_type": "code",
   "execution_count": null,
   "id": "87df53f0-f15f-4adb-af56-6e26ce494c9b",
   "metadata": {},
   "outputs": [],
   "source": [
    "puspa1\n",
    "puspa2"
   ]
  },
  {
   "cell_type": "code",
   "execution_count": null,
   "id": "708561c8-744a-4d66-815c-d512fbccd7b6",
   "metadata": {},
   "outputs": [],
   "source": [
    "print(puspa1)\n",
    "print(puspa2)"
   ]
  },
  {
   "cell_type": "code",
   "execution_count": null,
   "id": "b49cea3b-de6d-4b77-9aae-70b2d6e9c819",
   "metadata": {},
   "outputs": [],
   "source": [
    "nit@ = 7"
   ]
  },
  {
   "cell_type": "code",
   "execution_count": null,
   "id": "cf2faa4b-e828-41a8-a057-a066dba91ad5",
   "metadata": {},
   "outputs": [],
   "source": [
    "nit$"
   ]
  },
  {
   "cell_type": "code",
   "execution_count": null,
   "id": "0ef695da-121d-4c2c-9f2f-e7f34551ab4a",
   "metadata": {},
   "outputs": [],
   "source": [
    "nit_ = 7\n",
    "nit_"
   ]
  },
  {
   "cell_type": "code",
   "execution_count": null,
   "id": "f27f4bc7-2f9c-4482-83fe-d92b917d8464",
   "metadata": {},
   "outputs": [],
   "source": [
    "if = 78\n",
    "if"
   ]
  },
  {
   "cell_type": "code",
   "execution_count": null,
   "id": "fd0c9c2f-78a5-4f66-9b30-988c1ab015a9",
   "metadata": {},
   "outputs": [],
   "source": [
    "import keyword\n",
    "keyword.kwlist"
   ]
  },
  {
   "cell_type": "code",
   "execution_count": null,
   "id": "822af319-ab9c-42bc-a27e-970471b5cd01",
   "metadata": {},
   "outputs": [],
   "source": [
    "False = 90"
   ]
  },
  {
   "cell_type": "code",
   "execution_count": null,
   "id": "16385464-34ef-4c6e-8184-44f35908c57b",
   "metadata": {},
   "outputs": [],
   "source": [
    "len(keyword.kwlist)"
   ]
  },
  {
   "cell_type": "markdown",
   "id": "118f464f-6531-416a-a4e9-af83f36f7e22",
   "metadata": {},
   "source": [
    "# 28th -- python dattype"
   ]
  },
  {
   "cell_type": "code",
   "execution_count": null,
   "id": "2ff9bd84-857c-475a-9206-2c1f46898a4c",
   "metadata": {},
   "outputs": [],
   "source": [
    "i = 45\n",
    "i"
   ]
  },
  {
   "cell_type": "code",
   "execution_count": null,
   "id": "261a8e42-15cd-4666-a1db-b28096b1c911",
   "metadata": {},
   "outputs": [],
   "source": [
    "type(i) "
   ]
  },
  {
   "cell_type": "code",
   "execution_count": null,
   "id": "a0a8776c-265d-4a43-a604-2ded02742465",
   "metadata": {},
   "outputs": [],
   "source": [
    "f = 110.45\n",
    "f"
   ]
  },
  {
   "cell_type": "code",
   "execution_count": null,
   "id": "8b3b44ba-f0a8-4111-8aec-2c5156022378",
   "metadata": {},
   "outputs": [],
   "source": [
    "type(f)"
   ]
  },
  {
   "cell_type": "code",
   "execution_count": null,
   "id": "7a1b9c1d-6e91-4922-b8e4-55abeecff3a5",
   "metadata": {},
   "outputs": [],
   "source": [
    "f_gold_price = 99999.90"
   ]
  },
  {
   "cell_type": "code",
   "execution_count": null,
   "id": "4e6361d2-da8c-4501-8da0-1480e27eb4fd",
   "metadata": {},
   "outputs": [],
   "source": [
    "f_gold_price"
   ]
  },
  {
   "cell_type": "code",
   "execution_count": null,
   "id": "8f69228e-793b-4bfa-9de2-9f3fdeedfbc4",
   "metadata": {},
   "outputs": [],
   "source": [
    "f1 = 1e0 \n",
    "f1 "
   ]
  },
  {
   "cell_type": "code",
   "execution_count": null,
   "id": "ba00a6d6-4c32-44fb-97e1-810f983f819c",
   "metadata": {},
   "outputs": [],
   "source": [
    "type(f1)"
   ]
  },
  {
   "cell_type": "code",
   "execution_count": null,
   "id": "def32c78-7010-4ab7-80ce-90f7b3bf68b1",
   "metadata": {},
   "outputs": [],
   "source": [
    "f2 = 2e1\n",
    "f2"
   ]
  },
  {
   "cell_type": "code",
   "execution_count": null,
   "id": "886a21f5-8cd8-4dd0-890d-b9f2a10583e7",
   "metadata": {},
   "outputs": [],
   "source": [
    "f3 = 2.4e2\n",
    "f3"
   ]
  },
  {
   "cell_type": "code",
   "execution_count": null,
   "id": "493b7e5d-985a-46ca-8a2a-4f84ef4d2496",
   "metadata": {},
   "outputs": [],
   "source": [
    "f4 = 2.5E3\n",
    "f4"
   ]
  },
  {
   "cell_type": "code",
   "execution_count": null,
   "id": "360fcb57-a4d4-4e18-a0a6-42e70444ea35",
   "metadata": {},
   "outputs": [],
   "source": [
    "f5 = 2.5z1\n",
    "f5"
   ]
  },
  {
   "cell_type": "code",
   "execution_count": null,
   "id": "4345eba9-d440-4537-a3df-4095b006fa7b",
   "metadata": {},
   "outputs": [],
   "source": [
    "true"
   ]
  },
  {
   "cell_type": "code",
   "execution_count": null,
   "id": "b3243ea3-5739-4580-a80e-d61f92b92b9a",
   "metadata": {},
   "outputs": [],
   "source": [
    "import keyword\n",
    "keyword.kwlist"
   ]
  },
  {
   "cell_type": "code",
   "execution_count": null,
   "id": "49de27e0-05af-44dc-9de4-8a977d11ce93",
   "metadata": {},
   "outputs": [],
   "source": [
    "TRUE"
   ]
  },
  {
   "cell_type": "code",
   "execution_count": null,
   "id": "9e7ff08a-8e44-45c0-84e2-f9e1ec690d22",
   "metadata": {},
   "outputs": [],
   "source": [
    "True"
   ]
  },
  {
   "cell_type": "code",
   "execution_count": null,
   "id": "57e5af79-b4cc-4669-8b6d-e1682b5d595f",
   "metadata": {},
   "outputs": [],
   "source": [
    "false"
   ]
  },
  {
   "cell_type": "code",
   "execution_count": null,
   "id": "ec2b971e-a318-4adf-add1-6c10479d6186",
   "metadata": {},
   "outputs": [],
   "source": [
    "False"
   ]
  },
  {
   "cell_type": "code",
   "execution_count": null,
   "id": "59f84706-216d-4a5d-b310-69298de45ce3",
   "metadata": {},
   "outputs": [],
   "source": [
    "True + False "
   ]
  },
  {
   "cell_type": "code",
   "execution_count": null,
   "id": "beba72e1-bc04-4238-a01c-c7be1c8d277a",
   "metadata": {},
   "outputs": [],
   "source": [
    "True + True"
   ]
  },
  {
   "cell_type": "code",
   "execution_count": null,
   "id": "a23292da-002d-4b89-9a86-9044c993e652",
   "metadata": {},
   "outputs": [],
   "source": [
    "True * fALSE"
   ]
  },
  {
   "cell_type": "code",
   "execution_count": null,
   "id": "8206eddd-7184-4f6e-8e32-4392ef941f7f",
   "metadata": {},
   "outputs": [],
   "source": [
    "True * False"
   ]
  },
  {
   "cell_type": "code",
   "execution_count": null,
   "id": "48a29fdf-0a78-4669-80bf-a4ff369fb092",
   "metadata": {},
   "outputs": [],
   "source": [
    "False / True "
   ]
  },
  {
   "cell_type": "code",
   "execution_count": null,
   "id": "9a4e2ed9-f75b-4722-a572-284a5bfddf3a",
   "metadata": {},
   "outputs": [],
   "source": [
    "False // True"
   ]
  },
  {
   "cell_type": "code",
   "execution_count": null,
   "id": "d762649a-fe3a-40a5-b8fe-e3f85d8868a3",
   "metadata": {},
   "outputs": [],
   "source": [
    "True / False "
   ]
  },
  {
   "cell_type": "code",
   "execution_count": null,
   "id": "63ed3925-2183-4bcb-bd6f-a00c416d2c48",
   "metadata": {},
   "outputs": [],
   "source": [
    "True"
   ]
  },
  {
   "cell_type": "code",
   "execution_count": null,
   "id": "0a317289-94ce-4a5f-9cb6-4b002ae93706",
   "metadata": {},
   "outputs": [],
   "source": [
    "int(True)"
   ]
  },
  {
   "cell_type": "code",
   "execution_count": null,
   "id": "e504f4f0-28d6-48ce-bb94-72d37ee2f1e8",
   "metadata": {},
   "outputs": [],
   "source": [
    "int(False)"
   ]
  },
  {
   "cell_type": "markdown",
   "id": "2bd5200b-c4c3-40ed-898c-87fa2edb7b26",
   "metadata": {},
   "source": [
    "# 29th "
   ]
  },
  {
   "cell_type": "markdown",
   "id": "3d0438ce-4223-4a3b-99b5-1ea6e8b15d45",
   "metadata": {},
   "source": [
    "# int, float, bool"
   ]
  },
  {
   "cell_type": "code",
   "execution_count": null,
   "id": "c24fb82c-5d3a-469a-9957-5725d17b107e",
   "metadata": {},
   "outputs": [],
   "source": [
    "c = 1 + 2j\n",
    "c"
   ]
  },
  {
   "cell_type": "code",
   "execution_count": null,
   "id": "7de192b9-d421-4273-b16d-5ec9f4e083ad",
   "metadata": {},
   "outputs": [],
   "source": [
    "type(c)"
   ]
  },
  {
   "cell_type": "code",
   "execution_count": null,
   "id": "0505c012-5d15-46a2-9886-e4cdf76647c2",
   "metadata": {},
   "outputs": [],
   "source": [
    "c.real"
   ]
  },
  {
   "cell_type": "code",
   "execution_count": null,
   "id": "eebfaa79-1bed-4337-9e28-032dda0f5bff",
   "metadata": {},
   "outputs": [],
   "source": [
    "c.imag"
   ]
  },
  {
   "cell_type": "code",
   "execution_count": null,
   "id": "c72c085d-14a4-4436-86ec-f694f7656b5f",
   "metadata": {},
   "outputs": [],
   "source": [
    "c = 10 + 20j\n",
    "d = 30 + 40j"
   ]
  },
  {
   "cell_type": "code",
   "execution_count": null,
   "id": "e0454789-b73a-4e79-9a21-6209a7955a65",
   "metadata": {},
   "outputs": [],
   "source": [
    "e = c + d\n",
    "e"
   ]
  },
  {
   "cell_type": "code",
   "execution_count": null,
   "id": "1d92dab7-ba02-4ab9-886c-f241b011edc8",
   "metadata": {},
   "outputs": [],
   "source": [
    "s = 'nareshit'"
   ]
  },
  {
   "cell_type": "code",
   "execution_count": null,
   "id": "1fb802dc-0013-454d-92d3-4709d222b7ba",
   "metadata": {},
   "outputs": [],
   "source": [
    "s"
   ]
  },
  {
   "cell_type": "code",
   "execution_count": null,
   "id": "2f697c6b-c70d-4b05-8f56-8f8aca4ffa8e",
   "metadata": {},
   "outputs": [],
   "source": [
    "s[0]"
   ]
  },
  {
   "cell_type": "code",
   "execution_count": null,
   "id": "af60db67-8ba6-411c-92a9-595e633209df",
   "metadata": {},
   "outputs": [],
   "source": [
    "s[1]"
   ]
  },
  {
   "cell_type": "code",
   "execution_count": null,
   "id": "a0d2c158-ee28-45c4-85d5-940e999bedc5",
   "metadata": {},
   "outputs": [],
   "source": [
    "s"
   ]
  },
  {
   "cell_type": "code",
   "execution_count": null,
   "id": "8fb6093c-4982-4298-8051-02e2b7bfdc12",
   "metadata": {},
   "outputs": [],
   "source": [
    "s1 = 'technology'\n",
    "s2 = 'under guidance of prakash senapati'"
   ]
  },
  {
   "cell_type": "code",
   "execution_count": null,
   "id": "f1705f6a-f8ce-4799-a96f-14ad41d20323",
   "metadata": {},
   "outputs": [],
   "source": [
    "s\n",
    "s1\n",
    "s2"
   ]
  },
  {
   "cell_type": "code",
   "execution_count": null,
   "id": "3c79de6c-a07f-45d2-95c2-efea40f1ed48",
   "metadata": {},
   "outputs": [],
   "source": [
    "print(s)\n",
    "print(s1)\n",
    "print(s2)"
   ]
  },
  {
   "cell_type": "code",
   "execution_count": null,
   "id": "61762e1d-6e9e-4512-b78b-d3cd7946029a",
   "metadata": {},
   "outputs": [],
   "source": [
    "s + s1 + s2"
   ]
  },
  {
   "cell_type": "code",
   "execution_count": null,
   "id": "f68a6866-7477-46c3-ac9a-7850dfae4b05",
   "metadata": {},
   "outputs": [],
   "source": [
    "s +  s1"
   ]
  },
  {
   "cell_type": "code",
   "execution_count": null,
   "id": "bf12a973-1f3f-4464-862f-0c27a3091e28",
   "metadata": {},
   "outputs": [],
   "source": [
    "s * s1"
   ]
  },
  {
   "cell_type": "code",
   "execution_count": null,
   "id": "642de6fd-ec70-4dc2-891d-aad6a4e9b1e9",
   "metadata": {},
   "outputs": [],
   "source": [
    " print(10)"
   ]
  },
  {
   "cell_type": "code",
   "execution_count": null,
   "id": "4681651c-05d6-4d9b-b2a0-ab4f9c298f78",
   "metadata": {},
   "outputs": [],
   "source": [
    "print(10, 2.4,'nit',True,1+2j,)"
   ]
  },
  {
   "cell_type": "code",
   "execution_count": null,
   "id": "019843e4-d195-4bde-9c67-ef57a2782fc3",
   "metadata": {},
   "outputs": [],
   "source": [
    "num1=20 \n",
    "num2=30\n",
    "add=num1+num2\n",
    "add"
   ]
  },
  {
   "cell_type": "code",
   "execution_count": null,
   "id": "4e108693-8fad-4226-853b-2224ec7715f4",
   "metadata": {},
   "outputs": [],
   "source": [
    "print('The addition of',num1,'and',num2,'is=',add)"
   ]
  },
  {
   "cell_type": "markdown",
   "id": "dd429ece-121f-4e7a-96aa-89d34fcf3ed8",
   "metadata": {},
   "source": [
    "# print Format method"
   ]
  },
  {
   "cell_type": "code",
   "execution_count": null,
   "id": "4b3aa5cf-f03f-4e1e-bfe7-7992acd08df2",
   "metadata": {},
   "outputs": [],
   "source": [
    "num1=20 \n",
    "num2=30\n",
    "add=num1+num2\n",
    "\n",
    "print('The addition of {} and {} is= {}'.format(num1,num2,add))"
   ]
  },
  {
   "cell_type": "code",
   "execution_count": null,
   "id": "8037eaac-8a08-4d5d-8c8c-41265a16f8bd",
   "metadata": {},
   "outputs": [],
   "source": [
    "num1=20 \n",
    "num2=30\n",
    "num3=40\n",
    "add=num1+num2+num3\n",
    "\n",
    "print('The addition of {} and {} and {} is= {}'.format(num1,num2,num3,add))"
   ]
  },
  {
   "cell_type": "code",
   "execution_count": null,
   "id": "7d831058-16b5-4e03-ac47-b65d355f63b6",
   "metadata": {},
   "outputs": [],
   "source": [
    "print('hello') # 1st statement\n",
    "print('good moorning') # 2nd statement)\n",
    "\n",
    "# i want print like:- hellow good morning"
   ]
  },
  {
   "cell_type": "code",
   "execution_count": null,
   "id": "5863ce28-6455-4fed-a1ac-3d7947680701",
   "metadata": {},
   "outputs": [],
   "source": [
    "print('hello', end=' ') # 1st statement\n",
    "print('good night') # 2nd statement"
   ]
  },
  {
   "cell_type": "code",
   "execution_count": null,
   "id": "04af6133-0481-412d-8aec-219036d84516",
   "metadata": {},
   "outputs": [],
   "source": [
    "print('hello','hai','how are you',sep='--->')"
   ]
  },
  {
   "cell_type": "code",
   "execution_count": null,
   "id": "8fcc298b-bdcf-48c9-898e-f8e0458a4302",
   "metadata": {},
   "outputs": [],
   "source": [
    "print('hello','hai','how are you',sep='***&&&&--->')"
   ]
  },
  {
   "cell_type": "markdown",
   "id": "b7b4f313-0622-40bf-af94-4db0885f28c5",
   "metadata": {},
   "source": [
    "# 31st python type casting"
   ]
  },
  {
   "cell_type": "code",
   "execution_count": null,
   "id": "d9670dc5-79d1-48dc-9647-fef7ada0b5f7",
   "metadata": {},
   "outputs": [],
   "source": [
    "int(2.3) "
   ]
  },
  {
   "cell_type": "code",
   "execution_count": null,
   "id": "642d2c5c-3d24-4e32-9d04-ad4ef39e35d2",
   "metadata": {},
   "outputs": [],
   "source": [
    "int(2.3, 3.4)"
   ]
  },
  {
   "cell_type": "code",
   "execution_count": null,
   "id": "ba5e722f-60ab-4cf4-bcb1-802addd8f94c",
   "metadata": {},
   "outputs": [],
   "source": [
    "int(True)"
   ]
  },
  {
   "cell_type": "code",
   "execution_count": null,
   "id": "e12812ac-ec08-486b-8c1c-5f2ec249af34",
   "metadata": {},
   "outputs": [],
   "source": [
    "int(False)"
   ]
  },
  {
   "cell_type": "code",
   "execution_count": null,
   "id": "d5a9ff16-8424-4479-a7ef-2ad4724fb52e",
   "metadata": {},
   "outputs": [],
   "source": [
    "int(1+2j) "
   ]
  },
  {
   "cell_type": "code",
   "execution_count": null,
   "id": "1f9b2e90-7980-4b1b-8583-3cb274403720",
   "metadata": {},
   "outputs": [],
   "source": [
    "int('10')"
   ]
  },
  {
   "cell_type": "code",
   "execution_count": null,
   "id": "0f1df0aa-f4ec-4fb0-a5ce-aea223a4ee03",
   "metadata": {},
   "outputs": [],
   "source": [
    "int('ten')"
   ]
  },
  {
   "cell_type": "code",
   "execution_count": null,
   "id": "bb39f915-0b08-4a61-afcf-eca95e343c65",
   "metadata": {},
   "outputs": [],
   "source": [
    "float(10)"
   ]
  },
  {
   "cell_type": "code",
   "execution_count": null,
   "id": "0cc1cb15-68d2-41f4-a27e-6f431aa5e00d",
   "metadata": {},
   "outputs": [],
   "source": [
    "float(10, 20)"
   ]
  },
  {
   "cell_type": "code",
   "execution_count": null,
   "id": "f9dbe759-17cd-4286-ba9c-b86213171ab1",
   "metadata": {},
   "outputs": [],
   "source": [
    "float(True)"
   ]
  },
  {
   "cell_type": "code",
   "execution_count": null,
   "id": "4147f69f-27a8-42fc-b760-568d97ff87f5",
   "metadata": {},
   "outputs": [],
   "source": [
    "float(False)"
   ]
  },
  {
   "cell_type": "code",
   "execution_count": null,
   "id": "c114ddf0-0a36-48a8-9613-0eebdb7a1e32",
   "metadata": {},
   "outputs": [],
   "source": [
    "float(1+2j)"
   ]
  },
  {
   "cell_type": "code",
   "execution_count": null,
   "id": "c78d28e3-f9cb-41f0-9387-60ecac88cc9d",
   "metadata": {},
   "outputs": [],
   "source": [
    "float('10')"
   ]
  },
  {
   "cell_type": "code",
   "execution_count": null,
   "id": "b2cd13a2-d57b-468b-85e2-45fe0811bd1e",
   "metadata": {},
   "outputs": [],
   "source": [
    "float('ten')"
   ]
  },
  {
   "cell_type": "code",
   "execution_count": null,
   "id": "3c3bf53a-3974-4958-a513-7d743f3a1dad",
   "metadata": {},
   "outputs": [],
   "source": [
    "complex(10)"
   ]
  },
  {
   "cell_type": "code",
   "execution_count": null,
   "id": "21b6ddad-2331-41e5-92c4-1e56923af436",
   "metadata": {},
   "outputs": [],
   "source": [
    "complex(10,20)"
   ]
  },
  {
   "cell_type": "code",
   "execution_count": null,
   "id": "5de38198-ca9d-4bc7-a5e1-5b35521949ad",
   "metadata": {},
   "outputs": [],
   "source": [
    "complex(10,20,30)"
   ]
  },
  {
   "cell_type": "code",
   "execution_count": null,
   "id": "deaafb96-e71e-4b85-a4ed-b03d2a459a4a",
   "metadata": {},
   "outputs": [],
   "source": [
    "complex(2.3) "
   ]
  },
  {
   "cell_type": "code",
   "execution_count": null,
   "id": "fdd76094-3477-4bf3-8228-815a6378878e",
   "metadata": {},
   "outputs": [],
   "source": [
    "complex(2.3, 3.4)"
   ]
  },
  {
   "cell_type": "code",
   "execution_count": null,
   "id": "79f2bf81-0cc2-4861-b4f6-0b3779d8e68e",
   "metadata": {},
   "outputs": [],
   "source": [
    "complex(10, '10')"
   ]
  },
  {
   "cell_type": "code",
   "execution_count": null,
   "id": "837b3a95-f0c7-4a5f-9a11-07a94e4c6d11",
   "metadata": {},
   "outputs": [],
   "source": [
    "complex('10', 10)"
   ]
  },
  {
   "cell_type": "code",
   "execution_count": null,
   "id": "9101674b-5732-4733-bf39-3dc4bb2b8815",
   "metadata": {},
   "outputs": [],
   "source": [
    "complex('10')"
   ]
  },
  {
   "cell_type": "code",
   "execution_count": null,
   "id": "97ec30d7-b54e-4852-9c14-b0deb928eb33",
   "metadata": {},
   "outputs": [],
   "source": [
    "complex(10,int('10')) "
   ]
  },
  {
   "cell_type": "code",
   "execution_count": null,
   "id": "3653b8dc-271f-49af-af77-ba109815a92b",
   "metadata": {},
   "outputs": [],
   "source": [
    "complex(True, False)"
   ]
  },
  {
   "cell_type": "code",
   "execution_count": null,
   "id": "499fd535-25a0-43e1-809b-c9a7e1ac392d",
   "metadata": {},
   "outputs": [],
   "source": [
    "complex(False,False)"
   ]
  },
  {
   "cell_type": "code",
   "execution_count": null,
   "id": "582426c7-9e1c-4f06-b873-1a7bcea16056",
   "metadata": {},
   "outputs": [],
   "source": [
    "bool(1)"
   ]
  },
  {
   "cell_type": "code",
   "execution_count": null,
   "id": "80b10250-6033-40b0-95de-668f3bc0c76e",
   "metadata": {},
   "outputs": [],
   "source": [
    "bool(13)"
   ]
  },
  {
   "cell_type": "code",
   "execution_count": null,
   "id": "3c2e4a39-ccb0-41a6-a560-9debd9d3d56d",
   "metadata": {},
   "outputs": [],
   "source": [
    "bool()"
   ]
  },
  {
   "cell_type": "code",
   "execution_count": null,
   "id": "60d701cd-1f19-416a-bbb4-5be67f76893f",
   "metadata": {},
   "outputs": [],
   "source": [
    "bool( )"
   ]
  },
  {
   "cell_type": "code",
   "execution_count": null,
   "id": "3c166c59-b917-401f-93ee-bad3e9f8362f",
   "metadata": {},
   "outputs": [],
   "source": [
    "bool(1.2)"
   ]
  },
  {
   "cell_type": "code",
   "execution_count": null,
   "id": "5bfd3885-15a1-452f-9bce-36598cc707f4",
   "metadata": {},
   "outputs": [],
   "source": [
    "bool('10')"
   ]
  },
  {
   "cell_type": "code",
   "execution_count": null,
   "id": "3002975a-b6fc-4794-8373-22aa2009760e",
   "metadata": {},
   "outputs": [],
   "source": [
    "bool('ten')"
   ]
  },
  {
   "cell_type": "code",
   "execution_count": null,
   "id": "fc0bc016-b50c-4c7e-ae75-1ca4d51c5ff0",
   "metadata": {},
   "outputs": [],
   "source": [
    "bool(1+2j)"
   ]
  },
  {
   "cell_type": "code",
   "execution_count": null,
   "id": "6261d427-642a-4bd0-97f4-201c67afbbeb",
   "metadata": {},
   "outputs": [],
   "source": [
    "bool(0+0j)"
   ]
  },
  {
   "cell_type": "code",
   "execution_count": null,
   "id": "1056aaf0-5482-4156-b96e-e442fef02d5e",
   "metadata": {},
   "outputs": [],
   "source": [
    "print(str(1))\n",
    "print(str(1.2))\n",
    "print(str(True))\n",
    "print(str(1+2j))"
   ]
  },
  {
   "cell_type": "markdown",
   "id": "cc5cd423-6299-474c-81a0-4b1c5ddf8eda",
   "metadata": {},
   "source": [
    "# string indexing \n",
    "        - forward indexing \n",
    "        - backward indexing \n",
    "        - step indexinbg "
   ]
  },
  {
   "cell_type": "code",
   "execution_count": null,
   "id": "9ae11c6f-f391-44b9-abd3-30b783bed66d",
   "metadata": {},
   "outputs": [],
   "source": [
    "s = 'hello'\n",
    "s"
   ]
  },
  {
   "cell_type": "code",
   "execution_count": null,
   "id": "f5e02bee-a6ec-46b9-9c45-54bc5fce4f29",
   "metadata": {},
   "outputs": [],
   "source": [
    "s[0]"
   ]
  },
  {
   "cell_type": "code",
   "execution_count": null,
   "id": "c143ba88-393f-4057-9e52-ffe2c632b21e",
   "metadata": {},
   "outputs": [],
   "source": [
    "s[-1]"
   ]
  },
  {
   "cell_type": "code",
   "execution_count": null,
   "id": "3289b8f5-cfc9-4bfe-8729-c93c09eeba16",
   "metadata": {},
   "outputs": [],
   "source": [
    "s"
   ]
  },
  {
   "cell_type": "code",
   "execution_count": null,
   "id": "5197b230-14fe-43b5-9ec2-cb655995527c",
   "metadata": {},
   "outputs": [],
   "source": [
    "s[10]"
   ]
  },
  {
   "cell_type": "code",
   "execution_count": null,
   "id": "12c27786-1b01-4e29-af4a-2a2e2eb198a4",
   "metadata": {},
   "outputs": [],
   "source": [
    "s"
   ]
  },
  {
   "cell_type": "code",
   "execution_count": null,
   "id": "7dced278-3ae1-4438-99c5-169f99d5eb61",
   "metadata": {},
   "outputs": [],
   "source": [
    "s[:]"
   ]
  },
  {
   "cell_type": "code",
   "execution_count": null,
   "id": "41340a05-e543-43a3-bfbf-cdcb796fd9d2",
   "metadata": {},
   "outputs": [],
   "source": [
    "s[0:1]"
   ]
  },
  {
   "cell_type": "code",
   "execution_count": null,
   "id": "9b0a29dc-c664-44a1-9302-56bcf2b52289",
   "metadata": {},
   "outputs": [],
   "source": [
    "s[0:2]"
   ]
  },
  {
   "cell_type": "code",
   "execution_count": null,
   "id": "b5980ebe-8dff-45c0-b9e4-d2b58350af0f",
   "metadata": {},
   "outputs": [],
   "source": [
    "s"
   ]
  },
  {
   "cell_type": "code",
   "execution_count": null,
   "id": "26d77573-f533-459d-bbb2-5b470787339d",
   "metadata": {},
   "outputs": [],
   "source": [
    "print(s[0])\n",
    "print(s[1])\n",
    "print(s[2])\n",
    "print(s[3])\n",
    "print(s[4])"
   ]
  },
  {
   "cell_type": "code",
   "execution_count": null,
   "id": "72be55c4-0174-4da1-a6c0-5ecd63abf9e6",
   "metadata": {},
   "outputs": [],
   "source": [
    "s"
   ]
  },
  {
   "cell_type": "code",
   "execution_count": null,
   "id": "885a62d7-340c-4179-97ce-ff004105961f",
   "metadata": {},
   "outputs": [],
   "source": [
    "for i in s:\n",
    "    print(i)"
   ]
  },
  {
   "cell_type": "code",
   "execution_count": null,
   "id": "c081bd2f-22f9-4e72-bab2-90a72f27521e",
   "metadata": {},
   "outputs": [],
   "source": [
    "s"
   ]
  },
  {
   "cell_type": "code",
   "execution_count": null,
   "id": "9a92d3fb-8ea4-463c-a464-5ad1c2c59e23",
   "metadata": {},
   "outputs": [],
   "source": [
    "s1 = 'nareshit'"
   ]
  },
  {
   "cell_type": "code",
   "execution_count": null,
   "id": "183ccfea-ca0b-4973-bb5f-d6a7ecb8cc55",
   "metadata": {},
   "outputs": [],
   "source": [
    "s + s1"
   ]
  },
  {
   "cell_type": "code",
   "execution_count": null,
   "id": "3f59975f-d718-4f75-97b9-f8621f04adbb",
   "metadata": {},
   "outputs": [],
   "source": [
    "s3 = s + s1\n",
    "s3"
   ]
  },
  {
   "cell_type": "code",
   "execution_count": null,
   "id": "835dbd9f-8c79-44a7-a945-42d817eb33c7",
   "metadata": {},
   "outputs": [],
   "source": [
    "s"
   ]
  },
  {
   "cell_type": "code",
   "execution_count": null,
   "id": "9b44fbec-daad-4c55-9cfb-bd58671fd9a8",
   "metadata": {},
   "outputs": [],
   "source": [
    "s[2:5]"
   ]
  },
  {
   "cell_type": "code",
   "execution_count": null,
   "id": "5867138a-0e53-4122-a046-bafe2e97b92f",
   "metadata": {},
   "outputs": [],
   "source": [
    "s"
   ]
  },
  {
   "cell_type": "code",
   "execution_count": null,
   "id": "76c9c224-2db7-421b-92a5-8d8b9c225a36",
   "metadata": {},
   "outputs": [],
   "source": [
    "s2 = ['r','g','y']\n",
    "s2"
   ]
  },
  {
   "cell_type": "code",
   "execution_count": null,
   "id": "d7f92ebc-06fa-43fb-8661-043c64ab031c",
   "metadata": {},
   "outputs": [],
   "source": [
    "s2[1:4]"
   ]
  },
  {
   "cell_type": "markdown",
   "id": "61581276-158b-4532-8631-7e27aa5dc354",
   "metadata": {},
   "source": [
    "# type casting we are completed "
   ]
  },
  {
   "cell_type": "markdown",
   "id": "376e207f-b269-405a-82f6-4d3b68403738",
   "metadata": {},
   "source": [
    "# 1st -- PYTHON DATASTRUCTURE"
   ]
  },
  {
   "cell_type": "code",
   "execution_count": 10,
   "id": "ca21d76b-b5b9-4d38-9914-d79ba06787fe",
   "metadata": {},
   "outputs": [
    {
     "data": {
      "text/plain": [
       "[]"
      ]
     },
     "execution_count": 10,
     "metadata": {},
     "output_type": "execute_result"
    }
   ],
   "source": [
    "l = [] \n",
    "l"
   ]
  },
  {
   "cell_type": "code",
   "execution_count": 11,
   "id": "fbfb1c80-df7c-421d-ab1a-7e7d91b72d5f",
   "metadata": {},
   "outputs": [
    {
     "data": {
      "text/plain": [
       "list"
      ]
     },
     "execution_count": 11,
     "metadata": {},
     "output_type": "execute_result"
    }
   ],
   "source": [
    "type(l)"
   ]
  },
  {
   "cell_type": "code",
   "execution_count": 12,
   "id": "9201aaa3-f417-490d-b569-ecce865411bc",
   "metadata": {},
   "outputs": [
    {
     "data": {
      "text/plain": [
       "0"
      ]
     },
     "execution_count": 12,
     "metadata": {},
     "output_type": "execute_result"
    }
   ],
   "source": [
    "len(l)"
   ]
  },
  {
   "cell_type": "code",
   "execution_count": 13,
   "id": "bc9dc02a-5186-4a03-b380-7517392dcb1a",
   "metadata": {},
   "outputs": [
    {
     "data": {
      "text/plain": [
       "1524473820544"
      ]
     },
     "execution_count": 13,
     "metadata": {},
     "output_type": "execute_result"
    }
   ],
   "source": [
    "id(l)"
   ]
  },
  {
   "cell_type": "code",
   "execution_count": 14,
   "id": "877ad671-b13a-4255-bf92-c93f6b24e5fb",
   "metadata": {},
   "outputs": [
    {
     "ename": "TypeError",
     "evalue": "list.append() takes exactly one argument (0 given)",
     "output_type": "error",
     "traceback": [
      "\u001b[1;31m---------------------------------------------------------------------------\u001b[0m",
      "\u001b[1;31mTypeError\u001b[0m                                 Traceback (most recent call last)",
      "Cell \u001b[1;32mIn[14], line 1\u001b[0m\n\u001b[1;32m----> 1\u001b[0m l\u001b[38;5;241m.\u001b[39mappend()\n",
      "\u001b[1;31mTypeError\u001b[0m: list.append() takes exactly one argument (0 given)"
     ]
    }
   ],
   "source": [
    "l.append()"
   ]
  },
  {
   "cell_type": "code",
   "execution_count": null,
   "id": "b53a4a3b-4990-4ff5-930b-c399de834ca1",
   "metadata": {},
   "outputs": [],
   "source": [
    "l.append(10)"
   ]
  },
  {
   "cell_type": "code",
   "execution_count": null,
   "id": "d8e9c24b-089b-4aa0-ba71-a860f0afeb3a",
   "metadata": {},
   "outputs": [],
   "source": [
    "l"
   ]
  },
  {
   "cell_type": "code",
   "execution_count": null,
   "id": "3dbcab4d-002e-45bf-a8c5-8593bb79615c",
   "metadata": {},
   "outputs": [],
   "source": [
    "len(l)"
   ]
  },
  {
   "cell_type": "code",
   "execution_count": null,
   "id": "8cf510fc-8ccc-41aa-9019-2c5daa4c891f",
   "metadata": {},
   "outputs": [],
   "source": [
    "l.append(20)\n",
    "l.append(30)\n",
    "l.append(40)\n",
    "l.append(50)"
   ]
  },
  {
   "cell_type": "code",
   "execution_count": null,
   "id": "f2902bcf-2d0f-465d-b409-fb657e769e17",
   "metadata": {},
   "outputs": [],
   "source": [
    "l"
   ]
  },
  {
   "cell_type": "code",
   "execution_count": null,
   "id": "95e691aa-7a50-4290-b31a-10a8740daa2f",
   "metadata": {},
   "outputs": [],
   "source": [
    "len(l)"
   ]
  },
  {
   "cell_type": "code",
   "execution_count": null,
   "id": "f0160160-19e5-4b44-b1c6-c62cff0e2c3e",
   "metadata": {},
   "outputs": [],
   "source": [
    "l"
   ]
  },
  {
   "cell_type": "code",
   "execution_count": null,
   "id": "2f87bda7-9198-4176-804f-75f3c7c32b3d",
   "metadata": {},
   "outputs": [],
   "source": [
    "l1 = l.copy() \n",
    "l1"
   ]
  },
  {
   "cell_type": "code",
   "execution_count": null,
   "id": "3ae7641b-d166-4c87-89ea-dfbfc3beee3f",
   "metadata": {},
   "outputs": [],
   "source": [
    "l == l1"
   ]
  },
  {
   "cell_type": "code",
   "execution_count": null,
   "id": "731e1d02-9a60-4709-8f86-c6485efff306",
   "metadata": {},
   "outputs": [],
   "source": [
    "l != l1"
   ]
  },
  {
   "cell_type": "code",
   "execution_count": null,
   "id": "74de6620-2baf-49ba-a9c2-19125a3f92aa",
   "metadata": {},
   "outputs": [],
   "source": [
    "l1"
   ]
  },
  {
   "cell_type": "code",
   "execution_count": 15,
   "id": "51e06701-e59b-44cd-a536-90b3867ba880",
   "metadata": {},
   "outputs": [
    {
     "ename": "NameError",
     "evalue": "name 'l1' is not defined",
     "output_type": "error",
     "traceback": [
      "\u001b[1;31m---------------------------------------------------------------------------\u001b[0m",
      "\u001b[1;31mNameError\u001b[0m                                 Traceback (most recent call last)",
      "Cell \u001b[1;32mIn[15], line 1\u001b[0m\n\u001b[1;32m----> 1\u001b[0m l1\u001b[38;5;241m.\u001b[39mappend(\u001b[38;5;241m100\u001b[39m)\n",
      "\u001b[1;31mNameError\u001b[0m: name 'l1' is not defined"
     ]
    }
   ],
   "source": [
    "l1.append(100)"
   ]
  },
  {
   "cell_type": "code",
   "execution_count": 16,
   "id": "543bbd7b-2b8e-4d64-aded-6b9fda14a5ab",
   "metadata": {},
   "outputs": [
    {
     "ename": "NameError",
     "evalue": "name 'l1' is not defined",
     "output_type": "error",
     "traceback": [
      "\u001b[1;31m---------------------------------------------------------------------------\u001b[0m",
      "\u001b[1;31mNameError\u001b[0m                                 Traceback (most recent call last)",
      "Cell \u001b[1;32mIn[16], line 1\u001b[0m\n\u001b[1;32m----> 1\u001b[0m l1\n",
      "\u001b[1;31mNameError\u001b[0m: name 'l1' is not defined"
     ]
    }
   ],
   "source": [
    "l1"
   ]
  },
  {
   "cell_type": "code",
   "execution_count": 17,
   "id": "7ea9199d-2f53-4b2e-90b1-756e47e754fd",
   "metadata": {},
   "outputs": [
    {
     "ename": "NameError",
     "evalue": "name 'l1' is not defined",
     "output_type": "error",
     "traceback": [
      "\u001b[1;31m---------------------------------------------------------------------------\u001b[0m",
      "\u001b[1;31mNameError\u001b[0m                                 Traceback (most recent call last)",
      "Cell \u001b[1;32mIn[17], line 1\u001b[0m\n\u001b[1;32m----> 1\u001b[0m l \u001b[38;5;241m==\u001b[39m l1\n",
      "\u001b[1;31mNameError\u001b[0m: name 'l1' is not defined"
     ]
    }
   ],
   "source": [
    "l == l1"
   ]
  },
  {
   "cell_type": "code",
   "execution_count": 18,
   "id": "42bc7867-a788-428e-9202-ae2de429bbe8",
   "metadata": {},
   "outputs": [
    {
     "ename": "NameError",
     "evalue": "name 'l1' is not defined",
     "output_type": "error",
     "traceback": [
      "\u001b[1;31m---------------------------------------------------------------------------\u001b[0m",
      "\u001b[1;31mNameError\u001b[0m                                 Traceback (most recent call last)",
      "Cell \u001b[1;32mIn[18], line 1\u001b[0m\n\u001b[1;32m----> 1\u001b[0m l \u001b[38;5;241m!=\u001b[39m l1\n",
      "\u001b[1;31mNameError\u001b[0m: name 'l1' is not defined"
     ]
    }
   ],
   "source": [
    "l != l1"
   ]
  },
  {
   "cell_type": "code",
   "execution_count": 19,
   "id": "14db3d93-eb9b-4c68-a0a4-56e8795ccadd",
   "metadata": {},
   "outputs": [
    {
     "name": "stdout",
     "output_type": "stream",
     "text": [
      "0\n"
     ]
    },
    {
     "ename": "NameError",
     "evalue": "name 'l1' is not defined",
     "output_type": "error",
     "traceback": [
      "\u001b[1;31m---------------------------------------------------------------------------\u001b[0m",
      "\u001b[1;31mNameError\u001b[0m                                 Traceback (most recent call last)",
      "Cell \u001b[1;32mIn[19], line 2\u001b[0m\n\u001b[0;32m      1\u001b[0m \u001b[38;5;28mprint\u001b[39m(\u001b[38;5;28mlen\u001b[39m(l))\n\u001b[1;32m----> 2\u001b[0m \u001b[38;5;28mprint\u001b[39m(\u001b[38;5;28mlen\u001b[39m(l1))\n",
      "\u001b[1;31mNameError\u001b[0m: name 'l1' is not defined"
     ]
    }
   ],
   "source": [
    "print(len(l))\n",
    "print(len(l1))"
   ]
  },
  {
   "cell_type": "code",
   "execution_count": 20,
   "id": "203a410e-0ef6-49de-bf40-6caa1c07b161",
   "metadata": {},
   "outputs": [
    {
     "name": "stdout",
     "output_type": "stream",
     "text": [
      "[]\n"
     ]
    },
    {
     "ename": "NameError",
     "evalue": "name 'l1' is not defined",
     "output_type": "error",
     "traceback": [
      "\u001b[1;31m---------------------------------------------------------------------------\u001b[0m",
      "\u001b[1;31mNameError\u001b[0m                                 Traceback (most recent call last)",
      "Cell \u001b[1;32mIn[20], line 2\u001b[0m\n\u001b[0;32m      1\u001b[0m \u001b[38;5;28mprint\u001b[39m(l)\n\u001b[1;32m----> 2\u001b[0m \u001b[38;5;28mprint\u001b[39m(l1)\n",
      "\u001b[1;31mNameError\u001b[0m: name 'l1' is not defined"
     ]
    }
   ],
   "source": [
    "print(l)\n",
    "print(l1)"
   ]
  },
  {
   "cell_type": "code",
   "execution_count": 21,
   "id": "06ecfcb1-2251-4259-ae68-7752e40bb2bf",
   "metadata": {},
   "outputs": [
    {
     "ename": "NameError",
     "evalue": "name 'l1' is not defined",
     "output_type": "error",
     "traceback": [
      "\u001b[1;31m---------------------------------------------------------------------------\u001b[0m",
      "\u001b[1;31mNameError\u001b[0m                                 Traceback (most recent call last)",
      "Cell \u001b[1;32mIn[21], line 1\u001b[0m\n\u001b[1;32m----> 1\u001b[0m \u001b[38;5;28mid\u001b[39m(l1)\n",
      "\u001b[1;31mNameError\u001b[0m: name 'l1' is not defined"
     ]
    }
   ],
   "source": [
    "id(l1)"
   ]
  },
  {
   "cell_type": "code",
   "execution_count": 22,
   "id": "f39dc785-f78a-4f13-9524-a1b4f512137f",
   "metadata": {},
   "outputs": [
    {
     "ename": "NameError",
     "evalue": "name 'l1' is not defined",
     "output_type": "error",
     "traceback": [
      "\u001b[1;31m---------------------------------------------------------------------------\u001b[0m",
      "\u001b[1;31mNameError\u001b[0m                                 Traceback (most recent call last)",
      "Cell \u001b[1;32mIn[22], line 1\u001b[0m\n\u001b[1;32m----> 1\u001b[0m l1\u001b[38;5;241m.\u001b[39mclear()\n",
      "\u001b[1;31mNameError\u001b[0m: name 'l1' is not defined"
     ]
    }
   ],
   "source": [
    "l1.clear()"
   ]
  },
  {
   "cell_type": "code",
   "execution_count": 23,
   "id": "5def0c48-9fa5-4891-85bd-518a88da1612",
   "metadata": {},
   "outputs": [
    {
     "ename": "NameError",
     "evalue": "name 'l1' is not defined",
     "output_type": "error",
     "traceback": [
      "\u001b[1;31m---------------------------------------------------------------------------\u001b[0m",
      "\u001b[1;31mNameError\u001b[0m                                 Traceback (most recent call last)",
      "Cell \u001b[1;32mIn[23], line 1\u001b[0m\n\u001b[1;32m----> 1\u001b[0m l1\n",
      "\u001b[1;31mNameError\u001b[0m: name 'l1' is not defined"
     ]
    }
   ],
   "source": [
    "l1"
   ]
  },
  {
   "cell_type": "code",
   "execution_count": 24,
   "id": "3d33d24d-684e-45d4-a553-590d517b72c9",
   "metadata": {},
   "outputs": [
    {
     "ename": "NameError",
     "evalue": "name 'l1' is not defined",
     "output_type": "error",
     "traceback": [
      "\u001b[1;31m---------------------------------------------------------------------------\u001b[0m",
      "\u001b[1;31mNameError\u001b[0m                                 Traceback (most recent call last)",
      "Cell \u001b[1;32mIn[24], line 1\u001b[0m\n\u001b[1;32m----> 1\u001b[0m \u001b[38;5;28mid\u001b[39m(l1)\n",
      "\u001b[1;31mNameError\u001b[0m: name 'l1' is not defined"
     ]
    }
   ],
   "source": [
    "id(l1)"
   ]
  },
  {
   "cell_type": "code",
   "execution_count": 25,
   "id": "eecf7c4e-65c7-4135-82b8-e1f31b269657",
   "metadata": {},
   "outputs": [
    {
     "data": {
      "text/plain": [
       "[]"
      ]
     },
     "execution_count": 25,
     "metadata": {},
     "output_type": "execute_result"
    }
   ],
   "source": [
    "l"
   ]
  },
  {
   "cell_type": "code",
   "execution_count": 26,
   "id": "a6d500b5-199a-4c0d-a111-b6ab8357b094",
   "metadata": {},
   "outputs": [],
   "source": [
    "l.append('nit')\n",
    "l.append(2.3)\n",
    "l.append(1+2j)\n",
    "l.append(True)\n",
    "l.append([1,2,3])"
   ]
  },
  {
   "cell_type": "code",
   "execution_count": 27,
   "id": "e4f01f74-393a-4867-a6a1-2de3f90a9ff2",
   "metadata": {},
   "outputs": [
    {
     "data": {
      "text/plain": [
       "['nit', 2.3, (1+2j), True, [1, 2, 3]]"
      ]
     },
     "execution_count": 27,
     "metadata": {},
     "output_type": "execute_result"
    }
   ],
   "source": [
    "l"
   ]
  },
  {
   "cell_type": "code",
   "execution_count": 28,
   "id": "2f933684-f7a7-46d0-821c-b932f70638d5",
   "metadata": {},
   "outputs": [
    {
     "data": {
      "text/plain": [
       "['nit', 2.3, (1+2j), True, [1, 2, 3], 10]"
      ]
     },
     "execution_count": 28,
     "metadata": {},
     "output_type": "execute_result"
    }
   ],
   "source": [
    "l.append(10)\n",
    "l"
   ]
  },
  {
   "cell_type": "code",
   "execution_count": 31,
   "id": "b7c95588-63e3-44ee-9067-27258da22863",
   "metadata": {},
   "outputs": [
    {
     "name": "stdout",
     "output_type": "stream",
     "text": [
      "['nit', 2.3, (1+2j), True, [1, 2, 3], 10]\n"
     ]
    }
   ],
   "source": [
    "print(l)"
   ]
  },
  {
   "cell_type": "code",
   "execution_count": 33,
   "id": "674ee237-2579-4466-9eed-dde29437b391",
   "metadata": {},
   "outputs": [
    {
     "data": {
      "text/plain": [
       "[]"
      ]
     },
     "execution_count": 33,
     "metadata": {},
     "output_type": "execute_result"
    }
   ],
   "source": [
    "l1=[] \n",
    "l1"
   ]
  },
  {
   "cell_type": "code",
   "execution_count": 34,
   "id": "56ea3678-1cb1-4faa-8eeb-1e82b20ac445",
   "metadata": {},
   "outputs": [
    {
     "data": {
      "text/plain": [
       "[10, 2.3, (1+2j), True, 'hello', [1, 2, 3]]"
      ]
     },
     "execution_count": 34,
     "metadata": {},
     "output_type": "execute_result"
    }
   ],
   "source": [
    "l1 = [10, 2.3, 1+2j, True, 'hello', [1,2,3]]\n",
    "l1"
   ]
  },
  {
   "cell_type": "code",
   "execution_count": 35,
   "id": "2dc6ef25-8551-4510-97a0-535ab7628e7d",
   "metadata": {},
   "outputs": [],
   "source": [
    "l1.append(10)"
   ]
  },
  {
   "cell_type": "code",
   "execution_count": 36,
   "id": "a643d18c-dc52-4fb5-a678-e87eda284858",
   "metadata": {},
   "outputs": [
    {
     "data": {
      "text/plain": [
       "[10, 2.3, (1+2j), True, 'hello', [1, 2, 3], 10]"
      ]
     },
     "execution_count": 36,
     "metadata": {},
     "output_type": "execute_result"
    }
   ],
   "source": [
    "l1"
   ]
  },
  {
   "cell_type": "code",
   "execution_count": 38,
   "id": "9474b5f6-9c30-4e09-99c8-ad4a558a2770",
   "metadata": {},
   "outputs": [
    {
     "data": {
      "text/plain": [
       "1"
      ]
     },
     "execution_count": 38,
     "metadata": {},
     "output_type": "execute_result"
    }
   ],
   "source": [
    "l1.count(2.3)"
   ]
  },
  {
   "cell_type": "code",
   "execution_count": 39,
   "id": "ef05dc99-b994-40a7-adcf-0ba955b6b572",
   "metadata": {},
   "outputs": [
    {
     "data": {
      "text/plain": [
       "[10, 2.3, (1+2j), True, 'hello', [1, 2, 3], 10]"
      ]
     },
     "execution_count": 39,
     "metadata": {},
     "output_type": "execute_result"
    }
   ],
   "source": [
    "l1"
   ]
  },
  {
   "cell_type": "code",
   "execution_count": 40,
   "id": "fa0dffc3-4508-48c3-a4b1-ff8176f73c81",
   "metadata": {},
   "outputs": [],
   "source": [
    "l1.remove(1+2j)"
   ]
  },
  {
   "cell_type": "code",
   "execution_count": 41,
   "id": "82b80136-44f8-4156-93f7-180c63260fb2",
   "metadata": {},
   "outputs": [
    {
     "data": {
      "text/plain": [
       "[10, 2.3, True, 'hello', [1, 2, 3], 10]"
      ]
     },
     "execution_count": 41,
     "metadata": {},
     "output_type": "execute_result"
    }
   ],
   "source": [
    "l1"
   ]
  },
  {
   "cell_type": "code",
   "execution_count": 42,
   "id": "7787e0d0-b33f-4da2-a2de-1a017b8250bc",
   "metadata": {},
   "outputs": [
    {
     "data": {
      "text/plain": [
       "[10, 2.3, True, 'hello', [1, 2, 3], 10]"
      ]
     },
     "execution_count": 42,
     "metadata": {},
     "output_type": "execute_result"
    }
   ],
   "source": [
    "l1"
   ]
  },
  {
   "cell_type": "code",
   "execution_count": 43,
   "id": "5cd6cacd-5d0a-4d86-8d82-19742dfeedc2",
   "metadata": {},
   "outputs": [
    {
     "data": {
      "text/plain": [
       "10"
      ]
     },
     "execution_count": 43,
     "metadata": {},
     "output_type": "execute_result"
    }
   ],
   "source": [
    "l1.pop()"
   ]
  },
  {
   "cell_type": "code",
   "execution_count": 44,
   "id": "766d46c0-209a-4da8-bbcb-8ce484d3ed65",
   "metadata": {},
   "outputs": [
    {
     "data": {
      "text/plain": [
       "[10, 2.3, True, 'hello', [1, 2, 3]]"
      ]
     },
     "execution_count": 44,
     "metadata": {},
     "output_type": "execute_result"
    }
   ],
   "source": [
    "l1"
   ]
  },
  {
   "cell_type": "code",
   "execution_count": 45,
   "id": "879875e0-a738-43e9-836a-05e3594c2a67",
   "metadata": {},
   "outputs": [
    {
     "data": {
      "text/plain": [
       "[1, 2, 3]"
      ]
     },
     "execution_count": 45,
     "metadata": {},
     "output_type": "execute_result"
    }
   ],
   "source": [
    "l1.pop()"
   ]
  },
  {
   "cell_type": "code",
   "execution_count": 46,
   "id": "c525221a-2ff5-4cb0-86ea-2c39216b0859",
   "metadata": {},
   "outputs": [
    {
     "data": {
      "text/plain": [
       "[10, 2.3, True, 'hello']"
      ]
     },
     "execution_count": 46,
     "metadata": {},
     "output_type": "execute_result"
    }
   ],
   "source": [
    "l1"
   ]
  },
  {
   "cell_type": "code",
   "execution_count": 47,
   "id": "f780289f-66ac-41fa-8b69-d71c1a3196e6",
   "metadata": {},
   "outputs": [],
   "source": [
    "l1.remove(True)"
   ]
  },
  {
   "cell_type": "code",
   "execution_count": 48,
   "id": "bda4c17c-c976-4623-a0da-8993ff8e4262",
   "metadata": {},
   "outputs": [
    {
     "data": {
      "text/plain": [
       "[10, 2.3, 'hello']"
      ]
     },
     "execution_count": 48,
     "metadata": {},
     "output_type": "execute_result"
    }
   ],
   "source": [
    "l1"
   ]
  },
  {
   "cell_type": "code",
   "execution_count": 49,
   "id": "ed3be14b-6383-47e8-b3df-27bf1a40931b",
   "metadata": {},
   "outputs": [
    {
     "data": {
      "text/plain": [
       "['nit', 2.3, (1+2j), True, [1, 2, 3], 10]"
      ]
     },
     "execution_count": 49,
     "metadata": {},
     "output_type": "execute_result"
    }
   ],
   "source": [
    "l"
   ]
  },
  {
   "cell_type": "code",
   "execution_count": 52,
   "id": "58ff93fa-2f4a-4ca6-957c-cce89270da35",
   "metadata": {},
   "outputs": [
    {
     "data": {
      "text/plain": [
       "(1+2j)"
      ]
     },
     "execution_count": 52,
     "metadata": {},
     "output_type": "execute_result"
    }
   ],
   "source": [
    "l.pop(2)"
   ]
  },
  {
   "cell_type": "code",
   "execution_count": 53,
   "id": "f80d9936-ef8a-4286-a496-f242c75bfb6b",
   "metadata": {},
   "outputs": [
    {
     "data": {
      "text/plain": [
       "['nit', 2.3, True, [1, 2, 3], 10]"
      ]
     },
     "execution_count": 53,
     "metadata": {},
     "output_type": "execute_result"
    }
   ],
   "source": [
    "l"
   ]
  },
  {
   "cell_type": "code",
   "execution_count": 54,
   "id": "5b301f17-9158-4b54-996d-d8898e412851",
   "metadata": {},
   "outputs": [
    {
     "data": {
      "text/plain": [
       "['nit', 2.3, True, [1, 2, 3], 10]"
      ]
     },
     "execution_count": 54,
     "metadata": {},
     "output_type": "execute_result"
    }
   ],
   "source": [
    "l"
   ]
  },
  {
   "cell_type": "code",
   "execution_count": 55,
   "id": "16cf210d-a5a6-4904-8ec7-fac110f8393e",
   "metadata": {},
   "outputs": [
    {
     "data": {
      "text/plain": [
       "[10, 2.3]"
      ]
     },
     "execution_count": 55,
     "metadata": {},
     "output_type": "execute_result"
    }
   ],
   "source": [
    "l1"
   ]
  },
  {
   "cell_type": "code",
   "execution_count": 56,
   "id": "cf8bc824-8ef9-4856-a5f3-17c23f1db4ca",
   "metadata": {},
   "outputs": [
    {
     "data": {
      "text/plain": [
       "['nit', 2.3, True, [1, 2, 3], 10]"
      ]
     },
     "execution_count": 56,
     "metadata": {},
     "output_type": "execute_result"
    }
   ],
   "source": [
    "l"
   ]
  },
  {
   "cell_type": "code",
   "execution_count": 62,
   "id": "fcc54f4d-03a2-43aa-a827-9cd3bc06e70a",
   "metadata": {},
   "outputs": [
    {
     "data": {
      "text/plain": [
       "1"
      ]
     },
     "execution_count": 62,
     "metadata": {},
     "output_type": "execute_result"
    }
   ],
   "source": [
    "l.index(2.3)"
   ]
  },
  {
   "cell_type": "code",
   "execution_count": 63,
   "id": "1b20dec8-ea8f-4463-a85e-d03fddf4d0cc",
   "metadata": {},
   "outputs": [
    {
     "data": {
      "text/plain": [
       "['nit', 2.3, True, [1, 2, 3], 10]"
      ]
     },
     "execution_count": 63,
     "metadata": {},
     "output_type": "execute_result"
    }
   ],
   "source": [
    "l"
   ]
  },
  {
   "cell_type": "code",
   "execution_count": 64,
   "id": "77751773-4019-4fe2-8995-404166d7bb8b",
   "metadata": {},
   "outputs": [
    {
     "data": {
      "text/plain": [
       "['nit', 2.3, True, [1, 2, 3], 10, 4]"
      ]
     },
     "execution_count": 64,
     "metadata": {},
     "output_type": "execute_result"
    }
   ],
   "source": [
    "l.insert(5,4)\n",
    "l"
   ]
  },
  {
   "cell_type": "code",
   "execution_count": 65,
   "id": "2fd946c7-0343-4473-9876-8ca9917ad2aa",
   "metadata": {},
   "outputs": [
    {
     "data": {
      "text/plain": [
       "['nit', 2.3, True, [1, 2, 3], 10, 4]"
      ]
     },
     "execution_count": 65,
     "metadata": {},
     "output_type": "execute_result"
    }
   ],
   "source": [
    "l"
   ]
  },
  {
   "cell_type": "code",
   "execution_count": 66,
   "id": "e6b54572-05d1-455d-85f9-f82ff2e9a767",
   "metadata": {},
   "outputs": [],
   "source": [
    "l.insert(4, 5)"
   ]
  },
  {
   "cell_type": "code",
   "execution_count": 67,
   "id": "6ecd020e-183b-4eb8-b283-7ca7cff2b0f9",
   "metadata": {},
   "outputs": [
    {
     "data": {
      "text/plain": [
       "['nit', 2.3, True, [1, 2, 3], 5, 10, 4]"
      ]
     },
     "execution_count": 67,
     "metadata": {},
     "output_type": "execute_result"
    }
   ],
   "source": [
    "l"
   ]
  },
  {
   "cell_type": "code",
   "execution_count": 68,
   "id": "2765527e-c112-4b12-9703-10aa5f856818",
   "metadata": {},
   "outputs": [
    {
     "data": {
      "text/plain": [
       "['nit', 2.3, True, [1, 2, 3], 5, 10, 4]"
      ]
     },
     "execution_count": 68,
     "metadata": {},
     "output_type": "execute_result"
    }
   ],
   "source": [
    "l"
   ]
  },
  {
   "cell_type": "code",
   "execution_count": 69,
   "id": "bb90b2e2-9a2c-4bfd-94b8-8faf70bc635a",
   "metadata": {},
   "outputs": [],
   "source": [
    "l.insert(6, 6)"
   ]
  },
  {
   "cell_type": "code",
   "execution_count": 70,
   "id": "f566ad96-7a71-4bcd-b44e-12b7d867a893",
   "metadata": {},
   "outputs": [
    {
     "data": {
      "text/plain": [
       "['nit', 2.3, True, [1, 2, 3], 5, 10, 6, 4]"
      ]
     },
     "execution_count": 70,
     "metadata": {},
     "output_type": "execute_result"
    }
   ],
   "source": [
    "l"
   ]
  },
  {
   "cell_type": "code",
   "execution_count": 71,
   "id": "87a4a5b4-2076-43e4-85ab-c8957af5b1ea",
   "metadata": {},
   "outputs": [
    {
     "name": "stdout",
     "output_type": "stream",
     "text": [
      "[10, 2.3]\n",
      "['nit', 2.3, True, [1, 2, 3], 5, 10, 6, 4]\n"
     ]
    }
   ],
   "source": [
    "print(l1)\n",
    "print(l)"
   ]
  },
  {
   "cell_type": "code",
   "execution_count": 72,
   "id": "04249027-93f5-4613-b5f3-b8655b3b6bf3",
   "metadata": {},
   "outputs": [],
   "source": [
    "l1.extend(l)"
   ]
  },
  {
   "cell_type": "code",
   "execution_count": 73,
   "id": "1e323798-e655-4aba-a6a8-5d64b2d88f59",
   "metadata": {},
   "outputs": [
    {
     "data": {
      "text/plain": [
       "[10, 2.3, 'nit', 2.3, True, [1, 2, 3], 5, 10, 6, 4]"
      ]
     },
     "execution_count": 73,
     "metadata": {},
     "output_type": "execute_result"
    }
   ],
   "source": [
    "l1"
   ]
  },
  {
   "cell_type": "code",
   "execution_count": 74,
   "id": "1af0704a-12e2-4a75-b8eb-f02f48894ea2",
   "metadata": {},
   "outputs": [
    {
     "data": {
      "text/plain": [
       "['nit', 2.3, True, [1, 2, 3], 5, 10, 6, 4]"
      ]
     },
     "execution_count": 74,
     "metadata": {},
     "output_type": "execute_result"
    }
   ],
   "source": [
    "l"
   ]
  },
  {
   "cell_type": "code",
   "execution_count": 75,
   "id": "3328305a-a61e-4085-8e07-d41cce248eca",
   "metadata": {},
   "outputs": [],
   "source": [
    "l.reverse()"
   ]
  },
  {
   "cell_type": "code",
   "execution_count": 76,
   "id": "6a7860e6-69a0-4141-af9a-ed034403549e",
   "metadata": {},
   "outputs": [
    {
     "data": {
      "text/plain": [
       "[4, 6, 10, 5, [1, 2, 3], True, 2.3, 'nit']"
      ]
     },
     "execution_count": 76,
     "metadata": {},
     "output_type": "execute_result"
    }
   ],
   "source": [
    "l"
   ]
  },
  {
   "cell_type": "code",
   "execution_count": 77,
   "id": "e9ac6320-f867-4812-b041-627e4b0c6059",
   "metadata": {},
   "outputs": [
    {
     "data": {
      "text/plain": [
       "[300, 3, 34, 9, 100]"
      ]
     },
     "execution_count": 77,
     "metadata": {},
     "output_type": "execute_result"
    }
   ],
   "source": [
    "l5 = [300, 3, 34, 9, 100]\n",
    "l5"
   ]
  },
  {
   "cell_type": "code",
   "execution_count": 78,
   "id": "aa0365bc-15ca-4f82-9e2b-ee2f5d53fc50",
   "metadata": {},
   "outputs": [],
   "source": [
    "l5.sort() "
   ]
  },
  {
   "cell_type": "code",
   "execution_count": 79,
   "id": "93f9cba2-54fc-4399-9903-a8735b713469",
   "metadata": {},
   "outputs": [
    {
     "data": {
      "text/plain": [
       "[3, 9, 34, 100, 300]"
      ]
     },
     "execution_count": 79,
     "metadata": {},
     "output_type": "execute_result"
    }
   ],
   "source": [
    "l5"
   ]
  },
  {
   "cell_type": "code",
   "execution_count": 80,
   "id": "1bed5b72-958b-4099-b122-3ea0d16921ba",
   "metadata": {},
   "outputs": [],
   "source": [
    "l5.sort(reverse=True)"
   ]
  },
  {
   "cell_type": "code",
   "execution_count": 81,
   "id": "bffb39b0-c0cb-4637-a2d8-386a9e02c871",
   "metadata": {},
   "outputs": [
    {
     "data": {
      "text/plain": [
       "[300, 100, 34, 9, 3]"
      ]
     },
     "execution_count": 81,
     "metadata": {},
     "output_type": "execute_result"
    }
   ],
   "source": [
    "l5"
   ]
  },
  {
   "cell_type": "code",
   "execution_count": 82,
   "id": "4f2e2dd9-b046-4d3e-ab90-403fcee21ab7",
   "metadata": {},
   "outputs": [
    {
     "data": {
      "text/plain": [
       "[4, 6, 10, 5, [1, 2, 3], True, 2.3, 'nit']"
      ]
     },
     "execution_count": 82,
     "metadata": {},
     "output_type": "execute_result"
    }
   ],
   "source": [
    "l"
   ]
  },
  {
   "cell_type": "code",
   "execution_count": 83,
   "id": "9415a19a-455f-45d9-9e96-a4d5ac757ba6",
   "metadata": {},
   "outputs": [
    {
     "data": {
      "text/plain": [
       "[300, 100, 34, 9, 3]"
      ]
     },
     "execution_count": 83,
     "metadata": {},
     "output_type": "execute_result"
    }
   ],
   "source": [
    "l5"
   ]
  },
  {
   "cell_type": "code",
   "execution_count": 84,
   "id": "265da0bc-73b3-4c11-ba73-1f591d53334a",
   "metadata": {},
   "outputs": [],
   "source": [
    "l5[0] = 3000"
   ]
  },
  {
   "cell_type": "code",
   "execution_count": 85,
   "id": "d6a109bc-f999-4f0c-a2c4-a51048891d7c",
   "metadata": {},
   "outputs": [
    {
     "data": {
      "text/plain": [
       "[3000, 100, 34, 9, 3]"
      ]
     },
     "execution_count": 85,
     "metadata": {},
     "output_type": "execute_result"
    }
   ],
   "source": [
    "l5"
   ]
  },
  {
   "cell_type": "markdown",
   "id": "d58253be-56f3-4068-822c-e30c01aa0d8e",
   "metadata": {},
   "source": [
    "# list is completed"
   ]
  },
  {
   "cell_type": "code",
   "execution_count": null,
   "id": "9ca6585c-3332-4f03-9ed3-14b21ecc08bc",
   "metadata": {},
   "outputs": [],
   "source": []
  }
 ],
 "metadata": {
  "kernelspec": {
   "display_name": "Python 3 (ipykernel)",
   "language": "python",
   "name": "python3"
  },
  "language_info": {
   "codemirror_mode": {
    "name": "ipython",
    "version": 3
   },
   "file_extension": ".py",
   "mimetype": "text/x-python",
   "name": "python",
   "nbconvert_exporter": "python",
   "pygments_lexer": "ipython3",
   "version": "3.12.7"
  }
 },
 "nbformat": 4,
 "nbformat_minor": 5
}
