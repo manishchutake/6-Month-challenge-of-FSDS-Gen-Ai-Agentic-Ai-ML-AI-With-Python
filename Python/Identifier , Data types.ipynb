{
 "cells": [
  {
   "cell_type": "markdown",
   "id": "3432d9e3-c707-4fe4-94bc-48ec2a9a77eb",
   "metadata": {},
   "source": [
    "# Keywords"
   ]
  },
  {
   "cell_type": "code",
   "execution_count": null,
   "id": "533352a3-8499-4f00-9b92-44f3d1c89a0d",
   "metadata": {},
   "outputs": [],
   "source": [
    "# Keywords are the reserved words in Python and can't be used as an identifie"
   ]
  },
  {
   "cell_type": "code",
   "execution_count": 11,
   "id": "05f57e91-fe81-4105-87db-e8663c298c05",
   "metadata": {},
   "outputs": [
    {
     "name": "stdout",
     "output_type": "stream",
     "text": [
      "['False', 'None', 'True', 'and', 'as', 'assert', 'async', 'await', 'break', 'class', 'continue', 'def', 'del', 'elif', 'else', 'except', 'finally', 'for', 'from', 'global', 'if', 'import', 'in', 'is', 'lambda', 'nonlocal', 'not', 'or', 'pass', 'raise', 'return', 'try', 'while', 'with', 'yield']\n"
     ]
    }
   ],
   "source": [
    "print(keyword.kwlist)"
   ]
  },
  {
   "cell_type": "code",
   "execution_count": 12,
   "id": "3c1dc27d-f776-42e7-9e08-f5d95790f0ff",
   "metadata": {},
   "outputs": [
    {
     "data": {
      "text/plain": [
       "35"
      ]
     },
     "execution_count": 12,
     "metadata": {},
     "output_type": "execute_result"
    }
   ],
   "source": [
    "len(keyword.kwlist)"
   ]
  },
  {
   "cell_type": "markdown",
   "id": "89c5aaf7-55d8-48c1-bb98-e035efe4a2c7",
   "metadata": {},
   "source": [
    "# Identifiers"
   ]
  },
  {
   "cell_type": "code",
   "execution_count": null,
   "id": "82c1ed18-9916-4744-acf0-78c5cf3a2b69",
   "metadata": {},
   "outputs": [],
   "source": [
    "# An identifier is a name given to entities like class, functions, variables, etc. \n",
    "# It helps to differentiate one entity from another."
   ]
  },
  {
   "cell_type": "code",
   "execution_count": 13,
   "id": "73ff8e26-741c-487d-b972-a3485bc279c0",
   "metadata": {},
   "outputs": [
    {
     "ename": "SyntaxError",
     "evalue": "invalid decimal literal (4256868957.py, line 1)",
     "output_type": "error",
     "traceback": [
      "\u001b[0;36m  Cell \u001b[0;32mIn[13], line 1\u001b[0;36m\u001b[0m\n\u001b[0;31m    1var = 10\u001b[0m\n\u001b[0m    ^\u001b[0m\n\u001b[0;31mSyntaxError\u001b[0m\u001b[0;31m:\u001b[0m invalid decimal literal\n"
     ]
    }
   ],
   "source": [
    "# 1var = 10   identifier cant start with digit"
   ]
  },
  {
   "cell_type": "code",
   "execution_count": 14,
   "id": "1ba7dcfb-bd65-4d37-b6f3-5536efcb05c8",
   "metadata": {},
   "outputs": [
    {
     "ename": "SyntaxError",
     "evalue": "invalid syntax (3636076842.py, line 1)",
     "output_type": "error",
     "traceback": [
      "\u001b[0;36m  Cell \u001b[0;32mIn[14], line 1\u001b[0;36m\u001b[0m\n\u001b[0;31m    val2@ = 35\u001b[0m\n\u001b[0m          ^\u001b[0m\n\u001b[0;31mSyntaxError\u001b[0m\u001b[0;31m:\u001b[0m invalid syntax\n"
     ]
    }
   ],
   "source": [
    "# val2@ = 35 Identifier cant use special symbols"
   ]
  },
  {
   "cell_type": "code",
   "execution_count": 15,
   "id": "014f0b2f-75ea-4bb1-aa03-569d4937126c",
   "metadata": {},
   "outputs": [
    {
     "ename": "SyntaxError",
     "evalue": "invalid syntax (4166699667.py, line 1)",
     "output_type": "error",
     "traceback": [
      "\u001b[0;36m  Cell \u001b[0;32mIn[15], line 1\u001b[0;36m\u001b[0m\n\u001b[0;31m    import = 125\u001b[0m\n\u001b[0m           ^\u001b[0m\n\u001b[0;31mSyntaxError\u001b[0m\u001b[0;31m:\u001b[0m invalid syntax\n"
     ]
    }
   ],
   "source": [
    "# import = 125 keywords cant be used as identifiers "
   ]
  },
  {
   "cell_type": "code",
   "execution_count": null,
   "id": "03bc9ed2-e543-41ab-bd13-4a8c9deecf03",
   "metadata": {},
   "outputs": [],
   "source": [
    "\"\"\"\n",
    "Correct way of defining an identifier\n",
    "(Identifiers can be a combination of letters in lowercase (a to z) or uppercase \"\"\""
   ]
  },
  {
   "cell_type": "code",
   "execution_count": null,
   "id": "114414be-380e-4b27-8092-93668019558b",
   "metadata": {},
   "outputs": [],
   "source": [
    "val2 = 10"
   ]
  },
  {
   "cell_type": "code",
   "execution_count": null,
   "id": "867a39fb-bce2-4cfe-a473-e3f85a3b6f9a",
   "metadata": {},
   "outputs": [],
   "source": [
    "val_ = 99"
   ]
  },
  {
   "cell_type": "markdown",
   "id": "e3db5179-7a6e-40fa-bc9f-b8b6fdac8d2a",
   "metadata": {},
   "source": [
    "#  Comments In Python"
   ]
  },
  {
   "cell_type": "code",
   "execution_count": null,
   "id": "345a60ae-f9dd-4f93-9233-0f42fbd8ca26",
   "metadata": {},
   "outputs": [],
   "source": [
    "# Comments can be used to explain the code for more readabilty."
   ]
  },
  {
   "cell_type": "code",
   "execution_count": 19,
   "id": "7b7c98a1-4f43-4592-85c9-3fedcf01657f",
   "metadata": {},
   "outputs": [],
   "source": [
    "  # Single line comment\n",
    "val1 = 10"
   ]
  },
  {
   "cell_type": "code",
   "execution_count": null,
   "id": "99fb7a99-00c8-4b4b-b379-fd1e983e8f67",
   "metadata": {},
   "outputs": [],
   "source": [
    "# Multiple \n",
    "# line\n",
    "# comment \n",
    "val1 = 10"
   ]
  },
  {
   "cell_type": "code",
   "execution_count": null,
   "id": "c6d6b5f9-b90c-4e82-b5d4-72a619accfa2",
   "metadata": {},
   "outputs": [],
   "source": [
    "''' \n",
    "Multiple \n",
    "line \n",
    "comment \n",
    "'''\n",
    "val1 = 10\n",
    " "
   ]
  },
  {
   "cell_type": "code",
   "execution_count": null,
   "id": "264277ec-58b3-452d-91bd-9292ba50d005",
   "metadata": {},
   "outputs": [],
   "source": [
    " \"\"\" \n",
    "Multiple \n",
    "line \n",
    "comment \n",
    "\"\"\"\n",
    "val1 = 10"
   ]
  },
  {
   "cell_type": "markdown",
   "id": "9aa93b1a-5ece-4406-a69a-be7f7b9176e1",
   "metadata": {},
   "source": [
    "# Statements"
   ]
  },
  {
   "cell_type": "code",
   "execution_count": 21,
   "id": "5bae30b7-154b-4474-8cc6-7007b83a1591",
   "metadata": {},
   "outputs": [],
   "source": [
    "# Instructions that a Python interpreter can execute."
   ]
  },
  {
   "cell_type": "code",
   "execution_count": null,
   "id": "e1fb3a74-0bc9-46cb-9975-d3293ecdc0b2",
   "metadata": {},
   "outputs": [],
   "source": [
    "p = 20 #Creates an integer object with value 20 and assigns the variable p to p\n",
    "q = 20 # Create new reference q which will point to value 20. p & q will be poi\n",
    "r = q # variable r will also point to the same location where p & q are pointin\n",
    "p , type(p), hex(id(p)) # Variable P is pointing to memory location '0x7fff6d71a"
   ]
  },
  {
   "cell_type": "code",
   "execution_count": null,
   "id": "df9c90bb-2345-4a4e-8c3c-276ad388bcef",
   "metadata": {},
   "outputs": [],
   "source": []
  },
  {
   "cell_type": "code",
   "execution_count": 22,
   "id": "b0829f42-0af0-4cec-818d-6dd08056e71b",
   "metadata": {},
   "outputs": [
    {
     "data": {
      "text/plain": [
       "(20, int, '0x10f23df18')"
      ]
     },
     "execution_count": 22,
     "metadata": {},
     "output_type": "execute_result"
    }
   ],
   "source": [
    "p = 20\n",
    "q = 20\n",
    "r = q\n",
    "p , type(p), hex(id(p))"
   ]
  },
  {
   "cell_type": "code",
   "execution_count": 23,
   "id": "0ac1fbaf-be84-4078-ac17-368d16b8c28b",
   "metadata": {},
   "outputs": [
    {
     "data": {
      "text/plain": [
       "(20, int, '0x10f23df18')"
      ]
     },
     "execution_count": 23,
     "metadata": {},
     "output_type": "execute_result"
    }
   ],
   "source": [
    "q , type(q), hex(id(q))"
   ]
  },
  {
   "cell_type": "code",
   "execution_count": 24,
   "id": "c5ad1b74-af93-4ed1-9289-64a34abb4f57",
   "metadata": {},
   "outputs": [
    {
     "data": {
      "text/plain": [
       "(20, int, '0x10f23df18')"
      ]
     },
     "execution_count": 24,
     "metadata": {},
     "output_type": "execute_result"
    }
   ],
   "source": [
    "r , type(r), hex(id(r))"
   ]
  },
  {
   "cell_type": "code",
   "execution_count": 25,
   "id": "6ed92c3c-4a11-4847-9f24-9cbe08ee5449",
   "metadata": {},
   "outputs": [
    {
     "data": {
      "text/plain": [
       "30"
      ]
     },
     "execution_count": 25,
     "metadata": {},
     "output_type": "execute_result"
    }
   ],
   "source": [
    "p = 20\n",
    "p = p + 10\n",
    "p"
   ]
  },
  {
   "cell_type": "markdown",
   "id": "b6e51ee7-a113-4a63-aa3f-8b8e1933fb41",
   "metadata": {},
   "source": [
    "#  Variable Assignment"
   ]
  },
  {
   "cell_type": "code",
   "execution_count": 26,
   "id": "6a17a2a4-3f22-4dfd-94ee-7a7696c177b6",
   "metadata": {},
   "outputs": [
    {
     "name": "stdout",
     "output_type": "stream",
     "text": [
      "10\n",
      "2.57\n",
      "Python Language\n"
     ]
    }
   ],
   "source": [
    "intvar = 10\n",
    "floatvar = 2.57\n",
    "strvar = \"Python Language\"\n",
    "\n",
    "print(intvar)\n",
    "print(floatvar)\n",
    "print(strvar)\n"
   ]
  },
  {
   "cell_type": "markdown",
   "id": "09fbbc78-75a0-4d69-bac8-a7cb986bd1fd",
   "metadata": {},
   "source": [
    "#  Multiple Assignments"
   ]
  },
  {
   "cell_type": "code",
   "execution_count": 27,
   "id": "42161b43-7a6d-4ea0-9380-83e7b6fc4a30",
   "metadata": {},
   "outputs": [
    {
     "name": "stdout",
     "output_type": "stream",
     "text": [
      "10\n",
      "2.57\n",
      "Python Language\n"
     ]
    }
   ],
   "source": [
    "intvar, floatvar, strvar = 10, 2.57, \"Python Language\"\n",
    "print(intvar)\n",
    "print(floatvar)\n",
    "print(strvar)"
   ]
  },
  {
   "cell_type": "code",
   "execution_count": 28,
   "id": "200c7f92-1672-4afd-8d45-acbff3bf961e",
   "metadata": {},
   "outputs": [
    {
     "name": "stdout",
     "output_type": "stream",
     "text": [
      "40 40 40 40\n"
     ]
    }
   ],
   "source": [
    "p1 = p2 = p3 = p4 = 40\n",
    "print(p1,p2,p3,p4)"
   ]
  },
  {
   "cell_type": "markdown",
   "id": "f9798a9b-b5fb-4abb-bf23-f59c546868e7",
   "metadata": {},
   "source": [
    "#  Data Types"
   ]
  },
  {
   "cell_type": "markdown",
   "id": "282a74bb-ef48-459e-8196-f5232436ce3d",
   "metadata": {},
   "source": [
    "Numeric"
   ]
  },
  {
   "cell_type": "code",
   "execution_count": 30,
   "id": "151a1bc9-5c01-4cd3-b27f-f268d3383329",
   "metadata": {},
   "outputs": [
    {
     "name": "stdout",
     "output_type": "stream",
     "text": [
      "10\n",
      "<class 'int'>\n",
      "28\n",
      "10  is integer? True\n"
     ]
    }
   ],
   "source": [
    "val1 = 10\n",
    "print(val1)\n",
    "print(type(val1))\n",
    "print(sys.getsizeof(val1))\n",
    "print(val1, \" is integer?\", isinstance(val1, int))"
   ]
  },
  {
   "cell_type": "code",
   "execution_count": 32,
   "id": "0bd2b29f-ed41-4f6b-853f-a08215963fc4",
   "metadata": {},
   "outputs": [
    {
     "name": "stdout",
     "output_type": "stream",
     "text": [
      "92.78\n",
      "<class 'float'>\n",
      "24\n",
      "92.78  is integer? False\n"
     ]
    }
   ],
   "source": [
    "val2 = 92.78\n",
    "print(val2)\n",
    "print(type(val2))\n",
    "print(sys.getsizeof(val2))\n",
    "print(val2, \" is integer?\", isinstance(val2, int))"
   ]
  },
  {
   "cell_type": "code",
   "execution_count": 33,
   "id": "85e7267a-d805-4dbb-93b9-927c69510a20",
   "metadata": {},
   "outputs": [
    {
     "name": "stdout",
     "output_type": "stream",
     "text": [
      "(25+10j)\n",
      "<class 'complex'>\n",
      "32\n",
      "(25+10j)  is complex? True\n"
     ]
    }
   ],
   "source": [
    "val3 = 25 + 10j \n",
    "print(val3)\n",
    "print(type(val3))\n",
    "print(sys.getsizeof(val3)) \n",
    "print(val3, \" is complex?\", isinstance(val3, complex))"
   ]
  },
  {
   "cell_type": "code",
   "execution_count": 34,
   "id": "e6d795ff-4367-4032-bec5-a2a471c49e76",
   "metadata": {},
   "outputs": [
    {
     "data": {
      "text/plain": [
       "28"
      ]
     },
     "execution_count": 34,
     "metadata": {},
     "output_type": "execute_result"
    }
   ],
   "source": [
    "sys.getsizeof(int())"
   ]
  },
  {
   "cell_type": "code",
   "execution_count": 35,
   "id": "fcd75bf8-6b0d-4b50-a970-8506cbff8f33",
   "metadata": {},
   "outputs": [
    {
     "data": {
      "text/plain": [
       "24"
      ]
     },
     "execution_count": 35,
     "metadata": {},
     "output_type": "execute_result"
    }
   ],
   "source": [
    "sys.getsizeof(float())"
   ]
  },
  {
   "cell_type": "code",
   "execution_count": 36,
   "id": "38c4eda8-3b12-4ef8-9785-9cd1080d09d5",
   "metadata": {},
   "outputs": [
    {
     "data": {
      "text/plain": [
       "32"
      ]
     },
     "execution_count": 36,
     "metadata": {},
     "output_type": "execute_result"
    }
   ],
   "source": [
    "sys.getsizeof(complex())"
   ]
  },
  {
   "cell_type": "markdown",
   "id": "db08f49f-5c9f-44e8-97ff-f8ab4a9c2b91",
   "metadata": {},
   "source": [
    "#  Boolean"
   ]
  },
  {
   "cell_type": "code",
   "execution_count": null,
   "id": "b82c607c-51d5-4732-beef-ebda1853d3d7",
   "metadata": {},
   "outputs": [],
   "source": [
    "# Boolean data type can have only two possible values true or false."
   ]
  },
  {
   "cell_type": "code",
   "execution_count": 37,
   "id": "edf2e2fe-3f70-4707-ac3b-552ace83bbd8",
   "metadata": {},
   "outputs": [],
   "source": [
    "bool1 = True"
   ]
  },
  {
   "cell_type": "code",
   "execution_count": null,
   "id": "95849afa-9e8d-460a-b79b-523f24ef721d",
   "metadata": {},
   "outputs": [],
   "source": [
    "bool2 = False"
   ]
  },
  {
   "cell_type": "code",
   "execution_count": 47,
   "id": "07c98091-9439-491e-84eb-ce4524b8fe3c",
   "metadata": {},
   "outputs": [
    {
     "name": "stdout",
     "output_type": "stream",
     "text": [
      "<class 'bool'>\n"
     ]
    }
   ],
   "source": [
    "print(type(bool1))"
   ]
  },
  {
   "cell_type": "code",
   "execution_count": 48,
   "id": "62a38ee4-d01b-467d-9d61-bd4121eabcf7",
   "metadata": {},
   "outputs": [
    {
     "ename": "NameError",
     "evalue": "name 'bool2' is not defined",
     "output_type": "error",
     "traceback": [
      "\u001b[0;31m---------------------------------------------------------------------------\u001b[0m",
      "\u001b[0;31mNameError\u001b[0m                                 Traceback (most recent call last)",
      "Cell \u001b[0;32mIn[48], line 1\u001b[0m\n\u001b[0;32m----> 1\u001b[0m \u001b[38;5;28mprint\u001b[39m(\u001b[38;5;28mtype\u001b[39m(bool2))\n",
      "\u001b[0;31mNameError\u001b[0m: name 'bool2' is not defined"
     ]
    }
   ],
   "source": [
    "print(type(bool2))"
   ]
  },
  {
   "cell_type": "code",
   "execution_count": 51,
   "id": "acd7b563-3ded-4785-b6db-14df94b4b70d",
   "metadata": {},
   "outputs": [
    {
     "data": {
      "text/plain": [
       "True"
      ]
     },
     "execution_count": 51,
     "metadata": {},
     "output_type": "execute_result"
    }
   ],
   "source": [
    "isinstance(bool1, bool)"
   ]
  },
  {
   "cell_type": "code",
   "execution_count": 53,
   "id": "adb4a34e-24ff-48b2-9228-bdfb87b652d3",
   "metadata": {},
   "outputs": [
    {
     "data": {
      "text/plain": [
       "False"
      ]
     },
     "execution_count": 53,
     "metadata": {},
     "output_type": "execute_result"
    }
   ],
   "source": [
    "bool(0)"
   ]
  },
  {
   "cell_type": "code",
   "execution_count": 54,
   "id": "a2463588-eed8-42f6-b000-98e2478d5aa1",
   "metadata": {},
   "outputs": [
    {
     "data": {
      "text/plain": [
       "True"
      ]
     },
     "execution_count": 54,
     "metadata": {},
     "output_type": "execute_result"
    }
   ],
   "source": [
    "bool(1)"
   ]
  },
  {
   "cell_type": "code",
   "execution_count": 55,
   "id": "415af204-236c-4448-8971-4decb00b7bbe",
   "metadata": {},
   "outputs": [
    {
     "data": {
      "text/plain": [
       "False"
      ]
     },
     "execution_count": 55,
     "metadata": {},
     "output_type": "execute_result"
    }
   ],
   "source": [
    "bool(None)"
   ]
  },
  {
   "cell_type": "code",
   "execution_count": 56,
   "id": "6a876172-ebeb-4c63-8a66-92996ef74c18",
   "metadata": {},
   "outputs": [
    {
     "data": {
      "text/plain": [
       "False"
      ]
     },
     "execution_count": 56,
     "metadata": {},
     "output_type": "execute_result"
    }
   ],
   "source": [
    "bool(False)"
   ]
  },
  {
   "cell_type": "markdown",
   "id": "a7fe6ee2-48e4-40a0-8668-5b3d5786ce32",
   "metadata": {},
   "source": [
    "# Strings"
   ]
  },
  {
   "cell_type": "code",
   "execution_count": 58,
   "id": "5704d11b-a315-46ac-bb8a-1fb61303bd43",
   "metadata": {},
   "outputs": [],
   "source": [
    "# Strings Creation"
   ]
  },
  {
   "cell_type": "code",
   "execution_count": 59,
   "id": "1618514e-31f3-47a3-bfba-c63056268cd9",
   "metadata": {},
   "outputs": [
    {
     "name": "stdout",
     "output_type": "stream",
     "text": [
      "HELLO PYTHON\n"
     ]
    }
   ],
   "source": [
    "str1 = \"HELLO PYTHON\"\n",
    "print(str1)"
   ]
  },
  {
   "cell_type": "code",
   "execution_count": 61,
   "id": "c1a49b12-aaca-45d8-9c9c-339abaa21495",
   "metadata": {},
   "outputs": [
    {
     "name": "stdout",
     "output_type": "stream",
     "text": [
      " HELLO WORLD\n"
     ]
    }
   ],
   "source": [
    "mystr = ' HELLO WORLD'\n",
    "print(mystr)"
   ]
  },
  {
   "cell_type": "code",
   "execution_count": 63,
   "id": "10d36844-ec7b-4474-ac50-fb826deff09d",
   "metadata": {},
   "outputs": [
    {
     "name": "stdout",
     "output_type": "stream",
     "text": [
      "Hello\n",
      "             World \n"
     ]
    }
   ],
   "source": [
    "mystr = '''Hello\n",
    "             World ''' \n",
    "print(mystr)"
   ]
  },
  {
   "cell_type": "code",
   "execution_count": 65,
   "id": "a5e2b358-8859-422f-a83e-140d0468bb8d",
   "metadata": {},
   "outputs": [
    {
     "name": "stdout",
     "output_type": "stream",
     "text": [
      "Hello\n",
      "           World\n"
     ]
    }
   ],
   "source": [
    " mystr = \"\"\"Hello\n",
    "            World\"\"\" \n",
    "print(mystr)\n"
   ]
  },
  {
   "cell_type": "code",
   "execution_count": 66,
   "id": "8a663e27-4fae-4fea-b0ed-21fd7a61d31e",
   "metadata": {},
   "outputs": [
    {
     "name": "stdout",
     "output_type": "stream",
     "text": [
      "Happy Monday Everyone\n"
     ]
    }
   ],
   "source": [
    "mystr = ('Happy ' 'Monday '\n",
    "         'Everyone')\n",
    "print(mystr)"
   ]
  },
  {
   "cell_type": "code",
   "execution_count": 67,
   "id": "86d945c7-a211-4594-9b0c-48a5df484532",
   "metadata": {},
   "outputs": [
    {
     "data": {
      "text/plain": [
       "'Woohoo Woohoo Woohoo Woohoo Woohoo '"
      ]
     },
     "execution_count": 67,
     "metadata": {},
     "output_type": "execute_result"
    }
   ],
   "source": [
    "mystr2 = 'Woohoo ' \n",
    "mystr2 = mystr2*5 \n",
    "mystr2"
   ]
  },
  {
   "cell_type": "code",
   "execution_count": 68,
   "id": "c9f0842a-7986-44b1-bbe5-adc552b0b7b8",
   "metadata": {},
   "outputs": [
    {
     "data": {
      "text/plain": [
       "35"
      ]
     },
     "execution_count": 68,
     "metadata": {},
     "output_type": "execute_result"
    }
   ],
   "source": [
    "len(mystr2)"
   ]
  },
  {
   "cell_type": "markdown",
   "id": "5c1afbe2-8b97-4090-904e-a172f0055d02",
   "metadata": {},
   "source": [
    "# String Indexing"
   ]
  },
  {
   "cell_type": "code",
   "execution_count": 69,
   "id": "b3ed8344-be5c-47ba-b7c5-e7d181b9a438",
   "metadata": {},
   "outputs": [
    {
     "data": {
      "text/plain": [
       "'HELLO PYTHON'"
      ]
     },
     "execution_count": 69,
     "metadata": {},
     "output_type": "execute_result"
    }
   ],
   "source": [
    "str1"
   ]
  },
  {
   "cell_type": "code",
   "execution_count": 71,
   "id": "05cde8c4-b9f3-4ea0-8086-0db1c4a05abb",
   "metadata": {},
   "outputs": [
    {
     "data": {
      "text/plain": [
       "'H'"
      ]
     },
     "execution_count": 71,
     "metadata": {},
     "output_type": "execute_result"
    }
   ],
   "source": [
    "str1[0]"
   ]
  },
  {
   "cell_type": "code",
   "execution_count": 74,
   "id": "6473ff2a-2c73-4d7a-aa02-f4984dedf434",
   "metadata": {},
   "outputs": [
    {
     "data": {
      "text/plain": [
       "'N'"
      ]
     },
     "execution_count": 74,
     "metadata": {},
     "output_type": "execute_result"
    }
   ],
   "source": [
    "str1[len(str1)-1]"
   ]
  },
  {
   "cell_type": "code",
   "execution_count": 75,
   "id": "30465f75-c41d-4429-9c87-44d071b0feb0",
   "metadata": {},
   "outputs": [
    {
     "data": {
      "text/plain": [
       "'N'"
      ]
     },
     "execution_count": 75,
     "metadata": {},
     "output_type": "execute_result"
    }
   ],
   "source": [
    "str1[-1]"
   ]
  },
  {
   "cell_type": "code",
   "execution_count": 76,
   "id": "52cc7ec4-4da1-41f1-a18e-cc567ab52e70",
   "metadata": {},
   "outputs": [
    {
     "data": {
      "text/plain": [
       "'P'"
      ]
     },
     "execution_count": 76,
     "metadata": {},
     "output_type": "execute_result"
    }
   ],
   "source": [
    "str1[6]"
   ]
  },
  {
   "cell_type": "code",
   "execution_count": 77,
   "id": "f14a2244-04ef-455e-b494-c503d7e5ab33",
   "metadata": {},
   "outputs": [
    {
     "data": {
      "text/plain": [
       "' '"
      ]
     },
     "execution_count": 77,
     "metadata": {},
     "output_type": "execute_result"
    }
   ],
   "source": [
    "str1[5]"
   ]
  },
  {
   "cell_type": "markdown",
   "id": "bed61c0d-2f14-43b9-83a9-e6afdf0fc643",
   "metadata": {},
   "source": [
    "#  String Slicing"
   ]
  },
  {
   "cell_type": "code",
   "execution_count": 78,
   "id": "0098e544-c93d-44cf-b27d-bb5beffdc564",
   "metadata": {},
   "outputs": [
    {
     "data": {
      "text/plain": [
       "'HELLO'"
      ]
     },
     "execution_count": 78,
     "metadata": {},
     "output_type": "execute_result"
    }
   ],
   "source": [
    "str1[0:5]"
   ]
  },
  {
   "cell_type": "code",
   "execution_count": 79,
   "id": "61bdc460-cd7a-4fc8-af9a-377193973ab1",
   "metadata": {},
   "outputs": [
    {
     "data": {
      "text/plain": [
       "'PYTHON'"
      ]
     },
     "execution_count": 79,
     "metadata": {},
     "output_type": "execute_result"
    }
   ],
   "source": [
    "str1[6:12]"
   ]
  },
  {
   "cell_type": "code",
   "execution_count": 80,
   "id": "05c2c7c8-b93e-4a55-b88f-c4ca5085bddc",
   "metadata": {},
   "outputs": [
    {
     "data": {
      "text/plain": [
       "'THON'"
      ]
     },
     "execution_count": 80,
     "metadata": {},
     "output_type": "execute_result"
    }
   ],
   "source": [
    "str1[-4:]"
   ]
  },
  {
   "cell_type": "code",
   "execution_count": 81,
   "id": "6cc24f47-8eb7-4e4b-8e22-f8423313d1a1",
   "metadata": {},
   "outputs": [
    {
     "data": {
      "text/plain": [
       "'PYTHON'"
      ]
     },
     "execution_count": 81,
     "metadata": {},
     "output_type": "execute_result"
    }
   ],
   "source": [
    "str1[-6:]"
   ]
  },
  {
   "cell_type": "code",
   "execution_count": 82,
   "id": "f4059441-d53a-4ec2-afaf-991e65c57793",
   "metadata": {},
   "outputs": [
    {
     "data": {
      "text/plain": [
       "'HELL'"
      ]
     },
     "execution_count": 82,
     "metadata": {},
     "output_type": "execute_result"
    }
   ],
   "source": [
    "str1[:4]"
   ]
  },
  {
   "cell_type": "code",
   "execution_count": 83,
   "id": "b4817a61-5d89-47d0-9fe6-8d16394407f7",
   "metadata": {},
   "outputs": [
    {
     "data": {
      "text/plain": [
       "'HELLO '"
      ]
     },
     "execution_count": 83,
     "metadata": {},
     "output_type": "execute_result"
    }
   ],
   "source": [
    "str1[:6]"
   ]
  },
  {
   "cell_type": "markdown",
   "id": "5cb68453-3a14-4190-859d-9612d39310cf",
   "metadata": {},
   "source": [
    "# Update and Delete string"
   ]
  },
  {
   "cell_type": "code",
   "execution_count": 84,
   "id": "f6b4024f-4ff6-4a8b-ae57-333fe27c2d42",
   "metadata": {},
   "outputs": [
    {
     "data": {
      "text/plain": [
       "'HELLO PYTHON'"
      ]
     },
     "execution_count": 84,
     "metadata": {},
     "output_type": "execute_result"
    }
   ],
   "source": [
    "str1"
   ]
  },
  {
   "cell_type": "code",
   "execution_count": 85,
   "id": "7ec4f1bc-8a9a-422e-9c8f-df3e0ef5581c",
   "metadata": {},
   "outputs": [
    {
     "ename": "TypeError",
     "evalue": "'str' object does not support item assignment",
     "output_type": "error",
     "traceback": [
      "\u001b[0;31m---------------------------------------------------------------------------\u001b[0m",
      "\u001b[0;31mTypeError\u001b[0m                                 Traceback (most recent call last)",
      "Cell \u001b[0;32mIn[85], line 1\u001b[0m\n\u001b[0;32m----> 1\u001b[0m str1[\u001b[38;5;241m0\u001b[39m:\u001b[38;5;241m5\u001b[39m] \u001b[38;5;241m=\u001b[39m \u001b[38;5;124m'\u001b[39m\u001b[38;5;124mHOLAA\u001b[39m\u001b[38;5;124m'\u001b[39m\n",
      "\u001b[0;31mTypeError\u001b[0m: 'str' object does not support item assignment"
     ]
    }
   ],
   "source": [
    "str1[0:5] = 'HOLAA'"
   ]
  },
  {
   "cell_type": "code",
   "execution_count": 86,
   "id": "d86cf653-991c-4dd7-ba89-5d8d091eb990",
   "metadata": {},
   "outputs": [
    {
     "ename": "NameError",
     "evalue": "name 'str1' is not defined",
     "output_type": "error",
     "traceback": [
      "\u001b[0;31m---------------------------------------------------------------------------\u001b[0m",
      "\u001b[0;31mNameError\u001b[0m                                 Traceback (most recent call last)",
      "Cell \u001b[0;32mIn[86], line 2\u001b[0m\n\u001b[1;32m      1\u001b[0m \u001b[38;5;28;01mdel\u001b[39;00m str1\n\u001b[0;32m----> 2\u001b[0m \u001b[38;5;28mprint\u001b[39m(str1)\n",
      "\u001b[0;31mNameError\u001b[0m: name 'str1' is not defined"
     ]
    }
   ],
   "source": [
    "del str1\n",
    "print(str1)"
   ]
  },
  {
   "cell_type": "code",
   "execution_count": 87,
   "id": "d3cbb76a-2960-4a43-8851-08b058522f92",
   "metadata": {},
   "outputs": [
    {
     "name": "stdout",
     "output_type": "stream",
     "text": [
      "HelloAsif\n"
     ]
    }
   ],
   "source": [
    "s1 = \"Hello\"\n",
    "s2 = \"Asif\"\n",
    "s3 = s1 + s2\n",
    "print(s3)"
   ]
  },
  {
   "cell_type": "code",
   "execution_count": null,
   "id": "2e506027-78dc-48e3-a948-707ac967ab61",
   "metadata": {},
   "outputs": [],
   "source": []
  }
 ],
 "metadata": {
  "kernelspec": {
   "display_name": "Python [conda env:base] *",
   "language": "python",
   "name": "conda-base-py"
  },
  "language_info": {
   "codemirror_mode": {
    "name": "ipython",
    "version": 3
   },
   "file_extension": ".py",
   "mimetype": "text/x-python",
   "name": "python",
   "nbconvert_exporter": "python",
   "pygments_lexer": "ipython3",
   "version": "3.13.5"
  }
 },
 "nbformat": 4,
 "nbformat_minor": 5
}
