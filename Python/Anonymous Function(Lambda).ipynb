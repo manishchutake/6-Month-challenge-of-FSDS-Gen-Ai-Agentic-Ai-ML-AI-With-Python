{
 "cells": [
  {
   "cell_type": "code",
   "execution_count": 2,
   "id": "ac7183c8-5077-460c-8bb9-995ad70145a6",
   "metadata": {},
   "outputs": [
    {
     "data": {
      "text/plain": [
       "25"
      ]
     },
     "execution_count": 2,
     "metadata": {},
     "output_type": "execute_result"
    }
   ],
   "source": [
    "def square(a):\n",
    "    return a * a\n",
    "square(5)\n",
    "# what if i dont want to call square() multiple times "
   ]
  },
  {
   "cell_type": "code",
   "execution_count": 3,
   "id": "64bec765-e414-483d-8ed3-3b3d61d30556",
   "metadata": {},
   "outputs": [
    {
     "name": "stdout",
     "output_type": "stream",
     "text": [
      "25\n"
     ]
    }
   ],
   "source": [
    "def square(a):\n",
    "    return a * a\n",
    "result = square(5)\n",
    "print(result)\n",
    "# what if i dont want to call square() multiple times "
   ]
  },
  {
   "cell_type": "code",
   "execution_count": 5,
   "id": "c1a343b0-b90f-495c-b5a8-17e48df3389c",
   "metadata": {},
   "outputs": [
    {
     "data": {
      "text/plain": [
       "25"
      ]
     },
     "execution_count": 5,
     "metadata": {},
     "output_type": "execute_result"
    }
   ],
   "source": [
    "#Lamba function or lambda arguments\n",
    "f = lambda a : a * a # hear a is an argument & operation in the argument is a * a\n",
    "result = f(5)\n",
    "result\n",
    "# hear anonymous function is called lambda \n",
    "# remember lambda alway you need to assgin as function cuz function are object in python"
   ]
  },
  {
   "cell_type": "code",
   "execution_count": 6,
   "id": "393911e2-0294-44d4-9d1d-9c2ee848c2e1",
   "metadata": {},
   "outputs": [
    {
     "name": "stdout",
     "output_type": "stream",
     "text": [
      "5\n",
      "3\n"
     ]
    }
   ],
   "source": [
    "f = lambda a, b : a + b\n",
    "f1 = lambda a, b : a - b\n",
    "result = f(1, 4)\n",
    "result1 = f1(4, 1)\n",
    "print(result)\n",
    "print(result1)\n"
   ]
  },
  {
   "cell_type": "code",
   "execution_count": 7,
   "id": "9bb05d6d-0802-4c9b-b75b-9cb2e67c7109",
   "metadata": {},
   "outputs": [
    {
     "name": "stdout",
     "output_type": "stream",
     "text": [
      "5\n",
      "3\n",
      "4\n"
     ]
    }
   ],
   "source": [
    "f = lambda a, b : a + b\n",
    "f1 = lambda a, b : a - b\n",
    "f2 = lambda a, b : a * b\n",
    "result = f(1, 4)\n",
    "result1 = f1(4, 1)\n",
    "result2 = f2(4, 1)\n",
    "\n",
    "print(result)\n",
    "print(result1)\n",
    "print(result2)"
   ]
  },
  {
   "cell_type": "code",
   "execution_count": 8,
   "id": "e901ee3b-bb7e-4e18-a7a3-97479a0112d0",
   "metadata": {},
   "outputs": [
    {
     "name": "stdout",
     "output_type": "stream",
     "text": [
      "5\n",
      "-1\n"
     ]
    }
   ],
   "source": [
    "#lets define function which will add 2 number\n",
    "# we are defining a function whcih doesnt have name\n",
    "#lambda expresion or lambda function\n",
    "\n",
    "f = lambda a, b : a + b\n",
    "f1 = lambda a, b : a - b\n",
    "\n",
    "result = f(1,4)\n",
    "result1 = f1(2, 3)\n",
    "\n",
    "print(result)\n",
    "print(result1)"
   ]
  },
  {
   "cell_type": "code",
   "execution_count": 9,
   "id": "7b64f09b-976c-40d0-a85f-4ec13137ea8d",
   "metadata": {},
   "outputs": [
    {
     "data": {
      "text/plain": [
       "['False',\n",
       " 'None',\n",
       " 'True',\n",
       " 'and',\n",
       " 'as',\n",
       " 'assert',\n",
       " 'async',\n",
       " 'await',\n",
       " 'break',\n",
       " 'class',\n",
       " 'continue',\n",
       " 'def',\n",
       " 'del',\n",
       " 'elif',\n",
       " 'else',\n",
       " 'except',\n",
       " 'finally',\n",
       " 'for',\n",
       " 'from',\n",
       " 'global',\n",
       " 'if',\n",
       " 'import',\n",
       " 'in',\n",
       " 'is',\n",
       " 'lambda',\n",
       " 'nonlocal',\n",
       " 'not',\n",
       " 'or',\n",
       " 'pass',\n",
       " 'raise',\n",
       " 'return',\n",
       " 'try',\n",
       " 'while',\n",
       " 'with',\n",
       " 'yield']"
      ]
     },
     "execution_count": 9,
     "metadata": {},
     "output_type": "execute_result"
    }
   ],
   "source": [
    "import keyword\n",
    "keyword.kwlist"
   ]
  },
  {
   "cell_type": "code",
   "execution_count": 10,
   "id": "9eac2162-e481-487b-8cfd-fb4c9d90170d",
   "metadata": {},
   "outputs": [
    {
     "ename": "NameError",
     "evalue": "name 'is_even' is not defined",
     "output_type": "error",
     "traceback": [
      "\u001b[0;31m---------------------------------------------------------------------------\u001b[0m",
      "\u001b[0;31mNameError\u001b[0m                                 Traceback (most recent call last)",
      "Cell \u001b[0;32mIn[10], line 3\u001b[0m\n\u001b[1;32m      1\u001b[0m \u001b[38;5;66;03m#lets take one list & i want to find the list of even numbers\u001b[39;00m\n\u001b[1;32m      2\u001b[0m nums \u001b[38;5;241m=\u001b[39m [\u001b[38;5;241m3\u001b[39m,\u001b[38;5;241m2\u001b[39m,\u001b[38;5;241m6\u001b[39m,\u001b[38;5;241m8\u001b[39m,\u001b[38;5;241m4\u001b[39m,\u001b[38;5;241m6\u001b[39m,\u001b[38;5;241m2\u001b[39m,\u001b[38;5;241m9\u001b[39m] \n\u001b[0;32m----> 3\u001b[0m evens \u001b[38;5;241m=\u001b[39m \u001b[38;5;28mlist\u001b[39m(\u001b[38;5;28mfilter\u001b[39m(is_even, nums))\n",
      "\u001b[0;31mNameError\u001b[0m: name 'is_even' is not defined"
     ]
    }
   ],
   "source": [
    "#lets take one list & i want to find the list of even numbers\n",
    "nums = [3,2,6,8,4,6,2,9] \n",
    "evens = list(filter(is_even, nums)) #is_even is not an inbuild function "
   ]
  },
  {
   "cell_type": "code",
   "execution_count": 11,
   "id": "0c8fa11e-c7e0-4456-b8d2-612e602cae2b",
   "metadata": {},
   "outputs": [
    {
     "name": "stdout",
     "output_type": "stream",
     "text": [
      "[2, 6, 8, 4, 6, 2]\n"
     ]
    }
   ],
   "source": [
    "def is_even(n):\n",
    "    return n % 2 == 0\n",
    "\n",
    "nums = [3,2,6,8,4,6,2,9]\n",
    "\n",
    "evens = list(filter(is_even, nums))\n",
    "print(evens)  "
   ]
  },
  {
   "cell_type": "code",
   "execution_count": 14,
   "id": "380cda50-d82f-4462-b9b7-631e040e1e76",
   "metadata": {},
   "outputs": [
    {
     "name": "stdout",
     "output_type": "stream",
     "text": [
      "[3, 9]\n"
     ]
    }
   ],
   "source": [
    "def is_odd(n):\n",
    "    return n % 2 != 0\n",
    "nums = [3,2,6,8,4,6,2,9]\n",
    "odd = list(filter(is_odd, nums))\n",
    "print(odd)"
   ]
  },
  {
   "cell_type": "code",
   "execution_count": 15,
   "id": "fb41c99e-526c-4ca1-83af-03c7ff903a22",
   "metadata": {},
   "outputs": [
    {
     "name": "stdout",
     "output_type": "stream",
     "text": [
      "[2, 6, 8, 4, 6, 2]\n"
     ]
    }
   ],
   "source": [
    "# lets write above function using help of lambda & lambda helps to reduce the line  for better optimization\n",
    "nums = [3,2,6,8,4,6,2,9]\n",
    "evens = list(filter(lambda n : n % 2 == 0, nums))\n",
    "print(evens)"
   ]
  },
  {
   "cell_type": "code",
   "execution_count": 16,
   "id": "9ed91b7b-aab6-4b47-8475-d3f949933621",
   "metadata": {},
   "outputs": [
    {
     "name": "stdout",
     "output_type": "stream",
     "text": [
      "[3, 9]\n"
     ]
    }
   ],
   "source": [
    "nums = [3,2,6,8,4,6,2,9]\n",
    "\n",
    "odd = list(filter(lambda n : n%2 !=0, nums))\n",
    "\n",
    "print(odd) "
   ]
  },
  {
   "cell_type": "code",
   "execution_count": 17,
   "id": "cafb6bce-fbae-4c8d-bb20-22ffdc712b04",
   "metadata": {},
   "outputs": [
    {
     "name": "stdout",
     "output_type": "stream",
     "text": [
      "[2, 6, 8, 4, 6, 2, 34, 120]\n",
      "[3, 9, 77]\n"
     ]
    }
   ],
   "source": [
    "# lets write above function using help of lambda & lambda helps to reduce the line\n",
    "nums = [3,2,6,8,4,6,2,9, 34,77, 120]\n",
    "\n",
    "evens = list(filter(lambda n : n%2 ==0, nums))\n",
    "odd = list(filter(lambda n : n%2 !=0, nums))\n",
    "\n",
    "print(evens) \n",
    "print(odd)"
   ]
  },
  {
   "cell_type": "code",
   "execution_count": 18,
   "id": "97237fa2-8f1d-48e6-ab57-83147ea81871",
   "metadata": {},
   "outputs": [
    {
     "name": "stdout",
     "output_type": "stream",
     "text": [
      "[2, 6, 8, 4, 6, 2]\n",
      "[4, 8, 10, 6, 8, 4]\n"
     ]
    }
   ],
   "source": [
    "def update(n):\n",
    "    return n+2 \n",
    "\n",
    "nums = [3,2,6,8,4,6,2,9]\n",
    "\n",
    "evens = list(filter(is_even, nums))\n",
    "double = list(map(update, evens))\n",
    "\n",
    "print(evens)\n",
    "print(double)  "
   ]
  },
  {
   "cell_type": "code",
   "execution_count": 19,
   "id": "3f97a9f2-a50e-43c0-9382-a1dc71bc6565",
   "metadata": {},
   "outputs": [
    {
     "name": "stdout",
     "output_type": "stream",
     "text": [
      "[2, 6, 8, 4, 6, 2]\n",
      "[4, 12, 16, 8, 12, 4]\n"
     ]
    }
   ],
   "source": [
    "nums = [3,2,6,8,4,6,2,9]\n",
    "\n",
    "evens = list(filter(is_even, nums))\n",
    "double = list(map(lambda n : n*2, evens))\n",
    "\n",
    "print(evens)\n",
    "print(double)  "
   ]
  },
  {
   "cell_type": "code",
   "execution_count": 20,
   "id": "362f255a-a1fc-427c-90c3-59d7a0441af5",
   "metadata": {},
   "outputs": [
    {
     "name": "stdout",
     "output_type": "stream",
     "text": [
      "[2, 6, 8, 4, 6, 2]\n",
      "[4, 12, 16, 8, 12, 4]\n",
      "[4, 8, 10, 6, 8, 4]\n",
      "[0, 4, 6, 2, 4, 0]\n"
     ]
    }
   ],
   "source": [
    "nums = [3,2,6,8,4,6,2,9]\n",
    "\n",
    "evens = list(filter(is_even, nums))\n",
    "\n",
    "double = list(map(lambda n : n*2, evens))\n",
    "double_ = list(map(lambda n : n+2, evens))\n",
    "doubble_1 = list(map(lambda n : n-2, evens)) \n",
    "\n",
    "print(evens)\n",
    "print(double)  \n",
    "print(double_)\n",
    "print(doubble_1)"
   ]
  },
  {
   "cell_type": "code",
   "execution_count": 21,
   "id": "75c1ad92-648d-45aa-a00d-8b43e322f070",
   "metadata": {},
   "outputs": [
    {
     "name": "stdout",
     "output_type": "stream",
     "text": [
      "[4, 12, 16, 8, 12, 4]\n",
      "[0, 4, 6, 2, 4, 0]\n"
     ]
    }
   ],
   "source": [
    "nums = [3,2,6,8,4,6,2,9]\n",
    "\n",
    "evens = list(filter(is_even, nums))\n",
    "\n",
    "double = list(map(lambda n : n*2, evens))\n",
    "double_ = list(map(lambda n : n-2, evens))\n",
    "\n",
    "print(double)  \n",
    "print(double_)"
   ]
  },
  {
   "cell_type": "code",
   "execution_count": 22,
   "id": "a8eb285c-6057-4270-bf26-5a74270d3621",
   "metadata": {},
   "outputs": [
    {
     "name": "stdout",
     "output_type": "stream",
     "text": [
      "[4, 12, 16, 8, 12, 4]\n",
      "[0, 4, 6, 2, 4, 0]\n",
      "[4, 8, 10, 6, 8, 4]\n"
     ]
    }
   ],
   "source": [
    "nums = [3,2,6,8,4,6,2,9]\n",
    "evens = list(filter(is_even, nums))\n",
    "\n",
    "double = list(map(lambda n : n*2, evens))\n",
    "double_ = list(map(lambda n : n-2, evens))\n",
    "double1 = list(map(lambda n : n+2, evens))\n",
    "\n",
    "print(double)  \n",
    "print(double_)\n",
    "print(double1)"
   ]
  },
  {
   "cell_type": "code",
   "execution_count": 23,
   "id": "b713bb9e-7eaf-4daa-9ede-d4c04ea29eb2",
   "metadata": {},
   "outputs": [
    {
     "name": "stdout",
     "output_type": "stream",
     "text": [
      "56\n"
     ]
    }
   ],
   "source": [
    "from functools import reduce\n",
    "\n",
    "def add_all(a,b):\n",
    "    return a+b\n",
    "\n",
    "nums = [3,2,6,8,4,6,2]\n",
    "\n",
    "evens = list(filter(is_even, nums))\n",
    "double = list(map(lambda n : n*2, evens))\n",
    "\n",
    "sums = reduce(add_all, double)\n",
    "sums\n",
    "print(sums)               "
   ]
  },
  {
   "cell_type": "code",
   "execution_count": 24,
   "id": "4cf9704f-9ba1-496b-85f4-701c43e56aac",
   "metadata": {},
   "outputs": [
    {
     "name": "stdout",
     "output_type": "stream",
     "text": [
      "<class 'list'>\n"
     ]
    }
   ],
   "source": [
    "a = [7,8]\n",
    "print(type(a))"
   ]
  },
  {
   "cell_type": "code",
   "execution_count": 25,
   "id": "18f2d011-5af2-4f54-a394-df85a159881b",
   "metadata": {},
   "outputs": [
    {
     "name": "stdout",
     "output_type": "stream",
     "text": [
      "[2, 6, 8, 4, 6, 2]\n",
      "[4, 12, 16, 8, 12, 4]\n",
      "56\n"
     ]
    }
   ],
   "source": [
    "from functools import reduce\n",
    "\n",
    "nums = [3,2,6,8,4,6,2,9]\n",
    "\n",
    "evens = list(filter(is_even, nums))\n",
    "double = list(map(lambda n : n*2, evens))\n",
    "sums = (reduce(lambda a,b : a + b, double))\n",
    "\n",
    "print(evens)\n",
    "print(double)     \n",
    "print(sums) "
   ]
  },
  {
   "cell_type": "markdown",
   "id": "9db7c51f-edef-4243-b863-d69cf549ff63",
   "metadata": {},
   "source": [
    "# Python Decorators"
   ]
  },
  {
   "cell_type": "code",
   "execution_count": 26,
   "id": "b0467685-2b10-47e0-a935-e0e88f478a9f",
   "metadata": {},
   "outputs": [
    {
     "name": "stdout",
     "output_type": "stream",
     "text": [
      "2.0\n"
     ]
    }
   ],
   "source": [
    "def div(a,b):\n",
    "    print(a / b)\n",
    "div(4,2)\n",
    "# but what if we pass the value 2, 4 "
   ]
  },
  {
   "cell_type": "code",
   "execution_count": 27,
   "id": "276832bc-c7f9-4979-b3a1-729c240350d5",
   "metadata": {},
   "outputs": [
    {
     "name": "stdout",
     "output_type": "stream",
     "text": [
      "0.5\n"
     ]
    }
   ],
   "source": [
    "def div(a, b):\n",
    "    print(a / b)\n",
    "div(2,4)"
   ]
  },
  {
   "cell_type": "code",
   "execution_count": 28,
   "id": "353cbd73-e65d-45fc-804d-cef965805036",
   "metadata": {},
   "outputs": [
    {
     "name": "stdout",
     "output_type": "stream",
     "text": [
      "2.0\n"
     ]
    }
   ],
   "source": [
    "def div(a,b):\n",
    "    \n",
    "    if a<b:\n",
    "        a,b = b,a\n",
    "    print(a / b)\n",
    "    \n",
    "div(2,4)"
   ]
  },
  {
   "cell_type": "code",
   "execution_count": 29,
   "id": "2a16931d-970b-4536-9cbd-f8de523e9440",
   "metadata": {},
   "outputs": [
    {
     "name": "stdout",
     "output_type": "stream",
     "text": [
      "2.0\n"
     ]
    }
   ],
   "source": [
    "# using help of the decorator you can add the extra feature in the exicting function \n",
    "\n",
    "def div(a,b):\n",
    "    print(a / b)\n",
    "\n",
    "def div_decorator(func): # hear div_dectorator will accept the div function\n",
    "    def inner(a,b):\n",
    "        if a<b:\n",
    "            a,b = b,a\n",
    "        return func(a,b)\n",
    "    return inner\n",
    "\n",
    "div = div_decorator(div)\n",
    "\n",
    "div(2,4)     "
   ]
  },
  {
   "cell_type": "code",
   "execution_count": 30,
   "id": "8eebeb18-c6b1-4924-833b-6c9539c5295d",
   "metadata": {},
   "outputs": [
    {
     "name": "stdout",
     "output_type": "stream",
     "text": [
      "Something is happening before the function is called.\n",
      "Something is happening after the function is called.\n"
     ]
    }
   ],
   "source": [
    "def my_decorator(func):\n",
    "    def wrapper():\n",
    "        print(\"Something is happening before the function is called.\")\n",
    "        #func()\n",
    "        print(\"Something is happening after the function is called.\")\n",
    "    return wrapper\n",
    "\n",
    "@my_decorator\n",
    "def say_hello():\n",
    "    print(\"Hello!\")\n",
    "\n",
    "say_hello()"
   ]
  },
  {
   "cell_type": "code",
   "execution_count": 31,
   "id": "baee4d18-59e6-433a-a3fe-bd2be2ec4bdc",
   "metadata": {},
   "outputs": [
    {
     "name": "stdout",
     "output_type": "stream",
     "text": [
      "Something is happening before the function is called.\n",
      "Hello!\n",
      "Something is happening after the function is called.\n"
     ]
    }
   ],
   "source": [
    "def my_decorator(func):\n",
    "    def wrapper():\n",
    "        print(\"Something is happening before the function is called.\")\n",
    "        func()\n",
    "        print(\"Something is happening after the function is called.\")\n",
    "    return wrapper\n",
    "\n",
    "@my_decorator\n",
    "def say_hello():\n",
    "    print(\"Hello!\")\n",
    "\n",
    "say_hello()"
   ]
  },
  {
   "cell_type": "code",
   "execution_count": null,
   "id": "7cb39542-cbc7-4e99-b10d-70af2d2b59a6",
   "metadata": {},
   "outputs": [],
   "source": []
  },
  {
   "cell_type": "code",
   "execution_count": null,
   "id": "1d004b16-5dd7-4806-84b5-07eae1251ec3",
   "metadata": {},
   "outputs": [],
   "source": []
  }
 ],
 "metadata": {
  "kernelspec": {
   "display_name": "Python [conda env:base] *",
   "language": "python",
   "name": "conda-base-py"
  },
  "language_info": {
   "codemirror_mode": {
    "name": "ipython",
    "version": 3
   },
   "file_extension": ".py",
   "mimetype": "text/x-python",
   "name": "python",
   "nbconvert_exporter": "python",
   "pygments_lexer": "ipython3",
   "version": "3.13.5"
  }
 },
 "nbformat": 4,
 "nbformat_minor": 5
}
