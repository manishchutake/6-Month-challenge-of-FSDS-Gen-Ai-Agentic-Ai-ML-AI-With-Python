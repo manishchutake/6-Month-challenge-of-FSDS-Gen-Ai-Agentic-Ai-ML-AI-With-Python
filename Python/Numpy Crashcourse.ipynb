{
 "cells": [
  {
   "cell_type": "code",
   "execution_count": 11,
   "id": "90a155a8-dca6-4473-8d43-7d41fe99f00e",
   "metadata": {},
   "outputs": [
    {
     "data": {
      "text/plain": [
       "'2.1.3'"
      ]
     },
     "execution_count": 11,
     "metadata": {},
     "output_type": "execute_result"
    }
   ],
   "source": [
    "import numpy as np\n",
    "np.__version__"
   ]
  },
  {
   "cell_type": "code",
   "execution_count": 12,
   "id": "d13a87f6-03d5-447b-a1d8-c1dbc391148a",
   "metadata": {},
   "outputs": [
    {
     "data": {
      "text/plain": [
       "[0, 1, 2, 3, 4, 5]"
      ]
     },
     "execution_count": 12,
     "metadata": {},
     "output_type": "execute_result"
    }
   ],
   "source": [
    "my_list =[0,1,2,3,4,5]\n",
    "my_list"
   ]
  },
  {
   "cell_type": "code",
   "execution_count": 13,
   "id": "483b0e2a-9d44-4e52-8559-b48029e1fda4",
   "metadata": {},
   "outputs": [
    {
     "data": {
      "text/plain": [
       "array([0, 1, 2, 3, 4, 5])"
      ]
     },
     "execution_count": 13,
     "metadata": {},
     "output_type": "execute_result"
    }
   ],
   "source": [
    "arr = np.array(my_list)\n",
    "arr"
   ]
  },
  {
   "cell_type": "code",
   "execution_count": 14,
   "id": "03629690-e08a-4a5d-b003-231dae51f8ad",
   "metadata": {},
   "outputs": [
    {
     "name": "stdout",
     "output_type": "stream",
     "text": [
      "<class 'numpy.ndarray'>\n"
     ]
    }
   ],
   "source": [
    "print(type(arr))"
   ]
  },
  {
   "cell_type": "code",
   "execution_count": 18,
   "id": "65a10630-bcf2-4250-b2f5-38858827559a",
   "metadata": {},
   "outputs": [
    {
     "data": {
      "text/plain": [
       "array([0, 1, 2, 3, 4, 5, 6, 7, 8, 9])"
      ]
     },
     "execution_count": 18,
     "metadata": {},
     "output_type": "execute_result"
    }
   ],
   "source": [
    "np.arange(10)"
   ]
  },
  {
   "cell_type": "code",
   "execution_count": 19,
   "id": "49f9a854-4893-4e81-b51e-f65a471b5101",
   "metadata": {},
   "outputs": [
    {
     "data": {
      "text/plain": [
       "array([10, 11, 12, 13, 14, 15, 16, 17, 18, 19])"
      ]
     },
     "execution_count": 19,
     "metadata": {},
     "output_type": "execute_result"
    }
   ],
   "source": [
    "np.arange(10,20)"
   ]
  },
  {
   "cell_type": "code",
   "execution_count": 20,
   "id": "7fd18b2c-63b1-43f7-bd96-f48d6864fb6a",
   "metadata": {},
   "outputs": [
    {
     "data": {
      "text/plain": [
       "array([10, 15])"
      ]
     },
     "execution_count": 20,
     "metadata": {},
     "output_type": "execute_result"
    }
   ],
   "source": [
    "np.arange(10,20,5)"
   ]
  },
  {
   "cell_type": "code",
   "execution_count": 21,
   "id": "d6bdb6c3-f128-4bd3-b223-ed5d28cc7276",
   "metadata": {},
   "outputs": [
    {
     "data": {
      "text/plain": [
       "array([10, 15, 20, 25, 30, 35, 40, 45])"
      ]
     },
     "execution_count": 21,
     "metadata": {},
     "output_type": "execute_result"
    }
   ],
   "source": [
    "np.arange(10,50,5)"
   ]
  },
  {
   "cell_type": "code",
   "execution_count": 22,
   "id": "9b77bc90-6e8c-4039-ace0-7f4f03348307",
   "metadata": {},
   "outputs": [
    {
     "data": {
      "text/plain": [
       "array([], dtype=int64)"
      ]
     },
     "execution_count": 22,
     "metadata": {},
     "output_type": "execute_result"
    }
   ],
   "source": [
    "np.arange(20,10)"
   ]
  },
  {
   "cell_type": "code",
   "execution_count": 23,
   "id": "b0f74590-8231-4e9e-af50-87484f1cb5ec",
   "metadata": {},
   "outputs": [
    {
     "data": {
      "text/plain": [
       "array([-20, -19, -18, -17, -16, -15, -14, -13, -12, -11, -10,  -9,  -8,\n",
       "        -7,  -6,  -5,  -4,  -3,  -2,  -1,   0,   1,   2,   3,   4,   5,\n",
       "         6,   7,   8,   9])"
      ]
     },
     "execution_count": 23,
     "metadata": {},
     "output_type": "execute_result"
    }
   ],
   "source": [
    "np.arange(-20,10)"
   ]
  },
  {
   "cell_type": "code",
   "execution_count": 24,
   "id": "e1832282-045e-4660-8332-376092179e8d",
   "metadata": {},
   "outputs": [
    {
     "data": {
      "text/plain": [
       "array([0., 0., 0., 0., 0.])"
      ]
     },
     "execution_count": 24,
     "metadata": {},
     "output_type": "execute_result"
    }
   ],
   "source": [
    "np.zeros(5) # Parameter tuning"
   ]
  },
  {
   "cell_type": "code",
   "execution_count": 26,
   "id": "1f2f39a3-0ef8-46b1-8a5a-6b2a972e6d59",
   "metadata": {},
   "outputs": [
    {
     "data": {
      "text/plain": [
       "array([0, 0, 0, 0, 0])"
      ]
     },
     "execution_count": 26,
     "metadata": {},
     "output_type": "execute_result"
    }
   ],
   "source": [
    "np.zeros(5, dtype = int) #"
   ]
  },
  {
   "cell_type": "code",
   "execution_count": 27,
   "id": "1f695571-4bf0-4386-86c4-3e566fda7b5f",
   "metadata": {},
   "outputs": [
    {
     "data": {
      "text/plain": [
       "array([[0., 0.],\n",
       "       [0., 0.]])"
      ]
     },
     "execution_count": 27,
     "metadata": {},
     "output_type": "execute_result"
    }
   ],
   "source": [
    "np.zeros([2, 2]) # Hyperparameter tuning"
   ]
  },
  {
   "cell_type": "code",
   "execution_count": 28,
   "id": "be65dea0-ed96-4209-a439-426c72a8ca54",
   "metadata": {},
   "outputs": [
    {
     "data": {
      "text/plain": [
       "array([[0., 0., 0., 0.],\n",
       "       [0., 0., 0., 0.],\n",
       "       [0., 0., 0., 0.],\n",
       "       [0., 0., 0., 0.],\n",
       "       [0., 0., 0., 0.]])"
      ]
     },
     "execution_count": 28,
     "metadata": {},
     "output_type": "execute_result"
    }
   ],
   "source": [
    "np.zeros([5, 4])"
   ]
  },
  {
   "cell_type": "code",
   "execution_count": null,
   "id": "4f008db2-8e10-482f-9053-e4f430c16468",
   "metadata": {},
   "outputs": [],
   "source": [
    "np.zeros(5, dtype = int)"
   ]
  },
  {
   "cell_type": "code",
   "execution_count": 29,
   "id": "63b94e56-04ef-4d38-92f0-2a70659036f3",
   "metadata": {},
   "outputs": [
    {
     "data": {
      "text/plain": [
       "array([1., 1.])"
      ]
     },
     "execution_count": 29,
     "metadata": {},
     "output_type": "execute_result"
    }
   ],
   "source": [
    "np.ones(2)"
   ]
  },
  {
   "cell_type": "code",
   "execution_count": 30,
   "id": "ebc0afc8-d741-4a2e-b446-a0054c5f7d25",
   "metadata": {},
   "outputs": [
    {
     "data": {
      "text/plain": [
       "array([1, 1])"
      ]
     },
     "execution_count": 30,
     "metadata": {},
     "output_type": "execute_result"
    }
   ],
   "source": [
    "np.ones(2, dtype = int)"
   ]
  },
  {
   "cell_type": "code",
   "execution_count": 31,
   "id": "9066ca16-9530-472e-bf53-290452c3a9d2",
   "metadata": {},
   "outputs": [
    {
     "data": {
      "text/plain": [
       "array([[1., 1.],\n",
       "       [1., 1.]])"
      ]
     },
     "execution_count": 31,
     "metadata": {},
     "output_type": "execute_result"
    }
   ],
   "source": [
    "np.ones([2, 2])"
   ]
  },
  {
   "cell_type": "code",
   "execution_count": 32,
   "id": "1a70b369-f870-4df2-ab70-17a14907643a",
   "metadata": {},
   "outputs": [
    {
     "data": {
      "text/plain": [
       "array([[1., 1., 1., 1., 1.],\n",
       "       [1., 1., 1., 1., 1.],\n",
       "       [1., 1., 1., 1., 1.],\n",
       "       [1., 1., 1., 1., 1.]])"
      ]
     },
     "execution_count": 32,
     "metadata": {},
     "output_type": "execute_result"
    }
   ],
   "source": [
    "np.ones([4, 5])"
   ]
  },
  {
   "cell_type": "code",
   "execution_count": 33,
   "id": "48eb17fc-b356-41d0-8278-dc7fc787a87c",
   "metadata": {},
   "outputs": [
    {
     "data": {
      "text/plain": [
       "array([0, 1, 2, 3, 4, 5])"
      ]
     },
     "execution_count": 33,
     "metadata": {},
     "output_type": "execute_result"
    }
   ],
   "source": [
    "arr"
   ]
  },
  {
   "cell_type": "code",
   "execution_count": 34,
   "id": "fec8c576-0ac5-4701-8f4e-86aa5f81e27c",
   "metadata": {},
   "outputs": [
    {
     "ename": "NameError",
     "evalue": "name 'rand' is not defined",
     "output_type": "error",
     "traceback": [
      "\u001b[0;31m---------------------------------------------------------------------------\u001b[0m",
      "\u001b[0;31mNameError\u001b[0m                                 Traceback (most recent call last)",
      "Cell \u001b[0;32mIn[34], line 1\u001b[0m\n\u001b[0;32m----> 1\u001b[0m rand(\u001b[38;5;241m3\u001b[39m,\u001b[38;5;241m2\u001b[39m)\n",
      "\u001b[0;31mNameError\u001b[0m: name 'rand' is not defined"
     ]
    }
   ],
   "source": [
    "rand(3,2)"
   ]
  },
  {
   "cell_type": "code",
   "execution_count": 35,
   "id": "d20f425a-7c54-4cc9-a063-60b9a61bd785",
   "metadata": {},
   "outputs": [
    {
     "ename": "NameError",
     "evalue": "name 'random' is not defined",
     "output_type": "error",
     "traceback": [
      "\u001b[0;31m---------------------------------------------------------------------------\u001b[0m",
      "\u001b[0;31mNameError\u001b[0m                                 Traceback (most recent call last)",
      "Cell \u001b[0;32mIn[35], line 1\u001b[0m\n\u001b[0;32m----> 1\u001b[0m random\u001b[38;5;241m.\u001b[39mrand(\u001b[38;5;241m3\u001b[39m,\u001b[38;5;241m2\u001b[39m)\n",
      "\u001b[0;31mNameError\u001b[0m: name 'random' is not defined"
     ]
    }
   ],
   "source": [
    "random.rand(3,2)"
   ]
  },
  {
   "cell_type": "code",
   "execution_count": 36,
   "id": "31178cab-7b0c-48f2-addc-5669b12df6fc",
   "metadata": {},
   "outputs": [
    {
     "data": {
      "text/plain": [
       "array([[0.47675412, 0.73806924],\n",
       "       [0.54309458, 0.84358012],\n",
       "       [0.08025155, 0.59297596]])"
      ]
     },
     "execution_count": 36,
     "metadata": {},
     "output_type": "execute_result"
    }
   ],
   "source": [
    "np.random.rand(3,2)"
   ]
  },
  {
   "cell_type": "code",
   "execution_count": 37,
   "id": "7dea2928-52c5-4a65-a039-eb8904d030e9",
   "metadata": {},
   "outputs": [
    {
     "data": {
      "text/plain": [
       "array([[0.98191852, 0.83354418],\n",
       "       [0.17405081, 0.49445032],\n",
       "       [0.22619433, 0.49258645]])"
      ]
     },
     "execution_count": 37,
     "metadata": {},
     "output_type": "execute_result"
    }
   ],
   "source": [
    "np.random.rand(3,2)"
   ]
  },
  {
   "cell_type": "code",
   "execution_count": 39,
   "id": "9289fd12-6605-4f1c-a32a-7644055ab541",
   "metadata": {},
   "outputs": [
    {
     "data": {
      "text/plain": [
       "array([0.01367879, 0.88700888, 0.48393453])"
      ]
     },
     "execution_count": 39,
     "metadata": {},
     "output_type": "execute_result"
    }
   ],
   "source": [
    "np.random.rand(3)"
   ]
  },
  {
   "cell_type": "code",
   "execution_count": 42,
   "id": "2ac53c4a-7f57-4a76-ac3a-26f0fd641651",
   "metadata": {},
   "outputs": [
    {
     "data": {
      "text/plain": [
       "4"
      ]
     },
     "execution_count": 42,
     "metadata": {},
     "output_type": "execute_result"
    }
   ],
   "source": [
    "np.random.randint(4,6)"
   ]
  },
  {
   "cell_type": "code",
   "execution_count": 45,
   "id": "c5939a14-cc7a-4d02-833d-7aaf721368a2",
   "metadata": {},
   "outputs": [
    {
     "data": {
      "text/plain": [
       "6"
      ]
     },
     "execution_count": 45,
     "metadata": {},
     "output_type": "execute_result"
    }
   ],
   "source": [
    "np.random.randint(0,10)"
   ]
  },
  {
   "cell_type": "code",
   "execution_count": 47,
   "id": "a5899983-641a-42a9-bc2f-220a0f63a7a7",
   "metadata": {},
   "outputs": [
    {
     "data": {
      "text/plain": [
       "array([5, 3, 2, 5])"
      ]
     },
     "execution_count": 47,
     "metadata": {},
     "output_type": "execute_result"
    }
   ],
   "source": [
    "np.random.randint(0,10,4)"
   ]
  },
  {
   "cell_type": "code",
   "execution_count": 48,
   "id": "4544ba0d-331b-4452-ae54-ee618b72af5d",
   "metadata": {},
   "outputs": [
    {
     "data": {
      "text/plain": [
       "array([2, 1, 5, 4, 9])"
      ]
     },
     "execution_count": 48,
     "metadata": {},
     "output_type": "execute_result"
    }
   ],
   "source": [
    "np.random.randint(0,10,5)"
   ]
  },
  {
   "cell_type": "code",
   "execution_count": 53,
   "id": "a8fcc069-4094-4d9d-8271-ed717bd2eb6f",
   "metadata": {},
   "outputs": [
    {
     "data": {
      "text/plain": [
       "array([[17, 32, 29, 26, 15, 14, 34, 28, 13, 30],\n",
       "       [32, 29, 25, 22, 31, 31, 30, 16, 30, 24],\n",
       "       [27, 30, 36, 20, 18, 37, 17, 14, 19, 36],\n",
       "       [20, 28, 29, 38, 37, 31, 20, 20, 18, 16],\n",
       "       [29, 28, 32, 39, 18, 24, 18, 38, 23, 34],\n",
       "       [30, 16, 39, 37, 39, 23, 18, 35, 25, 13],\n",
       "       [19, 22, 18, 27, 22, 30, 38, 20, 17, 37],\n",
       "       [13, 27, 39, 23, 37, 26, 27, 20, 29, 23]])"
      ]
     },
     "execution_count": 53,
     "metadata": {},
     "output_type": "execute_result"
    }
   ],
   "source": [
    "n = np.random.randint(10,40,(8,10))\n",
    "n"
   ]
  },
  {
   "cell_type": "code",
   "execution_count": 54,
   "id": "0115f9b2-b38e-40f0-ae9c-abf52c8a0e67",
   "metadata": {},
   "outputs": [
    {
     "data": {
      "text/plain": [
       "array([17, 32, 29, 26, 15, 14, 34, 28, 13, 30])"
      ]
     },
     "execution_count": 54,
     "metadata": {},
     "output_type": "execute_result"
    }
   ],
   "source": [
    "n[0]"
   ]
  },
  {
   "cell_type": "code",
   "execution_count": 55,
   "id": "9bbaa3bb-7e32-4a92-881a-b287cf29cdcc",
   "metadata": {},
   "outputs": [
    {
     "data": {
      "text/plain": [
       "array([30, 16, 39, 37, 39, 23, 18, 35, 25, 13])"
      ]
     },
     "execution_count": 55,
     "metadata": {},
     "output_type": "execute_result"
    }
   ],
   "source": [
    "n[5]"
   ]
  },
  {
   "cell_type": "code",
   "execution_count": 56,
   "id": "62dc1e19-1db9-48d7-a14d-ae607bae2721",
   "metadata": {},
   "outputs": [
    {
     "data": {
      "text/plain": [
       "array([[17, 32, 29, 26, 15, 14, 34, 28, 13, 30],\n",
       "       [32, 29, 25, 22, 31, 31, 30, 16, 30, 24],\n",
       "       [27, 30, 36, 20, 18, 37, 17, 14, 19, 36],\n",
       "       [20, 28, 29, 38, 37, 31, 20, 20, 18, 16],\n",
       "       [29, 28, 32, 39, 18, 24, 18, 38, 23, 34],\n",
       "       [30, 16, 39, 37, 39, 23, 18, 35, 25, 13],\n",
       "       [19, 22, 18, 27, 22, 30, 38, 20, 17, 37],\n",
       "       [13, 27, 39, 23, 37, 26, 27, 20, 29, 23]])"
      ]
     },
     "execution_count": 56,
     "metadata": {},
     "output_type": "execute_result"
    }
   ],
   "source": [
    "n"
   ]
  },
  {
   "cell_type": "code",
   "execution_count": 57,
   "id": "a2a2c713-d015-4917-9649-a4d4d8376196",
   "metadata": {},
   "outputs": [
    {
     "data": {
      "text/plain": [
       "array([[17, 32, 29, 26, 15, 14, 34, 28, 13, 30],\n",
       "       [32, 29, 25, 22, 31, 31, 30, 16, 30, 24],\n",
       "       [27, 30, 36, 20, 18, 37, 17, 14, 19, 36],\n",
       "       [20, 28, 29, 38, 37, 31, 20, 20, 18, 16],\n",
       "       [29, 28, 32, 39, 18, 24, 18, 38, 23, 34],\n",
       "       [30, 16, 39, 37, 39, 23, 18, 35, 25, 13]])"
      ]
     },
     "execution_count": 57,
     "metadata": {},
     "output_type": "execute_result"
    }
   ],
   "source": [
    "n[0:6]"
   ]
  },
  {
   "cell_type": "code",
   "execution_count": 58,
   "id": "1cf1ab6c-bd24-4fe4-868c-fdd6b0067d5b",
   "metadata": {},
   "outputs": [
    {
     "data": {
      "text/plain": [
       "array([[17, 32, 29, 26, 15, 14, 34, 28, 13, 30],\n",
       "       [32, 29, 25, 22, 31, 31, 30, 16, 30, 24],\n",
       "       [27, 30, 36, 20, 18, 37, 17, 14, 19, 36],\n",
       "       [20, 28, 29, 38, 37, 31, 20, 20, 18, 16],\n",
       "       [29, 28, 32, 39, 18, 24, 18, 38, 23, 34],\n",
       "       [30, 16, 39, 37, 39, 23, 18, 35, 25, 13],\n",
       "       [19, 22, 18, 27, 22, 30, 38, 20, 17, 37],\n",
       "       [13, 27, 39, 23, 37, 26, 27, 20, 29, 23]])"
      ]
     },
     "execution_count": 58,
     "metadata": {},
     "output_type": "execute_result"
    }
   ],
   "source": [
    "n"
   ]
  },
  {
   "cell_type": "code",
   "execution_count": 59,
   "id": "c4ff79b6-727d-4197-9cc3-68077429c9eb",
   "metadata": {},
   "outputs": [
    {
     "data": {
      "text/plain": [
       "array([[13, 27, 39, 23, 37, 26, 27, 20, 29, 23],\n",
       "       [19, 22, 18, 27, 22, 30, 38, 20, 17, 37],\n",
       "       [30, 16, 39, 37, 39, 23, 18, 35, 25, 13],\n",
       "       [29, 28, 32, 39, 18, 24, 18, 38, 23, 34],\n",
       "       [20, 28, 29, 38, 37, 31, 20, 20, 18, 16],\n",
       "       [27, 30, 36, 20, 18, 37, 17, 14, 19, 36],\n",
       "       [32, 29, 25, 22, 31, 31, 30, 16, 30, 24],\n",
       "       [17, 32, 29, 26, 15, 14, 34, 28, 13, 30]])"
      ]
     },
     "execution_count": 59,
     "metadata": {},
     "output_type": "execute_result"
    }
   ],
   "source": [
    "n[::-1]"
   ]
  },
  {
   "cell_type": "code",
   "execution_count": 60,
   "id": "e700bb7f-b61c-4a78-a1e7-1b8f8d7f19be",
   "metadata": {},
   "outputs": [
    {
     "data": {
      "text/plain": [
       "array([[17, 32, 29, 26, 15, 14, 34, 28, 13, 30],\n",
       "       [32, 29, 25, 22, 31, 31, 30, 16, 30, 24],\n",
       "       [27, 30, 36, 20, 18, 37, 17, 14, 19, 36],\n",
       "       [20, 28, 29, 38, 37, 31, 20, 20, 18, 16],\n",
       "       [29, 28, 32, 39, 18, 24, 18, 38, 23, 34],\n",
       "       [30, 16, 39, 37, 39, 23, 18, 35, 25, 13],\n",
       "       [19, 22, 18, 27, 22, 30, 38, 20, 17, 37],\n",
       "       [13, 27, 39, 23, 37, 26, 27, 20, 29, 23]])"
      ]
     },
     "execution_count": 60,
     "metadata": {},
     "output_type": "execute_result"
    }
   ],
   "source": [
    "n"
   ]
  },
  {
   "cell_type": "code",
   "execution_count": 61,
   "id": "775d9741-01d0-4337-811c-283cb9abb7c2",
   "metadata": {},
   "outputs": [
    {
     "data": {
      "text/plain": [
       "array([[17, 32, 29, 26, 15, 14, 34, 28, 13, 30],\n",
       "       [27, 30, 36, 20, 18, 37, 17, 14, 19, 36],\n",
       "       [29, 28, 32, 39, 18, 24, 18, 38, 23, 34],\n",
       "       [19, 22, 18, 27, 22, 30, 38, 20, 17, 37]])"
      ]
     },
     "execution_count": 61,
     "metadata": {},
     "output_type": "execute_result"
    }
   ],
   "source": [
    "n[::2]"
   ]
  },
  {
   "cell_type": "code",
   "execution_count": 62,
   "id": "5b22fa88-c0c4-4cc1-b34c-3ca177111c0b",
   "metadata": {},
   "outputs": [
    {
     "data": {
      "text/plain": [
       "array([[17, 32, 29, 26, 15, 14, 34, 28, 13, 30],\n",
       "       [32, 29, 25, 22, 31, 31, 30, 16, 30, 24],\n",
       "       [27, 30, 36, 20, 18, 37, 17, 14, 19, 36],\n",
       "       [20, 28, 29, 38, 37, 31, 20, 20, 18, 16],\n",
       "       [29, 28, 32, 39, 18, 24, 18, 38, 23, 34],\n",
       "       [30, 16, 39, 37, 39, 23, 18, 35, 25, 13],\n",
       "       [19, 22, 18, 27, 22, 30, 38, 20, 17, 37],\n",
       "       [13, 27, 39, 23, 37, 26, 27, 20, 29, 23]])"
      ]
     },
     "execution_count": 62,
     "metadata": {},
     "output_type": "execute_result"
    }
   ],
   "source": [
    "n"
   ]
  },
  {
   "cell_type": "code",
   "execution_count": 63,
   "id": "00a9aa21-b68c-4e36-8a9e-15d92ab47854",
   "metadata": {},
   "outputs": [
    {
     "data": {
      "text/plain": [
       "array([17, 32, 29, 26, 15, 14, 34, 28, 13, 30])"
      ]
     },
     "execution_count": 63,
     "metadata": {},
     "output_type": "execute_result"
    }
   ],
   "source": [
    "n[0]"
   ]
  },
  {
   "cell_type": "code",
   "execution_count": 64,
   "id": "8fece394-49d1-42b1-9ed0-6d0844e78a58",
   "metadata": {},
   "outputs": [
    {
     "data": {
      "text/plain": [
       "array([[17, 32, 29, 26, 15, 14, 34, 28, 13, 30],\n",
       "       [32, 29, 25, 22, 31, 31, 30, 16, 30, 24],\n",
       "       [27, 30, 36, 20, 18, 37, 17, 14, 19, 36],\n",
       "       [20, 28, 29, 38, 37, 31, 20, 20, 18, 16],\n",
       "       [29, 28, 32, 39, 18, 24, 18, 38, 23, 34],\n",
       "       [30, 16, 39, 37, 39, 23, 18, 35, 25, 13],\n",
       "       [19, 22, 18, 27, 22, 30, 38, 20, 17, 37],\n",
       "       [13, 27, 39, 23, 37, 26, 27, 20, 29, 23]])"
      ]
     },
     "execution_count": 64,
     "metadata": {},
     "output_type": "execute_result"
    }
   ],
   "source": [
    "n"
   ]
  },
  {
   "cell_type": "code",
   "execution_count": 65,
   "id": "f1de601f-3997-4060-b108-63c304551658",
   "metadata": {},
   "outputs": [
    {
     "data": {
      "text/plain": [
       "np.int64(14)"
      ]
     },
     "execution_count": 65,
     "metadata": {},
     "output_type": "execute_result"
    }
   ],
   "source": [
    "n[0,5]"
   ]
  },
  {
   "cell_type": "code",
   "execution_count": 66,
   "id": "437c7cba-5ce2-4670-beef-a7260cb7bd57",
   "metadata": {},
   "outputs": [
    {
     "data": {
      "text/plain": [
       "np.int64(14)"
      ]
     },
     "execution_count": 66,
     "metadata": {},
     "output_type": "execute_result"
    }
   ],
   "source": [
    "n[0,5]"
   ]
  },
  {
   "cell_type": "code",
   "execution_count": 67,
   "id": "8075be36-1e9c-49a6-8002-9545dd5c2325",
   "metadata": {},
   "outputs": [
    {
     "data": {
      "text/plain": [
       "np.int64(35)"
      ]
     },
     "execution_count": 67,
     "metadata": {},
     "output_type": "execute_result"
    }
   ],
   "source": [
    "n[5,-3]"
   ]
  },
  {
   "cell_type": "code",
   "execution_count": 73,
   "id": "87f9fa19-2f1e-4404-9b30-1341612decf6",
   "metadata": {},
   "outputs": [
    {
     "name": "stdout",
     "output_type": "stream",
     "text": [
      "14\n"
     ]
    }
   ],
   "source": [
    "a = n[0,5]\n",
    "print(a)"
   ]
  },
  {
   "cell_type": "code",
   "execution_count": 74,
   "id": "e003b1a1-0312-4498-be24-ef7e5df85600",
   "metadata": {},
   "outputs": [
    {
     "data": {
      "text/plain": [
       "array([[ 1,  2,  3,  4],\n",
       "       [ 5,  6,  7,  8],\n",
       "       [ 9, 10, 11, 12]])"
      ]
     },
     "execution_count": 74,
     "metadata": {},
     "output_type": "execute_result"
    }
   ],
   "source": [
    "np.arange(1,13).reshape(3,4)"
   ]
  },
  {
   "cell_type": "code",
   "execution_count": 77,
   "id": "194acbb9-10a2-4d12-ab66-781ab1962a9f",
   "metadata": {},
   "outputs": [
    {
     "ename": "ValueError",
     "evalue": "cannot reshape array of size 12 into shape (5,5)",
     "output_type": "error",
     "traceback": [
      "\u001b[0;31m---------------------------------------------------------------------------\u001b[0m",
      "\u001b[0;31mValueError\u001b[0m                                Traceback (most recent call last)",
      "Cell \u001b[0;32mIn[77], line 1\u001b[0m\n\u001b[0;32m----> 1\u001b[0m np\u001b[38;5;241m.\u001b[39marange(\u001b[38;5;241m1\u001b[39m,\u001b[38;5;241m13\u001b[39m)\u001b[38;5;241m.\u001b[39mreshape(\u001b[38;5;241m5\u001b[39m,\u001b[38;5;241m5\u001b[39m)\n",
      "\u001b[0;31mValueError\u001b[0m: cannot reshape array of size 12 into shape (5,5)"
     ]
    }
   ],
   "source": [
    "np.arange(1,13).reshape(5,5)"
   ]
  },
  {
   "cell_type": "code",
   "execution_count": 79,
   "id": "2aa21958-8d1a-4960-90e1-1bdad84a3a35",
   "metadata": {},
   "outputs": [
    {
     "data": {
      "text/plain": [
       "array([[ 1,  2],\n",
       "       [ 3,  4],\n",
       "       [ 5,  6],\n",
       "       [ 7,  8],\n",
       "       [ 9, 10],\n",
       "       [11, 12]])"
      ]
     },
     "execution_count": 79,
     "metadata": {},
     "output_type": "execute_result"
    }
   ],
   "source": [
    "np.arange(1,13).reshape(6,2)"
   ]
  },
  {
   "cell_type": "code",
   "execution_count": null,
   "id": "2feaaec3-b2fa-4df1-a54a-259ee71addbb",
   "metadata": {},
   "outputs": [],
   "source": []
  },
  {
   "cell_type": "code",
   "execution_count": null,
   "id": "3e5ff767-8ca6-4a27-9653-b484674730fd",
   "metadata": {},
   "outputs": [],
   "source": []
  },
  {
   "cell_type": "code",
   "execution_count": null,
   "id": "b3b4a089-9a22-4698-9506-b965d2ec628a",
   "metadata": {},
   "outputs": [],
   "source": []
  }
 ],
 "metadata": {
  "kernelspec": {
   "display_name": "Python [conda env:base] *",
   "language": "python",
   "name": "conda-base-py"
  },
  "language_info": {
   "codemirror_mode": {
    "name": "ipython",
    "version": 3
   },
   "file_extension": ".py",
   "mimetype": "text/x-python",
   "name": "python",
   "nbconvert_exporter": "python",
   "pygments_lexer": "ipython3",
   "version": "3.13.5"
  }
 },
 "nbformat": 4,
 "nbformat_minor": 5
}
