{
 "cells": [
  {
   "cell_type": "markdown",
   "id": "d379c907-1023-430a-b491-c4b25ad896d3",
   "metadata": {},
   "source": [
    "# Indexing"
   ]
  },
  {
   "cell_type": "code",
   "execution_count": 3,
   "id": "bae00883-51e5-4dde-8eb1-b0f7aee925da",
   "metadata": {},
   "outputs": [],
   "source": [
    "import numpy as np"
   ]
  },
  {
   "cell_type": "code",
   "execution_count": 4,
   "id": "9e85852c-2791-43d2-b54a-efaac1839eba",
   "metadata": {},
   "outputs": [
    {
     "data": {
      "text/plain": [
       "array([[ 0,  1,  2,  3,  4,  5,  6,  7,  8,  9],\n",
       "       [10, 11, 12, 13, 14, 15, 16, 17, 18, 19],\n",
       "       [20, 21, 22, 23, 24, 25, 26, 27, 28, 29],\n",
       "       [30, 31, 32, 33, 34, 35, 36, 37, 38, 39],\n",
       "       [40, 41, 42, 43, 44, 45, 46, 47, 48, 49],\n",
       "       [50, 51, 52, 53, 54, 55, 56, 57, 58, 59],\n",
       "       [60, 61, 62, 63, 64, 65, 66, 67, 68, 69],\n",
       "       [70, 71, 72, 73, 74, 75, 76, 77, 78, 79],\n",
       "       [80, 81, 82, 83, 84, 85, 86, 87, 88, 89],\n",
       "       [90, 91, 92, 93, 94, 95, 96, 97, 98, 99]])"
      ]
     },
     "execution_count": 4,
     "metadata": {},
     "output_type": "execute_result"
    }
   ],
   "source": [
    "mat = np.arange(0,100).reshape(10,10)\n",
    "mat"
   ]
  },
  {
   "cell_type": "code",
   "execution_count": 5,
   "id": "1d25676b-16a2-4ad7-b787-c590557816fd",
   "metadata": {},
   "outputs": [
    {
     "data": {
      "text/plain": [
       "5"
      ]
     },
     "execution_count": 5,
     "metadata": {},
     "output_type": "execute_result"
    }
   ],
   "source": [
    "row = 4\n",
    "col = 5\n",
    "col"
   ]
  },
  {
   "cell_type": "code",
   "execution_count": 6,
   "id": "4bba11ce-0fee-445c-abec-e37ce4b219b1",
   "metadata": {},
   "outputs": [
    {
     "data": {
      "text/plain": [
       "4"
      ]
     },
     "execution_count": 6,
     "metadata": {},
     "output_type": "execute_result"
    }
   ],
   "source": [
    "row"
   ]
  },
  {
   "cell_type": "code",
   "execution_count": 7,
   "id": "349fc33c-33eb-4143-8cca-2df5228ec654",
   "metadata": {},
   "outputs": [
    {
     "data": {
      "text/plain": [
       "array([[ 0,  1,  2,  3,  4,  5,  6,  7,  8,  9],\n",
       "       [10, 11, 12, 13, 14, 15, 16, 17, 18, 19],\n",
       "       [20, 21, 22, 23, 24, 25, 26, 27, 28, 29],\n",
       "       [30, 31, 32, 33, 34, 35, 36, 37, 38, 39],\n",
       "       [40, 41, 42, 43, 44, 45, 46, 47, 48, 49],\n",
       "       [50, 51, 52, 53, 54, 55, 56, 57, 58, 59],\n",
       "       [60, 61, 62, 63, 64, 65, 66, 67, 68, 69],\n",
       "       [70, 71, 72, 73, 74, 75, 76, 77, 78, 79],\n",
       "       [80, 81, 82, 83, 84, 85, 86, 87, 88, 89],\n",
       "       [90, 91, 92, 93, 94, 95, 96, 97, 98, 99]])"
      ]
     },
     "execution_count": 7,
     "metadata": {},
     "output_type": "execute_result"
    }
   ],
   "source": [
    "mat"
   ]
  },
  {
   "cell_type": "code",
   "execution_count": 8,
   "id": "a95188e1-f2c7-4950-8c25-8cfecbefe274",
   "metadata": {},
   "outputs": [
    {
     "name": "stdout",
     "output_type": "stream",
     "text": [
      "[[ 0  1  2  3  4  5  6  7  8  9]\n",
      " [10 11 12 13 14 15 16 17 18 19]\n",
      " [20 21 22 23 24 25 26 27 28 29]\n",
      " [30 31 32 33 34 35 36 37 38 39]\n",
      " [40 41 42 43 44 45 46 47 48 49]\n",
      " [50 51 52 53 54 55 56 57 58 59]\n",
      " [60 61 62 63 64 65 66 67 68 69]\n",
      " [70 71 72 73 74 75 76 77 78 79]\n",
      " [80 81 82 83 84 85 86 87 88 89]\n",
      " [90 91 92 93 94 95 96 97 98 99]]\n"
     ]
    }
   ],
   "source": [
    "mat[row,col]\n",
    "print(mat)"
   ]
  },
  {
   "cell_type": "code",
   "execution_count": 9,
   "id": "10021b0d-8710-45c1-aedc-ce1cecc93916",
   "metadata": {},
   "outputs": [
    {
     "data": {
      "text/plain": [
       "np.int64(45)"
      ]
     },
     "execution_count": 9,
     "metadata": {},
     "output_type": "execute_result"
    }
   ],
   "source": [
    "mat[4,5]"
   ]
  },
  {
   "cell_type": "code",
   "execution_count": 10,
   "id": "84127af9-0ba3-42da-88af-0594ad06138e",
   "metadata": {},
   "outputs": [
    {
     "data": {
      "text/plain": [
       "array([[ 0,  1,  2,  3,  4,  5,  6,  7,  8,  9],\n",
       "       [10, 11, 12, 13, 14, 15, 16, 17, 18, 19],\n",
       "       [20, 21, 22, 23, 24, 25, 26, 27, 28, 29],\n",
       "       [30, 31, 32, 33, 34, 35, 36, 37, 38, 39],\n",
       "       [40, 41, 42, 43, 44, 45, 46, 47, 48, 49],\n",
       "       [50, 51, 52, 53, 54, 55, 56, 57, 58, 59],\n",
       "       [60, 61, 62, 63, 64, 65, 66, 67, 68, 69],\n",
       "       [70, 71, 72, 73, 74, 75, 76, 77, 78, 79],\n",
       "       [80, 81, 82, 83, 84, 85, 86, 87, 88, 89],\n",
       "       [90, 91, 92, 93, 94, 95, 96, 97, 98, 99]])"
      ]
     },
     "execution_count": 10,
     "metadata": {},
     "output_type": "execute_result"
    }
   ],
   "source": [
    "mat"
   ]
  },
  {
   "cell_type": "code",
   "execution_count": 11,
   "id": "7dd5f8c7-1ae9-4e57-8d55-a050431056aa",
   "metadata": {},
   "outputs": [
    {
     "data": {
      "text/plain": [
       "array([70, 71, 72, 73, 74, 75, 76, 77, 78, 79])"
      ]
     },
     "execution_count": 11,
     "metadata": {},
     "output_type": "execute_result"
    }
   ],
   "source": [
    "mat[7]"
   ]
  },
  {
   "cell_type": "code",
   "execution_count": 12,
   "id": "e95644c8-5822-4dea-9348-442083b761ef",
   "metadata": {},
   "outputs": [
    {
     "data": {
      "text/plain": [
       "array([[ 0,  1,  2,  3,  4,  5,  6,  7,  8,  9],\n",
       "       [10, 11, 12, 13, 14, 15, 16, 17, 18, 19],\n",
       "       [20, 21, 22, 23, 24, 25, 26, 27, 28, 29],\n",
       "       [30, 31, 32, 33, 34, 35, 36, 37, 38, 39],\n",
       "       [40, 41, 42, 43, 44, 45, 46, 47, 48, 49],\n",
       "       [50, 51, 52, 53, 54, 55, 56, 57, 58, 59],\n",
       "       [60, 61, 62, 63, 64, 65, 66, 67, 68, 69],\n",
       "       [70, 71, 72, 73, 74, 75, 76, 77, 78, 79],\n",
       "       [80, 81, 82, 83, 84, 85, 86, 87, 88, 89],\n",
       "       [90, 91, 92, 93, 94, 95, 96, 97, 98, 99]])"
      ]
     },
     "execution_count": 12,
     "metadata": {},
     "output_type": "execute_result"
    }
   ],
   "source": [
    "mat"
   ]
  },
  {
   "cell_type": "code",
   "execution_count": 13,
   "id": "f8c56de9-469e-4e89-af48-479f0dafb06b",
   "metadata": {},
   "outputs": [
    {
     "data": {
      "text/plain": [
       "array([ 5, 15, 25, 35, 45, 55, 65, 75, 85, 95])"
      ]
     },
     "execution_count": 13,
     "metadata": {},
     "output_type": "execute_result"
    }
   ],
   "source": [
    "mat[:,col]"
   ]
  },
  {
   "cell_type": "code",
   "execution_count": 14,
   "id": "d7225a8d-63f5-41fd-acf0-9cc6d93353ba",
   "metadata": {},
   "outputs": [
    {
     "data": {
      "text/plain": [
       "array([50, 51, 52, 53, 54, 55, 56, 57, 58, 59])"
      ]
     },
     "execution_count": 14,
     "metadata": {},
     "output_type": "execute_result"
    }
   ],
   "source": [
    "mat[col]"
   ]
  },
  {
   "cell_type": "code",
   "execution_count": 15,
   "id": "fd5f59cd-f733-4a39-bbf4-e36b0cf596f2",
   "metadata": {},
   "outputs": [
    {
     "data": {
      "text/plain": [
       "array([[ 0,  1,  2,  3,  4,  5,  6,  7,  8,  9],\n",
       "       [10, 11, 12, 13, 14, 15, 16, 17, 18, 19],\n",
       "       [20, 21, 22, 23, 24, 25, 26, 27, 28, 29],\n",
       "       [30, 31, 32, 33, 34, 35, 36, 37, 38, 39],\n",
       "       [40, 41, 42, 43, 44, 45, 46, 47, 48, 49],\n",
       "       [50, 51, 52, 53, 54, 55, 56, 57, 58, 59],\n",
       "       [60, 61, 62, 63, 64, 65, 66, 67, 68, 69],\n",
       "       [70, 71, 72, 73, 74, 75, 76, 77, 78, 79],\n",
       "       [80, 81, 82, 83, 84, 85, 86, 87, 88, 89],\n",
       "       [90, 91, 92, 93, 94, 95, 96, 97, 98, 99]])"
      ]
     },
     "execution_count": 15,
     "metadata": {},
     "output_type": "execute_result"
    }
   ],
   "source": [
    "mat"
   ]
  },
  {
   "cell_type": "code",
   "execution_count": 16,
   "id": "8a8eb8cb-80f2-4171-aa59-3487e5eee3fa",
   "metadata": {},
   "outputs": [
    {
     "data": {
      "text/plain": [
       "array([ 9, 19, 29, 39, 49, 59, 69, 79, 89, 99])"
      ]
     },
     "execution_count": 16,
     "metadata": {},
     "output_type": "execute_result"
    }
   ],
   "source": [
    "mat[:, -1]"
   ]
  },
  {
   "cell_type": "code",
   "execution_count": 17,
   "id": "379e4def-25ea-4e0d-9b39-bae2aace68e8",
   "metadata": {},
   "outputs": [
    {
     "data": {
      "text/plain": [
       "array([ 3, 13, 23, 33, 43, 53, 63, 73, 83, 93])"
      ]
     },
     "execution_count": 17,
     "metadata": {},
     "output_type": "execute_result"
    }
   ],
   "source": [
    "mat[:, 3]"
   ]
  },
  {
   "cell_type": "code",
   "execution_count": 18,
   "id": "ba8ca301-acd7-4f38-bb37-f0841389d0b9",
   "metadata": {},
   "outputs": [
    {
     "data": {
      "text/plain": [
       "4"
      ]
     },
     "execution_count": 18,
     "metadata": {},
     "output_type": "execute_result"
    }
   ],
   "source": [
    "row"
   ]
  },
  {
   "cell_type": "code",
   "execution_count": 19,
   "id": "20084c1c-527c-4b74-be2e-438ae446ee57",
   "metadata": {},
   "outputs": [
    {
     "data": {
      "text/plain": [
       "array([40, 41, 42, 43, 44, 45, 46, 47, 48, 49])"
      ]
     },
     "execution_count": 19,
     "metadata": {},
     "output_type": "execute_result"
    }
   ],
   "source": [
    "mat[row,:]"
   ]
  },
  {
   "cell_type": "code",
   "execution_count": 20,
   "id": "8d1c84b0-8319-4e59-a9ff-029d2101dc65",
   "metadata": {},
   "outputs": [
    {
     "data": {
      "text/plain": [
       "array([40, 41, 42, 43, 44, 45, 46, 47, 48, 49])"
      ]
     },
     "execution_count": 20,
     "metadata": {},
     "output_type": "execute_result"
    }
   ],
   "source": [
    "mat[4,:]"
   ]
  },
  {
   "cell_type": "code",
   "execution_count": 21,
   "id": "9923d476-c4b8-413e-872a-07aea855b58e",
   "metadata": {},
   "outputs": [
    {
     "data": {
      "text/plain": [
       "array([30, 31, 32, 33, 34, 35, 36, 37, 38, 39])"
      ]
     },
     "execution_count": 21,
     "metadata": {},
     "output_type": "execute_result"
    }
   ],
   "source": [
    "mat[3,:]"
   ]
  },
  {
   "cell_type": "code",
   "execution_count": 22,
   "id": "a69f808c-c480-4bff-a3f3-5ac7610f75db",
   "metadata": {},
   "outputs": [
    {
     "data": {
      "text/plain": [
       "array([ 5, 15, 25, 35, 45, 55, 65, 75, 85, 95])"
      ]
     },
     "execution_count": 22,
     "metadata": {},
     "output_type": "execute_result"
    }
   ],
   "source": [
    "mat[:,5]"
   ]
  },
  {
   "cell_type": "code",
   "execution_count": 23,
   "id": "bf2f4e6c-3e0d-4ce0-9af8-c3f092a9bd34",
   "metadata": {},
   "outputs": [
    {
     "data": {
      "text/plain": [
       "array([ 8, 18, 28, 38, 48, 58, 68, 78, 88, 98])"
      ]
     },
     "execution_count": 23,
     "metadata": {},
     "output_type": "execute_result"
    }
   ],
   "source": [
    "mat[:,8]"
   ]
  },
  {
   "cell_type": "code",
   "execution_count": 24,
   "id": "622b5f77-1d68-4fd5-9e81-f48dedf578cc",
   "metadata": {},
   "outputs": [
    {
     "data": {
      "text/plain": [
       "array([[ 0,  1,  2,  3,  4,  5,  6,  7,  8,  9],\n",
       "       [10, 11, 12, 13, 14, 15, 16, 17, 18, 19],\n",
       "       [20, 21, 22, 23, 24, 25, 26, 27, 28, 29],\n",
       "       [30, 31, 32, 33, 34, 35, 36, 37, 38, 39],\n",
       "       [40, 41, 42, 43, 44, 45, 46, 47, 48, 49]])"
      ]
     },
     "execution_count": 24,
     "metadata": {},
     "output_type": "execute_result"
    }
   ],
   "source": [
    "mat[:col]"
   ]
  },
  {
   "cell_type": "code",
   "execution_count": 25,
   "id": "c79aa948-bb38-4e68-a660-8d8ba5d18731",
   "metadata": {},
   "outputs": [
    {
     "data": {
      "text/plain": [
       "array([[ 0,  1,  2,  3,  4,  5,  6,  7,  8,  9],\n",
       "       [10, 11, 12, 13, 14, 15, 16, 17, 18, 19],\n",
       "       [20, 21, 22, 23, 24, 25, 26, 27, 28, 29],\n",
       "       [30, 31, 32, 33, 34, 35, 36, 37, 38, 39],\n",
       "       [40, 41, 42, 43, 44, 45, 46, 47, 48, 49],\n",
       "       [50, 51, 52, 53, 54, 55, 56, 57, 58, 59],\n",
       "       [60, 61, 62, 63, 64, 65, 66, 67, 68, 69],\n",
       "       [70, 71, 72, 73, 74, 75, 76, 77, 78, 79],\n",
       "       [80, 81, 82, 83, 84, 85, 86, 87, 88, 89],\n",
       "       [90, 91, 92, 93, 94, 95, 96, 97, 98, 99]])"
      ]
     },
     "execution_count": 25,
     "metadata": {},
     "output_type": "execute_result"
    }
   ],
   "source": [
    "mat"
   ]
  },
  {
   "cell_type": "code",
   "execution_count": 26,
   "id": "72f8c54a-823e-4158-878c-a12e59ef4a3a",
   "metadata": {},
   "outputs": [
    {
     "data": {
      "text/plain": [
       "array([[22, 23],\n",
       "       [32, 33],\n",
       "       [42, 43],\n",
       "       [52, 53]])"
      ]
     },
     "execution_count": 26,
     "metadata": {},
     "output_type": "execute_result"
    }
   ],
   "source": [
    "mat[2:6,2:4]"
   ]
  },
  {
   "cell_type": "code",
   "execution_count": 27,
   "id": "01367fe8-1c28-43e6-b945-cd76d19f882a",
   "metadata": {},
   "outputs": [
    {
     "data": {
      "text/plain": [
       "array([[23, 24],\n",
       "       [33, 34]])"
      ]
     },
     "execution_count": 27,
     "metadata": {},
     "output_type": "execute_result"
    }
   ],
   "source": [
    "mat[2:4,3:5]"
   ]
  },
  {
   "cell_type": "markdown",
   "id": "6d4a5cee-6e6f-4108-9915-40936404998a",
   "metadata": {},
   "source": [
    "# Masking"
   ]
  },
  {
   "cell_type": "code",
   "execution_count": 28,
   "id": "961e4889-5716-4556-8ed8-9fd3064b0062",
   "metadata": {},
   "outputs": [
    {
     "data": {
      "text/plain": [
       "array([[ 0,  1,  2,  3,  4,  5,  6,  7,  8,  9],\n",
       "       [10, 11, 12, 13, 14, 15, 16, 17, 18, 19],\n",
       "       [20, 21, 22, 23, 24, 25, 26, 27, 28, 29],\n",
       "       [30, 31, 32, 33, 34, 35, 36, 37, 38, 39],\n",
       "       [40, 41, 42, 43, 44, 45, 46, 47, 48, 49],\n",
       "       [50, 51, 52, 53, 54, 55, 56, 57, 58, 59],\n",
       "       [60, 61, 62, 63, 64, 65, 66, 67, 68, 69],\n",
       "       [70, 71, 72, 73, 74, 75, 76, 77, 78, 79],\n",
       "       [80, 81, 82, 83, 84, 85, 86, 87, 88, 89],\n",
       "       [90, 91, 92, 93, 94, 95, 96, 97, 98, 99]])"
      ]
     },
     "execution_count": 28,
     "metadata": {},
     "output_type": "execute_result"
    }
   ],
   "source": [
    "mat"
   ]
  },
  {
   "cell_type": "code",
   "execution_count": 29,
   "id": "60bad611-6c79-4121-8788-5c5b89fe7965",
   "metadata": {},
   "outputs": [
    {
     "data": {
      "text/plain": [
       "array([ 0,  1,  2,  3,  4,  5,  6,  7,  8,  9, 10, 11, 12, 13, 14, 15, 16,\n",
       "       17, 18, 19, 20, 21, 22, 23, 24, 25, 26, 27, 28, 29, 30, 31, 32, 33,\n",
       "       34, 35, 36, 37, 38, 39, 40, 41, 42, 43, 44, 45, 46, 47, 48, 49])"
      ]
     },
     "execution_count": 29,
     "metadata": {},
     "output_type": "execute_result"
    }
   ],
   "source": [
    "mat[mat < 50]"
   ]
  },
  {
   "cell_type": "code",
   "execution_count": 30,
   "id": "22ade6a8-9d89-4883-91d8-66a4268bb141",
   "metadata": {},
   "outputs": [
    {
     "data": {
      "text/plain": [
       "array([50])"
      ]
     },
     "execution_count": 30,
     "metadata": {},
     "output_type": "execute_result"
    }
   ],
   "source": [
    "mat[mat == 50]"
   ]
  },
  {
   "cell_type": "code",
   "execution_count": 31,
   "id": "4d0e3caf-216c-4f87-ae24-43d8c3d11e61",
   "metadata": {},
   "outputs": [
    {
     "data": {
      "text/plain": [
       "array([ 0,  1,  2,  3,  4,  5,  6,  7,  8,  9, 10, 11, 12, 13, 14, 15, 16,\n",
       "       17, 18, 19, 20, 21, 22, 23, 24, 25, 26, 27, 28, 29, 30, 31, 32, 33,\n",
       "       34, 35, 36, 37, 38, 39, 40, 41, 42, 43, 44, 45, 46, 47, 48, 49, 51,\n",
       "       52, 53, 54, 55, 56, 57, 58, 59, 60, 61, 62, 63, 64, 65, 66, 67, 68,\n",
       "       69, 70, 71, 72, 73, 74, 75, 76, 77, 78, 79, 80, 81, 82, 83, 84, 85,\n",
       "       86, 87, 88, 89, 90, 91, 92, 93, 94, 95, 96, 97, 98, 99])"
      ]
     },
     "execution_count": 31,
     "metadata": {},
     "output_type": "execute_result"
    }
   ],
   "source": [
    "mat[mat != 50]"
   ]
  },
  {
   "cell_type": "markdown",
   "id": "040b9ce0-9acb-413e-9011-4bcdf563fd09",
   "metadata": {},
   "source": [
    "# 1. Array Creation Function"
   ]
  },
  {
   "cell_type": "code",
   "execution_count": 32,
   "id": "cc3d8f57-806a-4198-8de0-a4df24be1407",
   "metadata": {},
   "outputs": [
    {
     "name": "stdout",
     "output_type": "stream",
     "text": [
      "array a: [1 2 3]\n"
     ]
    }
   ],
   "source": [
    "# Create an array frim list \n",
    "a = np.array([1,2,3])\n",
    "print(\"array a:\",a)"
   ]
  },
  {
   "cell_type": "code",
   "execution_count": 33,
   "id": "b1e7bb9f-0847-4ae9-8f1d-3865fa6a006c",
   "metadata": {},
   "outputs": [
    {
     "name": "stdout",
     "output_type": "stream",
     "text": [
      "array b: [0 2 4 6 8]\n"
     ]
    }
   ],
   "source": [
    "# Create an array with evenly spaced values\n",
    "b = np.arange(0, 10,2) # Values from 0 to 10 with step 2\n",
    "print(\"array b:\", b)"
   ]
  },
  {
   "cell_type": "code",
   "execution_count": 37,
   "id": "a7dcb366-5a2d-4876-887c-dfbdbe573a1f",
   "metadata": {},
   "outputs": [
    {
     "name": "stdout",
     "output_type": "stream",
     "text": [
      "array c: [0.   0.25 0.5  0.75 1.  ]\n"
     ]
    }
   ],
   "source": [
    "# Create an array with linearly spaced values\n",
    "c = np.linspace(0,1,5) # 5 values evenlyspaced between 0 and 1\n",
    "print(\"array c:\",c)\n"
   ]
  },
  {
   "cell_type": "code",
   "execution_count": 38,
   "id": "b21636e0-c32b-4714-af12-ca309e02162b",
   "metadata": {},
   "outputs": [
    {
     "name": "stdout",
     "output_type": "stream",
     "text": [
      "array d: [[0. 0. 0.]\n",
      " [0. 0. 0.]]\n"
     ]
    }
   ],
   "source": [
    "# Create an array filled with zeros\n",
    "d = np.zeros((2,3)) # 2 x 3 array of zeros\n",
    "print(\"array d:\",d)\n"
   ]
  },
  {
   "cell_type": "code",
   "execution_count": 39,
   "id": "352e4328-4799-42e9-af85-61c895bdc883",
   "metadata": {},
   "outputs": [
    {
     "name": "stdout",
     "output_type": "stream",
     "text": [
      "Array e:\n",
      " [[1. 1.]\n",
      " [1. 1.]\n",
      " [1. 1.]]\n"
     ]
    }
   ],
   "source": [
    "# Create an array filled with ones\n",
    "e = np.ones((3, 2))  # 3x2 array of ones\n",
    "print(\"Array e:\\n\", e)"
   ]
  },
  {
   "cell_type": "code",
   "execution_count": 40,
   "id": "6d577ee8-d734-4ecd-95a1-a8fa3592ad36",
   "metadata": {},
   "outputs": [
    {
     "name": "stdout",
     "output_type": "stream",
     "text": [
      "Identity matrix f:\n",
      " [[1. 0. 0. 0.]\n",
      " [0. 1. 0. 0.]\n",
      " [0. 0. 1. 0.]\n",
      " [0. 0. 0. 1.]]\n"
     ]
    }
   ],
   "source": [
    "# Create an identity matrix\n",
    "f = np.eye(4)  # 4x4 identity matrix\n",
    "print(\"Identity matrix f:\\n\", f)"
   ]
  },
  {
   "cell_type": "markdown",
   "id": "dda3c573-ba1e-4ebd-ba5c-a6c8b4b31bd8",
   "metadata": {},
   "source": [
    "# 2.Array Manipulation Functions"
   ]
  },
  {
   "cell_type": "code",
   "execution_count": 48,
   "id": "d6995bc0-5a78-4a46-9b3e-d6320bcd523f",
   "metadata": {},
   "outputs": [
    {
     "name": "stdout",
     "output_type": "stream",
     "text": [
      "Reshaped array: [[1 2 3]]\n"
     ]
    }
   ],
   "source": [
    "#  Reshape an array\n",
    "a1= np.array([1,2,3])\n",
    "reshaped = np.reshape(a1, (1,3))  # reshape to 1X 3\n",
    "print(\"Reshaped array:\", reshaped)"
   ]
  },
  {
   "cell_type": "code",
   "execution_count": 50,
   "id": "cbbf672f-93dd-441d-9179-c68d8558efa5",
   "metadata": {},
   "outputs": [
    {
     "name": "stdout",
     "output_type": "stream",
     "text": [
      "Flattend array: [1 2 3 4]\n"
     ]
    }
   ],
   "source": [
    "#  Flatten an array\n",
    "f1 = np.array([[1,2],[3,4]])\n",
    "flattened = np.ravel(f1)  # flatten to 1D array\n",
    "print(\"Flattend array:\", flattened)"
   ]
  },
  {
   "cell_type": "code",
   "execution_count": 51,
   "id": "5cb49736-3f9c-4713-95d1-5603c1c99c08",
   "metadata": {},
   "outputs": [
    {
     "name": "stdout",
     "output_type": "stream",
     "text": [
      "Transposed array:\n",
      " [[1 3]\n",
      " [2 4]]\n"
     ]
    }
   ],
   "source": [
    "# Transpose an array\n",
    "e1 = np.array([[1, 2], [3, 4]])\n",
    "transposed = np.transpose(e1)  # Transpose the array\n",
    "print(\"Transposed array:\\n\", transposed)"
   ]
  },
  {
   "cell_type": "code",
   "execution_count": 52,
   "id": "cd0fb787-48ad-4357-a034-65f23b396c24",
   "metadata": {},
   "outputs": [
    {
     "name": "stdout",
     "output_type": "stream",
     "text": [
      "Stacked arrays:\n",
      " [[1 2]\n",
      " [3 4]]\n"
     ]
    }
   ],
   "source": [
    "# Stack arrays vertically\n",
    "a2 = np.array([1, 2])\n",
    "b2 = np.array([3, 4])\n",
    "stacked = np.vstack([a2, b2])  # Stack a and b vertically\n",
    "print(\"Stacked arrays:\\n\", stacked)"
   ]
  },
  {
   "cell_type": "markdown",
   "id": "41e89c60-219b-4323-94ae-b350f0a99d4b",
   "metadata": {},
   "source": [
    "# 3. Mathematical Functions"
   ]
  },
  {
   "cell_type": "code",
   "execution_count": 53,
   "id": "3742a906-9165-4998-8780-272608bf9ab3",
   "metadata": {},
   "outputs": [
    {
     "name": "stdout",
     "output_type": "stream",
     "text": [
      "Added 2 to g: [3 4 5 6]\n"
     ]
    }
   ],
   "source": [
    "#  Add two arrays\n",
    "g = np.array([1,2,3,4])\n",
    "added = np.add(g, 2)  # Add 2 to each element\n",
    "print(\"Added 2 to g:\", added)"
   ]
  },
  {
   "cell_type": "code",
   "execution_count": 59,
   "id": "12a657d4-ab88-419d-8ba6-616a6d4fa700",
   "metadata": {},
   "outputs": [
    {
     "name": "stdout",
     "output_type": "stream",
     "text": [
      "Squared g: [ 1  4  9 16]\n"
     ]
    }
   ],
   "source": [
    "#  Square each element\n",
    "squared  = np.power(g, 2) # square each element\n",
    "print(\"Squared g:\", squared)"
   ]
  },
  {
   "cell_type": "code",
   "execution_count": 60,
   "id": "40624d62-146b-48d8-9200-145f0b8167be",
   "metadata": {},
   "outputs": [
    {
     "name": "stdout",
     "output_type": "stream",
     "text": [
      "Square root of g: [1.         1.41421356 1.73205081 2.        ]\n"
     ]
    }
   ],
   "source": [
    "# Square root of each element\n",
    "sqrt_val = np.sqrt(g)  # Square root of each element\n",
    "print(\"Square root of g:\", sqrt_val)"
   ]
  },
  {
   "cell_type": "code",
   "execution_count": 61,
   "id": "e6ebdd62-d96b-4dcb-9577-8a4898ffc6db",
   "metadata": {},
   "outputs": [
    {
     "name": "stdout",
     "output_type": "stream",
     "text": [
      "[1 2 3]\n",
      "[1 2 3 4]\n"
     ]
    }
   ],
   "source": [
    "print(a1)\n",
    "print(g)"
   ]
  },
  {
   "cell_type": "code",
   "execution_count": 62,
   "id": "e8ecd185-9e80-4af3-a320-465726a1e5ec",
   "metadata": {},
   "outputs": [
    {
     "ename": "ValueError",
     "evalue": "shapes (3,) and (4,) not aligned: 3 (dim 0) != 4 (dim 0)",
     "output_type": "error",
     "traceback": [
      "\u001b[0;31m---------------------------------------------------------------------------\u001b[0m",
      "\u001b[0;31mValueError\u001b[0m                                Traceback (most recent call last)",
      "Cell \u001b[0;32mIn[62], line 3\u001b[0m\n\u001b[1;32m      1\u001b[0m \u001b[38;5;66;03m# Dot product of two arrays\u001b[39;00m\n\u001b[1;32m      2\u001b[0m a2 \u001b[38;5;241m=\u001b[39m np\u001b[38;5;241m.\u001b[39marray([\u001b[38;5;241m1\u001b[39m, \u001b[38;5;241m2\u001b[39m, \u001b[38;5;241m3\u001b[39m])\n\u001b[0;32m----> 3\u001b[0m dot_product \u001b[38;5;241m=\u001b[39m np\u001b[38;5;241m.\u001b[39mdot(a2, g)  \u001b[38;5;66;03m# Dot product of a and g\u001b[39;00m\n\u001b[1;32m      4\u001b[0m \u001b[38;5;28mprint\u001b[39m(\u001b[38;5;124m\"\u001b[39m\u001b[38;5;124mDot product of a and g:\u001b[39m\u001b[38;5;124m\"\u001b[39m, dot_product)\n",
      "\u001b[0;31mValueError\u001b[0m: shapes (3,) and (4,) not aligned: 3 (dim 0) != 4 (dim 0)"
     ]
    }
   ],
   "source": [
    "# Dot product of two arrays\n",
    "a2 = np.array([1, 2, 3])\n",
    "dot_product = np.dot(a2, g)  # Dot product of a and g\n",
    "print(\"Dot product of a and g:\", dot_product)"
   ]
  },
  {
   "cell_type": "code",
   "execution_count": 63,
   "id": "e843f48b-8b71-45a0-9fef-1a6fd7f798bf",
   "metadata": {},
   "outputs": [
    {
     "name": "stdout",
     "output_type": "stream",
     "text": [
      "[1 2 3]\n",
      "[1 2 3]\n"
     ]
    }
   ],
   "source": [
    "print(a)\n",
    "print(a1)"
   ]
  },
  {
   "cell_type": "code",
   "execution_count": 64,
   "id": "6d1db44e-3784-43da-8b7b-5ab0d433a1e6",
   "metadata": {},
   "outputs": [
    {
     "name": "stdout",
     "output_type": "stream",
     "text": [
      "Dot product of a1 and a: 14\n"
     ]
    }
   ],
   "source": [
    "a3 = np.array([1, 2, 3])\n",
    "dot_product = np.dot(a1, a)  # Dot product of a and g\n",
    "print(\"Dot product of a1 and a:\", dot_product)"
   ]
  },
  {
   "cell_type": "markdown",
   "id": "261490b7-8028-4a95-b79b-6d04a8128ba1",
   "metadata": {},
   "source": [
    "# 4. Statstical Functions"
   ]
  },
  {
   "cell_type": "code",
   "execution_count": 65,
   "id": "5557ff43-42ba-4b4d-b59c-3233b92188d5",
   "metadata": {},
   "outputs": [
    {
     "name": "stdout",
     "output_type": "stream",
     "text": [
      "Mean of s: 2.5\n"
     ]
    }
   ],
   "source": [
    "s = np.array([1,2,3,4])\n",
    "mean = np.mean(s)\n",
    "print(\"Mean of s:\", mean)"
   ]
  },
  {
   "cell_type": "code",
   "execution_count": 66,
   "id": "d6f31665-80a0-4c4c-a728-2d2c946fbc6e",
   "metadata": {},
   "outputs": [
    {
     "name": "stdout",
     "output_type": "stream",
     "text": [
      "Standard deviation of s: 1.118033988749895\n"
     ]
    }
   ],
   "source": [
    "# Standard deviation of an array\n",
    "std_dev = np.std(s)\n",
    "print(\"Standard deviation of s:\", std_dev)"
   ]
  },
  {
   "cell_type": "code",
   "execution_count": 67,
   "id": "dd107b3d-e92b-41da-8e7d-24e630c0ff3d",
   "metadata": {},
   "outputs": [
    {
     "name": "stdout",
     "output_type": "stream",
     "text": [
      "Min of s: 1\n"
     ]
    }
   ],
   "source": [
    "# Minimum element of an array\n",
    "minimum = np.min(s)\n",
    "print(\"Min of s:\", minimum)"
   ]
  },
  {
   "cell_type": "code",
   "execution_count": 68,
   "id": "64086f6a-87cc-4bbe-be76-6899f92b791e",
   "metadata": {},
   "outputs": [
    {
     "name": "stdout",
     "output_type": "stream",
     "text": [
      "Max of s: 4\n"
     ]
    }
   ],
   "source": [
    "# Maximum element of an array\n",
    "maximum = np.max(s)\n",
    "print(\"Max of s:\", maximum)"
   ]
  },
  {
   "cell_type": "markdown",
   "id": "52f9d28e-2d43-4998-88f2-4368706b8202",
   "metadata": {},
   "source": [
    "#  5.Linear Algebra Functions"
   ]
  },
  {
   "cell_type": "code",
   "execution_count": 72,
   "id": "c4676127-6628-4106-8457-b772e20d544c",
   "metadata": {},
   "outputs": [],
   "source": [
    "#  create a matrix\n",
    "matrix = np.array([[1,2], [3,4]])"
   ]
  },
  {
   "cell_type": "code",
   "execution_count": 73,
   "id": "4531fc5b-694b-4831-a7db-7948f9c84b89",
   "metadata": {},
   "outputs": [
    {
     "name": "stdout",
     "output_type": "stream",
     "text": [
      "Determinant of matrix: -2.0000000000000004\n"
     ]
    }
   ],
   "source": [
    "# Determinant of a matrix\n",
    "determinant = np.linalg.det(matrix)\n",
    "print(\"Determinant of matrix:\", determinant)"
   ]
  },
  {
   "cell_type": "code",
   "execution_count": 74,
   "id": "af5e5134-d43a-4aac-a572-cfa70e710f62",
   "metadata": {},
   "outputs": [
    {
     "name": "stdout",
     "output_type": "stream",
     "text": [
      "Inverse of matrix:\n",
      " [[-2.   1. ]\n",
      " [ 1.5 -0.5]]\n"
     ]
    }
   ],
   "source": [
    "# Inverse of a matrix\n",
    "inverse = np.linalg.inv(matrix)\n",
    "print(\"Inverse of matrix:\\n\", inverse)"
   ]
  },
  {
   "cell_type": "markdown",
   "id": "a5e54d7f-0e2e-4c80-8718-0b95879cba1e",
   "metadata": {},
   "source": [
    "#  6. Random Sampling Functions"
   ]
  },
  {
   "cell_type": "code",
   "execution_count": 75,
   "id": "9bcb05f7-671d-4b3f-8d8b-559175846cae",
   "metadata": {},
   "outputs": [
    {
     "name": "stdout",
     "output_type": "stream",
     "text": [
      "Random values: [0.74379522 0.80824201 0.93118597]\n"
     ]
    }
   ],
   "source": [
    "# Generate random values between 0 and 1\n",
    "random_vals = np.random.rand(3)  # Array of 3 random values between 0 and 1\n",
    "print(\"Random values:\", random_vals)"
   ]
  },
  {
   "cell_type": "code",
   "execution_count": 76,
   "id": "56c929ae-25c8-4c67-98f0-b74fa089a8f3",
   "metadata": {},
   "outputs": [
    {
     "name": "stdout",
     "output_type": "stream",
     "text": [
      "Random values: [0.5488135  0.71518937 0.60276338]\n"
     ]
    }
   ],
   "source": [
    "# Set seed for reproducibility\n",
    "np.random.seed(0)\n",
    "\n",
    "# Generate random values between 0 and 1\n",
    "random_vals = np.random.rand(3)  # Array of 3 random values between 0 and 1\n",
    "print(\"Random values:\", random_vals)"
   ]
  },
  {
   "cell_type": "code",
   "execution_count": 77,
   "id": "57810a41-390a-4786-889e-209c3c529d8f",
   "metadata": {},
   "outputs": [
    {
     "name": "stdout",
     "output_type": "stream",
     "text": [
      "Random integers: [3 7 9 3 5]\n"
     ]
    }
   ],
   "source": [
    "# Generate random integers\n",
    "rand_ints = np.random.randint(0, 10, size=5)  # Random integers between 0 and 10\n",
    "print(\"Random integers:\", rand_ints)"
   ]
  },
  {
   "cell_type": "code",
   "execution_count": 78,
   "id": "863a7d5b-9dc5-43cd-87e9-eb28160ffb7c",
   "metadata": {},
   "outputs": [
    {
     "name": "stdout",
     "output_type": "stream",
     "text": [
      "Random integers: [5 0 3 3 7]\n"
     ]
    }
   ],
   "source": [
    "# Set seed for reproducibility\n",
    "np.random.seed(0)\n",
    "\n",
    "# Generate random integers\n",
    "rand_ints = np.random.randint(0, 10, size=5)  # Random integers between 0 and 10\n",
    "print(\"Random integers:\", rand_ints)"
   ]
  },
  {
   "cell_type": "markdown",
   "id": "5f9590e9-75ec-4fb1-a172-0f8a91702ed3",
   "metadata": {},
   "source": [
    "#  7. Boolean & Logical Functions"
   ]
  },
  {
   "cell_type": "code",
   "execution_count": 79,
   "id": "7f053af1-5532-43ac-9686-568623f885b8",
   "metadata": {},
   "outputs": [
    {
     "name": "stdout",
     "output_type": "stream",
     "text": [
      "All elements True: False\n"
     ]
    }
   ],
   "source": [
    "# Check if all elements are True\n",
    "# all\n",
    "logical_test = np.array([True, False, True])\n",
    "all_true = np.all(logical_test)  # Check if all are True\n",
    "print(\"All elements True:\", all_true)"
   ]
  },
  {
   "cell_type": "code",
   "execution_count": 80,
   "id": "528d76d0-44bf-438a-a836-89cb3dcd9c7f",
   "metadata": {},
   "outputs": [
    {
     "name": "stdout",
     "output_type": "stream",
     "text": [
      "All elements True: False\n"
     ]
    }
   ],
   "source": [
    "# Check if all elements are True\n",
    "logical_test = np.array([True, False, True])\n",
    "all_true = np.all(logical_test)  # Check if all are True\n",
    "print(\"All elements True:\", all_true)"
   ]
  },
  {
   "cell_type": "code",
   "execution_count": 81,
   "id": "1d1f62ad-acca-4e8b-b4b1-e5fe4f389530",
   "metadata": {},
   "outputs": [
    {
     "name": "stdout",
     "output_type": "stream",
     "text": [
      "All elements True: False\n"
     ]
    }
   ],
   "source": [
    "# Check if all elements are True\n",
    "logical_test = np.array([False, False, False])\n",
    "all_true = np.all(logical_test)  # Check if all are True\n",
    "print(\"All elements True:\", all_true)"
   ]
  },
  {
   "cell_type": "code",
   "execution_count": 86,
   "id": "e7b25480-2179-4708-823e-b550a2a51db0",
   "metadata": {},
   "outputs": [
    {
     "name": "stdout",
     "output_type": "stream",
     "text": [
      "Any elements True: True\n"
     ]
    }
   ],
   "source": [
    "# Check if any elements are True\n",
    "# any\n",
    "logical_test = np.array([True, False, True])\n",
    "any_true = np.any(logical_test)  # Check if any are True\n",
    "print(\"Any elements True:\", any_true)"
   ]
  },
  {
   "cell_type": "markdown",
   "id": "5895c3cf-abea-443b-af26-8dc773e17264",
   "metadata": {},
   "source": [
    "#  8.Set Operations"
   ]
  },
  {
   "cell_type": "code",
   "execution_count": 87,
   "id": "173d8a57-ca86-4401-8e4e-5510ec139f81",
   "metadata": {},
   "outputs": [
    {
     "name": "stdout",
     "output_type": "stream",
     "text": [
      "Intersection of a and b: [3 4]\n"
     ]
    }
   ],
   "source": [
    "# Intersection of two arrays\n",
    "set_a = np.array([1, 2, 3, 4])\n",
    "set_b = np.array([3, 4, 5, 6])\n",
    "intersection = np.intersect1d(set_a, set_b)\n",
    "print(\"Intersection of a and b:\", intersection)"
   ]
  },
  {
   "cell_type": "code",
   "execution_count": 88,
   "id": "7177f223-d360-40e9-83fd-13ce933040ed",
   "metadata": {},
   "outputs": [
    {
     "name": "stdout",
     "output_type": "stream",
     "text": [
      "Union of a and b: [1 2 3 4 5 6]\n"
     ]
    }
   ],
   "source": [
    "# Union of two arrays\n",
    "union = np.union1d(set_a, set_b)\n",
    "print(\"Union of a and b:\", union)"
   ]
  },
  {
   "cell_type": "markdown",
   "id": "dfe66310-b55e-4a90-835f-0c1b6e3ae58e",
   "metadata": {},
   "source": [
    "# 9.Array Attribute Functions"
   ]
  },
  {
   "cell_type": "code",
   "execution_count": 89,
   "id": "1c982ca2-8ab5-48b2-a118-9e83a581ee20",
   "metadata": {},
   "outputs": [
    {
     "name": "stdout",
     "output_type": "stream",
     "text": [
      "Shape of a: (3,)\n",
      "Size of a: 3\n",
      "Number of dimensions of a: 1\n",
      "Data type of a: int64\n"
     ]
    }
   ],
   "source": [
    "# Array attributes\n",
    "a = np.array([1, 2, 3])\n",
    "shape = a.shape  # Shape of the array\n",
    "size = a.size    # Number of elements\n",
    "dimensions = a.ndim  # Number of dimensions\n",
    "dtype = a.dtype   # Data type of the array\n",
    "\n",
    "print(\"Shape of a:\", shape)\n",
    "print(\"Size of a:\", size)\n",
    "print(\"Number of dimensions of a:\", dimensions)\n",
    "print(\"Data type of a:\", dtype)\n"
   ]
  },
  {
   "cell_type": "markdown",
   "id": "90dc2179-a97e-4a5f-86ec-5df05a993247",
   "metadata": {},
   "source": [
    "# 10. Other Functions"
   ]
  },
  {
   "cell_type": "code",
   "execution_count": 90,
   "id": "6fef9879-74e7-4e4c-838e-3cb74f3030c8",
   "metadata": {},
   "outputs": [
    {
     "name": "stdout",
     "output_type": "stream",
     "text": [
      "Copied array: [1 2 3]\n"
     ]
    }
   ],
   "source": [
    "# Create a copy of an array\n",
    "a = np.array([1, 2, 3])\n",
    "copied_array = np.copy(a)  # Create a copy of array a\n",
    "print(\"Copied array:\", copied_array)"
   ]
  },
  {
   "cell_type": "code",
   "execution_count": 91,
   "id": "c8fc6889-0b3f-4b32-82af-1088716ff9f9",
   "metadata": {},
   "outputs": [
    {
     "name": "stdout",
     "output_type": "stream",
     "text": [
      "Size of a in bytes: 24\n"
     ]
    }
   ],
   "source": [
    "# Size in bytes of an array\n",
    "array_size_in_bytes = a.nbytes  # Size in bytes\n",
    "print(\"Size of a in bytes:\", array_size_in_bytes)"
   ]
  },
  {
   "cell_type": "code",
   "execution_count": 92,
   "id": "b3277bc0-0cda-4931-8788-738161c4ed7e",
   "metadata": {},
   "outputs": [
    {
     "name": "stdout",
     "output_type": "stream",
     "text": [
      "Do a and copied_array share memory? False\n"
     ]
    }
   ],
   "source": [
    "# Check if two arrays share memory\n",
    "shared = np.shares_memory(a, copied_array)  # Check if arrays share memory\n",
    "print(\"Do a and copied_array share memory?\", shared)"
   ]
  }
 ],
 "metadata": {
  "kernelspec": {
   "display_name": "Python [conda env:base] *",
   "language": "python",
   "name": "conda-base-py"
  },
  "language_info": {
   "codemirror_mode": {
    "name": "ipython",
    "version": 3
   },
   "file_extension": ".py",
   "mimetype": "text/x-python",
   "name": "python",
   "nbconvert_exporter": "python",
   "pygments_lexer": "ipython3",
   "version": "3.13.5"
  }
 },
 "nbformat": 4,
 "nbformat_minor": 5
}
