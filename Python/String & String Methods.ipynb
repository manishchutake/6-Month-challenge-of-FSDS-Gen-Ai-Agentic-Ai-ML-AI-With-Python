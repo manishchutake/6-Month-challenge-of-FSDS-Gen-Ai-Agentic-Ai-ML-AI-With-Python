{
 "cells": [
  {
   "cell_type": "markdown",
   "id": "48b9782a-596a-446f-a8be-f37445823509",
   "metadata": {},
   "source": [
    "# Print"
   ]
  },
  {
   "cell_type": "code",
   "execution_count": 2,
   "id": "3d3763be-6655-4b75-88db-e91e6297e15d",
   "metadata": {},
   "outputs": [
    {
     "data": {
      "text/plain": [
       "20"
      ]
     },
     "execution_count": 2,
     "metadata": {},
     "output_type": "execute_result"
    }
   ],
   "source": [
    "a = 10\n",
    "b = 20\n",
    "a\n",
    "b"
   ]
  },
  {
   "cell_type": "code",
   "execution_count": 3,
   "id": "40fc4c30-ec62-4716-8000-28e3ec2c0f03",
   "metadata": {},
   "outputs": [
    {
     "name": "stdout",
     "output_type": "stream",
     "text": [
      "10\n",
      "20\n"
     ]
    }
   ],
   "source": [
    "a = 10\n",
    "b = 20\n",
    "print(a)\n",
    "print(b)"
   ]
  },
  {
   "cell_type": "code",
   "execution_count": 4,
   "id": "68b4ca21-cfd6-412d-98dc-b2dba1b4837f",
   "metadata": {},
   "outputs": [
    {
     "name": "stdout",
     "output_type": "stream",
     "text": [
      "10\n",
      "10 20\n",
      "python\n",
      "10 20 python\n"
     ]
    }
   ],
   "source": [
    "print(10)\n",
    "print(10, 20)\n",
    "print('python')\n",
    "print(10, 20,'python')"
   ]
  },
  {
   "cell_type": "code",
   "execution_count": 5,
   "id": "2e8d098d-6cee-411a-94d4-df79f9a1e2cc",
   "metadata": {},
   "outputs": [
    {
     "name": "stdout",
     "output_type": "stream",
     "text": [
      "50\n"
     ]
    }
   ],
   "source": [
    "num1 = 20\n",
    "num2 = 30\n",
    "add = num1 + num2\n",
    "print(add)"
   ]
  },
  {
   "cell_type": "markdown",
   "id": "a2355deb-7b68-4b22-b74d-63006cd8ea21",
   "metadata": {},
   "source": [
    "# Print result with string"
   ]
  },
  {
   "cell_type": "code",
   "execution_count": 6,
   "id": "6d5bf5ae-a49f-4def-915e-8ac7ccf9f374",
   "metadata": {},
   "outputs": [
    {
     "name": "stdout",
     "output_type": "stream",
     "text": [
      "The addition of 20 and 30 is= 50\n"
     ]
    }
   ],
   "source": [
    "num1 = 20\n",
    "num2 = 30\n",
    "add = num1 + num2\n",
    "print('The addition of',num1,'and',num2,'is=',add)"
   ]
  },
  {
   "cell_type": "code",
   "execution_count": 7,
   "id": "3441f1cb-7e99-4e07-9d4c-07146910b133",
   "metadata": {},
   "outputs": [
    {
     "name": "stdout",
     "output_type": "stream",
     "text": [
      "My name is  python and i am 20 years old from hyd\n"
     ]
    }
   ],
   "source": [
    "name = 'python'\n",
    "age = 20\n",
    "city = 'hyd'\n",
    "print('My name is ',name,'and i am',age,'years old from',city)\n"
   ]
  },
  {
   "cell_type": "code",
   "execution_count": 11,
   "id": "ec9a5439-ffeb-45a5-8daa-519c01466189",
   "metadata": {},
   "outputs": [
    {
     "name": "stdout",
     "output_type": "stream",
     "text": [
      "The addition of 20 and 30 is = 50\n"
     ]
    }
   ],
   "source": [
    "num1 = 20\n",
    "num2 = 30\n",
    "add = num1 + num2 \n",
    "print('The addition of {} and {} is = {}'.format(num1, num2, add))"
   ]
  },
  {
   "cell_type": "code",
   "execution_count": null,
   "id": "40cb1af2-35ad-413a-8fb0-f30a7d5c5303",
   "metadata": {},
   "outputs": [],
   "source": [
    "name = 'python'\n",
    "age = 20\n",
    "city= 'hyd'"
   ]
  },
  {
   "cell_type": "code",
   "execution_count": 13,
   "id": "ce230198-3c73-4e60-92db-0d17af70fac5",
   "metadata": {},
   "outputs": [
    {
     "name": "stdout",
     "output_type": "stream",
     "text": [
      "hello my name is python,and i am 20 years old from hyd\n"
     ]
    }
   ],
   "source": [
    "print('hello my name is {},and i am {} years old from {}'.format(name,age,city))"
   ]
  },
  {
   "cell_type": "code",
   "execution_count": 15,
   "id": "72934b71-71ee-4562-bb15-69dc372b49a2",
   "metadata": {},
   "outputs": [],
   "source": [
    "num1 = 100\n",
    "num2 = 25\n",
    "num3 = 333\n",
    "avg = (num1 + num2 + num3)/ 3\n",
    "avg1 = round(num1 + num2 + num3)/3,2"
   ]
  },
  {
   "cell_type": "code",
   "execution_count": 16,
   "id": "3e443515-a826-468d-992e-2b937074c510",
   "metadata": {},
   "outputs": [
    {
     "name": "stdout",
     "output_type": "stream",
     "text": [
      "the average of 100, 25,and 333 is 152.66666666666666 or (152.66666666666666, 2)\n"
     ]
    }
   ],
   "source": [
    "print('the average of {}, {},and {} is {} or {}'.format(num1,num2,num3,avg, avg1))"
   ]
  },
  {
   "cell_type": "code",
   "execution_count": 17,
   "id": "774fd2ab-26ad-44f2-a800-04c0b81fff8d",
   "metadata": {},
   "outputs": [
    {
     "data": {
      "text/plain": [
       "152.67"
      ]
     },
     "execution_count": 17,
     "metadata": {},
     "output_type": "execute_result"
    }
   ],
   "source": [
    "round(avg,2)"
   ]
  },
  {
   "cell_type": "markdown",
   "id": "b2fd0942-5cd9-4d29-9bbb-21babadd777c",
   "metadata": {},
   "source": [
    "# More short format method( f string method)"
   ]
  },
  {
   "cell_type": "code",
   "execution_count": 19,
   "id": "253285ae-366d-48e3-ba0a-1dbc90eb902e",
   "metadata": {},
   "outputs": [
    {
     "name": "stdout",
     "output_type": "stream",
     "text": [
      "the addition of 20 and 30 is = 50\n"
     ]
    }
   ],
   "source": [
    "num1 = 20\n",
    "num2 = 30\n",
    "add = num1 + num2\n",
    "print(f'the addition of {num1} and {num2} is = {add}')"
   ]
  },
  {
   "cell_type": "code",
   "execution_count": 22,
   "id": "c6ef7b68-e1da-45e3-94cf-6ca26f62432a",
   "metadata": {},
   "outputs": [
    {
     "name": "stdout",
     "output_type": "stream",
     "text": [
      "hello my name is python, i am 20 years old from hyd.\n"
     ]
    }
   ],
   "source": [
    "name = 'python'\n",
    "age = 20\n",
    "city = 'hyd'\n",
    "print(f'hello my name is {name}, i am {age} years old from {city}.')"
   ]
  },
  {
   "cell_type": "code",
   "execution_count": 23,
   "id": "d29e5d0e-02b6-4be0-a881-b15fd6a89b72",
   "metadata": {},
   "outputs": [
    {
     "name": "stdout",
     "output_type": "stream",
     "text": [
      "the average of 100, 25 and 333 is = 152.67\n"
     ]
    }
   ],
   "source": [
    "num1 = 100\n",
    "num2 = 25\n",
    "num3 = 333\n",
    "avg = round((num1 + num2 + num3)/ 3,2)\n",
    "print(f'the average of {num1}, {num2} and {num3} is = {avg}')"
   ]
  },
  {
   "cell_type": "code",
   "execution_count": 28,
   "id": "750b7a6b-01bf-4043-9cea-9f4bf8e98b04",
   "metadata": {},
   "outputs": [
    {
     "name": "stdout",
     "output_type": "stream",
     "text": [
      "The addition of 10 and 20 is= 30\n",
      "The addition of 10 and 20 is = 30\n",
      "the addition of 10 and 20 is = 30\n"
     ]
    }
   ],
   "source": [
    "num1 = 10\n",
    "num2 = 20\n",
    "add = num1 + num2\n",
    "print('The addition of', num1,'and',num2,'is=', add)\n",
    "print('The addition of {} and {} is = {}'.format(num1, num2, add))\n",
    "print(f'the addition of {num1} and {num2} is = {add}')\n"
   ]
  },
  {
   "cell_type": "markdown",
   "id": "bd3e1eab-da69-4911-9bc4-b42ddb0b0448",
   "metadata": {},
   "source": [
    "#  End Statement"
   ]
  },
  {
   "cell_type": "code",
   "execution_count": 29,
   "id": "28e491d7-30c4-4948-b990-dd94b10013e7",
   "metadata": {},
   "outputs": [
    {
     "name": "stdout",
     "output_type": "stream",
     "text": [
      "hello\n",
      "good morning\n"
     ]
    }
   ],
   "source": [
    "print('hello')\n",
    "print('good morning')"
   ]
  },
  {
   "cell_type": "code",
   "execution_count": 31,
   "id": "b5660604-e564-4799-b397-cd58d991a7a2",
   "metadata": {},
   "outputs": [
    {
     "name": "stdout",
     "output_type": "stream",
     "text": [
      "hello world good day\n"
     ]
    }
   ],
   "source": [
    "print('hello', end= ' ')\n",
    "print('world good day')"
   ]
  },
  {
   "cell_type": "markdown",
   "id": "5593113f-0e76-4a1d-8e53-4cc177d6872b",
   "metadata": {},
   "source": [
    "#  Separator"
   ]
  },
  {
   "cell_type": "code",
   "execution_count": 33,
   "id": "3ce0be7e-2999-42bd-82aa-73f2b401cd86",
   "metadata": {},
   "outputs": [
    {
     "name": "stdout",
     "output_type": "stream",
     "text": [
      "hello--->hai--->how are you\n"
     ]
    }
   ],
   "source": [
    "print('hello','hai','how are you',sep='--->')"
   ]
  },
  {
   "cell_type": "code",
   "execution_count": 34,
   "id": "c5972c14-d3da-4e4d-9924-e16a954e1a45",
   "metadata": {},
   "outputs": [
    {
     "name": "stdout",
     "output_type": "stream",
     "text": [
      "hello&hai&how are you\n"
     ]
    }
   ],
   "source": [
    "print('hello','hai','how are you',sep='&')"
   ]
  },
  {
   "cell_type": "code",
   "execution_count": 35,
   "id": "101a4716-2324-4b2c-bb89-ac975acd5a5e",
   "metadata": {},
   "outputs": [
    {
     "name": "stdout",
     "output_type": "stream",
     "text": [
      "hello@hai@how are you\n"
     ]
    }
   ],
   "source": [
    "print('hello','hai','how are you',sep='@')"
   ]
  },
  {
   "cell_type": "code",
   "execution_count": 36,
   "id": "2122026f-14e2-4077-beb4-8effc0cbe5aa",
   "metadata": {},
   "outputs": [
    {
     "name": "stdout",
     "output_type": "stream",
     "text": [
      "hello hai how are you\n"
     ]
    }
   ],
   "source": [
    "print('hello','hai','how are you',sep=' ')"
   ]
  },
  {
   "cell_type": "code",
   "execution_count": 37,
   "id": "e769fe32-724d-4a29-8636-c6bf7e664014",
   "metadata": {},
   "outputs": [
    {
     "name": "stdout",
     "output_type": "stream",
     "text": [
      "3 .\n"
     ]
    }
   ],
   "source": [
    "print(3, '.')"
   ]
  },
  {
   "cell_type": "code",
   "execution_count": 38,
   "id": "23ecb731-3055-414f-867e-644a89425492",
   "metadata": {},
   "outputs": [
    {
     "name": "stdout",
     "output_type": "stream",
     "text": [
      "3.\n"
     ]
    }
   ],
   "source": [
    "print(3, '.', sep ='')"
   ]
  },
  {
   "cell_type": "code",
   "execution_count": 39,
   "id": "075192df-dbdb-405d-9c11-007c68010224",
   "metadata": {},
   "outputs": [
    {
     "name": "stdout",
     "output_type": "stream",
     "text": [
      "1 2 3 .\n"
     ]
    }
   ],
   "source": [
    "print(1, 2, end=' ')\n",
    "print(3,'.',sep=' ')"
   ]
  },
  {
   "cell_type": "markdown",
   "id": "a2f271d0-1174-4961-854c-fdb39ee990d6",
   "metadata": {},
   "source": [
    "#  Single Line Comment"
   ]
  },
  {
   "cell_type": "code",
   "execution_count": 45,
   "id": "066d09dd-0179-44a3-87be-3e693e1756fa",
   "metadata": {},
   "outputs": [
    {
     "name": "stdout",
     "output_type": "stream",
     "text": [
      "P\n"
     ]
    }
   ],
   "source": [
    "letter = 'P'\n",
    "print(letter)"
   ]
  },
  {
   "cell_type": "code",
   "execution_count": 47,
   "id": "a5837713-f0a6-4337-b385-75815217da2c",
   "metadata": {},
   "outputs": [
    {
     "name": "stdout",
     "output_type": "stream",
     "text": [
      "1\n"
     ]
    }
   ],
   "source": [
    "print(len(letter))"
   ]
  },
  {
   "cell_type": "code",
   "execution_count": 50,
   "id": "2b0b156a-ef02-4b1a-b900-11d23eae427a",
   "metadata": {},
   "outputs": [
    {
     "name": "stdout",
     "output_type": "stream",
     "text": [
      "Hello, world!\n"
     ]
    }
   ],
   "source": [
    "greeting = 'Hello, world!'\n",
    "print(greeting)"
   ]
  },
  {
   "cell_type": "code",
   "execution_count": 51,
   "id": "366a24f6-ae4b-4d34-a5ca-acf0611c1b08",
   "metadata": {},
   "outputs": [
    {
     "name": "stdout",
     "output_type": "stream",
     "text": [
      "13\n"
     ]
    }
   ],
   "source": [
    "print(len(greeting))"
   ]
  },
  {
   "cell_type": "code",
   "execution_count": 52,
   "id": "672136bb-eaf1-4fd3-8fbe-3c2ee5e29d97",
   "metadata": {},
   "outputs": [
    {
     "name": "stdout",
     "output_type": "stream",
     "text": [
      "I hope you are enjoying 30 days of python challenge\n"
     ]
    }
   ],
   "source": [
    "sentence = \"I hope you are enjoying 30 days of python challenge\"\n",
    "print(sentence)"
   ]
  },
  {
   "cell_type": "markdown",
   "id": "e497cbbc-7699-4208-a872-6db3b1759764",
   "metadata": {},
   "source": [
    "# Multiline String"
   ]
  },
  {
   "cell_type": "code",
   "execution_count": 53,
   "id": "2d6aec4e-2d5c-4a4b-ae9d-f9a48d5ee831",
   "metadata": {},
   "outputs": [
    {
     "name": "stdout",
     "output_type": "stream",
     "text": [
      "I am a teacher and enjoy teaching.\n",
      "I didn't find anything as rewarding as empowering people.\n",
      "That is why I created 30 days of python.\n"
     ]
    }
   ],
   "source": [
    "multiline_string = '''I am a teacher and enjoy teaching.\n",
    "I didn't find anything as rewarding as empowering people.\n",
    "That is why I created 30 days of python.'''\n",
    "print(multiline_string)"
   ]
  },
  {
   "cell_type": "code",
   "execution_count": 55,
   "id": "8bc97f17-cf71-4e5c-b3ab-6624e7aa9876",
   "metadata": {},
   "outputs": [
    {
     "name": "stdout",
     "output_type": "stream",
     "text": [
      "I am a teacher and enjoy teaching.\n",
      "I didn't find anything as rewarding as empowering people.\n",
      "That is why I created 30 days of python.\n"
     ]
    }
   ],
   "source": [
    "multiline_string = \"\"\"I am a teacher and enjoy teaching.\n",
    "I didn't find anything as rewarding as empowering people.\n",
    "That is why I created 30 days of python.\"\"\"\n",
    "print(multiline_string)"
   ]
  },
  {
   "cell_type": "markdown",
   "id": "e4cb77f4-55ca-4185-89ff-6a10d346bf73",
   "metadata": {},
   "source": [
    "# String Concatenation"
   ]
  },
  {
   "cell_type": "code",
   "execution_count": 56,
   "id": "785f129c-ba27-4976-b471-dd169a6a5dc5",
   "metadata": {},
   "outputs": [
    {
     "name": "stdout",
     "output_type": "stream",
     "text": [
      "Asabeneh yetayeh\n"
     ]
    }
   ],
   "source": [
    "first_name = 'Asabeneh'\n",
    "last_name = 'yetayeh'\n",
    "space = ' '\n",
    "full_name = first_name + space + last_name\n",
    "print(full_name)"
   ]
  },
  {
   "cell_type": "code",
   "execution_count": 57,
   "id": "37a480db-3e5d-4b4d-b7ac-73422031a0d4",
   "metadata": {},
   "outputs": [
    {
     "name": "stdout",
     "output_type": "stream",
     "text": [
      "8\n"
     ]
    }
   ],
   "source": [
    "print(len(first_name))"
   ]
  },
  {
   "cell_type": "code",
   "execution_count": 60,
   "id": "4d47b97a-6ee8-4eca-bff3-2d24e73128e7",
   "metadata": {},
   "outputs": [
    {
     "name": "stdout",
     "output_type": "stream",
     "text": [
      "7\n"
     ]
    }
   ],
   "source": [
    "print(len(last_name))"
   ]
  },
  {
   "cell_type": "code",
   "execution_count": 61,
   "id": "25175445-c2a1-4426-9794-68dfd0b90ad4",
   "metadata": {},
   "outputs": [
    {
     "name": "stdout",
     "output_type": "stream",
     "text": [
      "True\n"
     ]
    }
   ],
   "source": [
    "print(len(first_name) > len(last_name))"
   ]
  },
  {
   "cell_type": "code",
   "execution_count": 63,
   "id": "ca030ae8-e4fb-42c9-a142-d0b4b849df4e",
   "metadata": {},
   "outputs": [
    {
     "name": "stdout",
     "output_type": "stream",
     "text": [
      "16\n"
     ]
    }
   ],
   "source": [
    "print(len(full_name))"
   ]
  },
  {
   "cell_type": "markdown",
   "id": "97706a97-bcab-4148-aa4b-01859e4e69a0",
   "metadata": {},
   "source": [
    "# Unpacking Characters"
   ]
  },
  {
   "cell_type": "code",
   "execution_count": 64,
   "id": "b7565dca-0db2-4bc5-9f9d-a3fe6a54b97f",
   "metadata": {},
   "outputs": [
    {
     "name": "stdout",
     "output_type": "stream",
     "text": [
      "P\n",
      "y\n",
      "t\n",
      "h\n",
      "o\n",
      "n\n"
     ]
    }
   ],
   "source": [
    "language = 'Python'\n",
    "a, b, c, d, e, f = language\n",
    "print(a)\n",
    "print(b)\n",
    "print(c)\n",
    "print(d)\n",
    "print(e)\n",
    "print(f)\n"
   ]
  },
  {
   "cell_type": "markdown",
   "id": "905f435b-0149-44f9-ba85-594aa555c719",
   "metadata": {},
   "source": [
    "# Accessing characters in strings by index"
   ]
  },
  {
   "cell_type": "code",
   "execution_count": 66,
   "id": "7ba99074-ae76-4e3c-823a-09f8538d6f31",
   "metadata": {},
   "outputs": [
    {
     "name": "stdout",
     "output_type": "stream",
     "text": [
      "P\n"
     ]
    }
   ],
   "source": [
    "language = 'Python'\n",
    "first_letter = language[0]\n",
    "print(first_letter)"
   ]
  },
  {
   "cell_type": "code",
   "execution_count": 67,
   "id": "9dfb3f4d-81bd-4993-a589-ac2765592b12",
   "metadata": {},
   "outputs": [
    {
     "name": "stdout",
     "output_type": "stream",
     "text": [
      "y\n"
     ]
    }
   ],
   "source": [
    "second_letter = language[1]\n",
    "print(second_letter)"
   ]
  },
  {
   "cell_type": "code",
   "execution_count": 69,
   "id": "5b44daf4-ae7f-412d-9bb1-e3efb56d9e20",
   "metadata": {},
   "outputs": [
    {
     "name": "stdout",
     "output_type": "stream",
     "text": [
      "n\n"
     ]
    }
   ],
   "source": [
    "last_index = len(language) -1\n",
    "last_letter = language[last_index]\n",
    "print(last_letter)"
   ]
  },
  {
   "cell_type": "code",
   "execution_count": 70,
   "id": "0196ef63-8077-493c-b61c-b340ec99f965",
   "metadata": {},
   "outputs": [
    {
     "name": "stdout",
     "output_type": "stream",
     "text": [
      "o\n"
     ]
    }
   ],
   "source": [
    "language = 'Python'\n",
    "second_last = language[-2]\n",
    "print(second_last) "
   ]
  },
  {
   "cell_type": "markdown",
   "id": "af2115ea-9cd5-43e0-8989-4e5717a0dd7b",
   "metadata": {},
   "source": [
    "# Slicing"
   ]
  },
  {
   "cell_type": "code",
   "execution_count": 71,
   "id": "69397107-761c-42cb-a36c-85e6fa56e0be",
   "metadata": {},
   "outputs": [
    {
     "name": "stdout",
     "output_type": "stream",
     "text": [
      "Pyt\n"
     ]
    }
   ],
   "source": [
    "language = 'Python'\n",
    "first_three = language[0:3]\n",
    "print(first_three)"
   ]
  },
  {
   "cell_type": "code",
   "execution_count": 72,
   "id": "c833ff40-4c02-4025-9419-ba2bbdca2a7d",
   "metadata": {},
   "outputs": [
    {
     "name": "stdout",
     "output_type": "stream",
     "text": [
      "hon\n"
     ]
    }
   ],
   "source": [
    "language = 'Python'\n",
    "last_three = language[3:6]\n",
    "print(last_three)"
   ]
  },
  {
   "cell_type": "code",
   "execution_count": 73,
   "id": "b8a2d120-7cdf-4ea7-b7ca-2bfae6c1caee",
   "metadata": {},
   "outputs": [
    {
     "name": "stdout",
     "output_type": "stream",
     "text": [
      "hon\n"
     ]
    }
   ],
   "source": [
    "language = 'Python'\n",
    "last_three = language[-3:]\n",
    "print(last_three)"
   ]
  },
  {
   "cell_type": "code",
   "execution_count": 74,
   "id": "0bc7d795-eca9-450a-9399-ef0102ff89c1",
   "metadata": {},
   "outputs": [
    {
     "name": "stdout",
     "output_type": "stream",
     "text": [
      "hon\n"
     ]
    }
   ],
   "source": [
    "language = 'Python'\n",
    "last_three = language[3:]\n",
    "print(last_three)"
   ]
  },
  {
   "cell_type": "markdown",
   "id": "420549aa-2446-4aa8-a422-1ad1750819a5",
   "metadata": {},
   "source": [
    "# Skipping character while splitting Python strings"
   ]
  },
  {
   "cell_type": "code",
   "execution_count": 75,
   "id": "743b9cd2-d5af-4054-9671-faaad3947303",
   "metadata": {},
   "outputs": [
    {
     "name": "stdout",
     "output_type": "stream",
     "text": [
      "Pto\n"
     ]
    }
   ],
   "source": [
    "language = 'Python'\n",
    "pto = language[0:6:2]  \n",
    "print(pto)"
   ]
  },
  {
   "cell_type": "markdown",
   "id": "374e1f47-6725-4508-b62d-c22c510f2f7a",
   "metadata": {},
   "source": [
    "# Escape sequence"
   ]
  },
  {
   "cell_type": "code",
   "execution_count": 76,
   "id": "dc2f8924-da4c-4d30-9183-5d41e941d2c5",
   "metadata": {},
   "outputs": [
    {
     "name": "stdout",
     "output_type": "stream",
     "text": [
      "I hope every one enjoying the python challenge.\n",
      "Do you ?\n",
      "Days\tTopics\tExercises\n",
      "Day 1\t3\t5\n",
      "Day 2\t3\t5\n",
      "Day 3\t3\t5\n",
      "Day 4\t3\t5\n",
      "This is a back slash  symbol (\\)\n",
      "In every programming language it starts with \"Hello, World!\"\n"
     ]
    }
   ],
   "source": [
    "print('I hope every one enjoying the python challenge.\\nDo you ?') \n",
    "print('Days\\tTopics\\tExercises')\n",
    "print('Day 1\\t3\\t5')\n",
    "print('Day 2\\t3\\t5')\n",
    "print('Day 3\\t3\\t5')\n",
    "print('Day 4\\t3\\t5')\n",
    "print('This is a back slash  symbol (\\\\)') \n",
    "print('In every programming language it starts with \\\"Hello, World!\\\"')\n"
   ]
  },
  {
   "cell_type": "markdown",
   "id": "21174e8d-d592-4bcf-9176-22639ba8aa21",
   "metadata": {},
   "source": [
    "## String Methods\n",
    "# capitalize():"
   ]
  },
  {
   "cell_type": "code",
   "execution_count": 77,
   "id": "917cf1c9-bdee-4c54-9fb4-7a2adb05dcda",
   "metadata": {},
   "outputs": [
    {
     "name": "stdout",
     "output_type": "stream",
     "text": [
      "Thirty days of python\n"
     ]
    }
   ],
   "source": [
    "challenge = 'thirty days of python'\n",
    "print(challenge.capitalize())"
   ]
  },
  {
   "cell_type": "markdown",
   "id": "1a9a8e8a-dc22-4164-aceb-4810aca3ac70",
   "metadata": {},
   "source": [
    "# count()"
   ]
  },
  {
   "cell_type": "code",
   "execution_count": 78,
   "id": "d4966112-50b8-4b6f-9fab-84b9c52e0c03",
   "metadata": {},
   "outputs": [
    {
     "name": "stdout",
     "output_type": "stream",
     "text": [
      "3\n",
      "1\n",
      "2\n"
     ]
    }
   ],
   "source": [
    "hallenge = 'thirty days of python'\n",
    "print(challenge.count('y')) \n",
    "print(challenge.count('y', 7, 14)) \n",
    "print(challenge.count('th')) "
   ]
  },
  {
   "cell_type": "markdown",
   "id": "e5a0b83a-50ee-41f7-856f-7bfd655329b9",
   "metadata": {},
   "source": [
    "# endswith():"
   ]
  },
  {
   "cell_type": "code",
   "execution_count": 79,
   "id": "abf40137-1f97-4684-a008-62fb7e8371f9",
   "metadata": {},
   "outputs": [
    {
     "name": "stdout",
     "output_type": "stream",
     "text": [
      "True\n",
      "False\n"
     ]
    }
   ],
   "source": [
    "hallenge = 'thirty days of python'\n",
    "print(challenge.endswith('on'))   \n",
    "print(challenge.endswith('tion')) \n"
   ]
  },
  {
   "cell_type": "markdown",
   "id": "8d44fd56-f83c-4c22-88ba-0e86acfba41b",
   "metadata": {},
   "source": [
    "# expandtabs():"
   ]
  },
  {
   "cell_type": "code",
   "execution_count": 80,
   "id": "5be1f2fe-50bb-4f6a-bedc-76f72bc1caba",
   "metadata": {},
   "outputs": [
    {
     "name": "stdout",
     "output_type": "stream",
     "text": [
      "thirty  days    of      python\n",
      "thirty    days      of        python\n"
     ]
    }
   ],
   "source": [
    "challenge = 'thirty\\tdays\\tof\\tpython'\n",
    "print(challenge.expandtabs())   \n",
    "print(challenge.expandtabs(10))"
   ]
  },
  {
   "cell_type": "markdown",
   "id": "ac0f6308-2a3d-4adc-b584-714c32b73ecc",
   "metadata": {},
   "source": [
    "# find():"
   ]
  },
  {
   "cell_type": "code",
   "execution_count": 81,
   "id": "2540f9e7-9f82-415d-bc42-74e44f5203be",
   "metadata": {},
   "outputs": [
    {
     "name": "stdout",
     "output_type": "stream",
     "text": [
      "5\n",
      "0\n"
     ]
    }
   ],
   "source": [
    "challenge = 'thirty days of python'\n",
    "print(challenge.find('y'))  \n",
    "print(challenge.find('th')) \n"
   ]
  },
  {
   "cell_type": "markdown",
   "id": "77785a44-5ac5-48de-83b0-e7d15a5072b1",
   "metadata": {},
   "source": [
    "# format()\t"
   ]
  },
  {
   "cell_type": "code",
   "execution_count": 82,
   "id": "38613942-9804-4426-9e3e-3543cf389925",
   "metadata": {},
   "outputs": [
    {
     "name": "stdout",
     "output_type": "stream",
     "text": [
      "I am Asabeneh Yetayeh. I am a teacher. I live in Finland.\n"
     ]
    }
   ],
   "source": [
    "first_name = 'Asabeneh'\n",
    "last_name = 'Yetayeh'\n",
    "job = 'teacher'\n",
    "country = 'Finland'\n",
    "sentence = 'I am {} {}. I am a {}. I live in {}.'.format(first_name, last_name, job, country)\n",
    "print(sentence) \n"
   ]
  },
  {
   "cell_type": "code",
   "execution_count": 83,
   "id": "73cdec4a-0ebe-4a49-8ce6-e91413b878c6",
   "metadata": {},
   "outputs": [
    {
     "name": "stdout",
     "output_type": "stream",
     "text": [
      "The area of circle with 10 is 3.14\n"
     ]
    }
   ],
   "source": [
    "radius = 10\n",
    "pi = 3.14\n",
    "area = pi \n",
    "result = 'The area of circle with {} is {}'.format(str(radius), str(area))\n",
    "print(result) "
   ]
  },
  {
   "cell_type": "markdown",
   "id": "02d92378-82e6-4c8e-a670-31e7ca443f7f",
   "metadata": {},
   "source": [
    "# index(): "
   ]
  },
  {
   "cell_type": "code",
   "execution_count": 85,
   "id": "1412fe0a-89e8-448e-81a3-f6c8c60f16c5",
   "metadata": {},
   "outputs": [
    {
     "name": "stdout",
     "output_type": "stream",
     "text": [
      "5\n",
      "0\n"
     ]
    }
   ],
   "source": [
    "challenge = 'thirty days of python'\n",
    "print(challenge.find('y'))  \n",
    "print(challenge.find('th'))"
   ]
  },
  {
   "cell_type": "markdown",
   "id": "26b6c006-510f-4dc2-904a-10081ece091c",
   "metadata": {},
   "source": [
    "# isalnum():"
   ]
  },
  {
   "cell_type": "code",
   "execution_count": 86,
   "id": "c3a8b347-6efc-46ca-bd7f-3edf17373b7b",
   "metadata": {},
   "outputs": [
    {
     "name": "stdout",
     "output_type": "stream",
     "text": [
      "True\n"
     ]
    }
   ],
   "source": [
    "challenge = 'ThirtyDaysPython'\n",
    "print(challenge.isalnum())"
   ]
  },
  {
   "cell_type": "code",
   "execution_count": 87,
   "id": "4920231e-f1e9-4806-9f89-488542926577",
   "metadata": {},
   "outputs": [
    {
     "name": "stdout",
     "output_type": "stream",
     "text": [
      "True\n"
     ]
    }
   ],
   "source": [
    "challenge = '30DaysPython'\n",
    "print(challenge.isalnum()) "
   ]
  },
  {
   "cell_type": "code",
   "execution_count": 88,
   "id": "be7bc3c4-a7ad-40e8-9c2f-20e091480d82",
   "metadata": {},
   "outputs": [
    {
     "name": "stdout",
     "output_type": "stream",
     "text": [
      "False\n"
     ]
    }
   ],
   "source": [
    "challenge = 'thirty days of python'\n",
    "print(challenge.isalnum())"
   ]
  },
  {
   "cell_type": "code",
   "execution_count": 89,
   "id": "83f8bd09-ae65-4354-949e-672fc6aba0a5",
   "metadata": {},
   "outputs": [
    {
     "name": "stdout",
     "output_type": "stream",
     "text": [
      "False\n"
     ]
    }
   ],
   "source": [
    "challenge = 'thirty days of python 2019'\n",
    "print(challenge.isalnum())"
   ]
  },
  {
   "cell_type": "markdown",
   "id": "7e35b267-a79f-4efc-aef0-26c186f3fd21",
   "metadata": {},
   "source": [
    "# isalpha(): "
   ]
  },
  {
   "cell_type": "code",
   "execution_count": 90,
   "id": "f15f3f27-b215-4908-a789-2f4ced956e6c",
   "metadata": {},
   "outputs": [
    {
     "name": "stdout",
     "output_type": "stream",
     "text": [
      "False\n"
     ]
    }
   ],
   "source": [
    "challenge = 'thirty days of python'\n",
    "print(challenge.isalpha())"
   ]
  },
  {
   "cell_type": "code",
   "execution_count": 91,
   "id": "13bb616e-c7d9-45ce-9ca0-640d0f43a198",
   "metadata": {},
   "outputs": [
    {
     "name": "stdout",
     "output_type": "stream",
     "text": [
      "False\n"
     ]
    }
   ],
   "source": [
    "num = '123'\n",
    "print(num.isalpha())"
   ]
  },
  {
   "cell_type": "markdown",
   "id": "8070f52e-d07c-42da-9720-e88dd061e4b9",
   "metadata": {},
   "source": [
    "# isdecimal(): "
   ]
  },
  {
   "cell_type": "code",
   "execution_count": 92,
   "id": "9bebf9b4-f9dd-4040-901b-0adac0cc0211",
   "metadata": {},
   "outputs": [
    {
     "name": "stdout",
     "output_type": "stream",
     "text": [
      "5\n",
      "0\n"
     ]
    }
   ],
   "source": [
    "challenge = 'thirty days of python'\n",
    "print(challenge.find('y'))  \n",
    "print(challenge.find('th'))"
   ]
  },
  {
   "cell_type": "markdown",
   "id": "254350b4-c7f9-4c2c-8b6c-1d9bf2c60a7c",
   "metadata": {},
   "source": [
    "# isdigit():"
   ]
  },
  {
   "cell_type": "code",
   "execution_count": 93,
   "id": "dd7697e6-634c-4858-80d7-62fb6b3a5eba",
   "metadata": {},
   "outputs": [
    {
     "name": "stdout",
     "output_type": "stream",
     "text": [
      "False\n"
     ]
    }
   ],
   "source": [
    "challenge = 'Thirty'\n",
    "print(challenge.isdigit())"
   ]
  },
  {
   "cell_type": "code",
   "execution_count": 104,
   "id": "c205df0b-d0a7-4a34-81b0-447da1f338b7",
   "metadata": {},
   "outputs": [
    {
     "name": "stdout",
     "output_type": "stream",
     "text": [
      "True\n"
     ]
    }
   ],
   "source": [
    "challenge = '30'\n",
    "print(challenge.isdigit())"
   ]
  },
  {
   "cell_type": "markdown",
   "id": "e23237f9-837b-43ff-8254-4751f67e553a",
   "metadata": {},
   "source": [
    "# isdecimal():"
   ]
  },
  {
   "cell_type": "code",
   "execution_count": 105,
   "id": "9c7872ae-6cf7-49fc-94eb-40c4f58ef584",
   "metadata": {},
   "outputs": [
    {
     "name": "stdout",
     "output_type": "stream",
     "text": [
      "True\n",
      "False\n"
     ]
    }
   ],
   "source": [
    "num = '10'\n",
    "print(num.isdecimal()) \n",
    "num = '10.5'\n",
    "print(num.isdecimal())"
   ]
  },
  {
   "cell_type": "markdown",
   "id": "901b80fc-6f19-40c3-a03c-8576060339e8",
   "metadata": {},
   "source": [
    "# isidentifier():"
   ]
  },
  {
   "cell_type": "code",
   "execution_count": 106,
   "id": "02efa61e-8c35-44e6-a786-029bde7a3cc3",
   "metadata": {},
   "outputs": [
    {
     "name": "stdout",
     "output_type": "stream",
     "text": [
      "False\n",
      "True\n"
     ]
    }
   ],
   "source": [
    "challenge = '30DaysOfPython'\n",
    "print(challenge.isidentifier()) \n",
    "challenge = 'thirty_days_of_python'\n",
    "print(challenge.isidentifier())"
   ]
  },
  {
   "cell_type": "markdown",
   "id": "5780ef83-d0b1-43eb-8f69-1bc3d570c020",
   "metadata": {},
   "source": [
    "# islower():"
   ]
  },
  {
   "cell_type": "code",
   "execution_count": 107,
   "id": "f2c3f51c-d6b0-486f-9e1f-3d1efa4a996b",
   "metadata": {},
   "outputs": [
    {
     "name": "stdout",
     "output_type": "stream",
     "text": [
      "True\n",
      "False\n"
     ]
    }
   ],
   "source": [
    "challenge = 'thirty days of python'\n",
    "print(challenge.islower()) \n",
    "challenge = 'Thirty days of python'\n",
    "print(challenge.islower()) "
   ]
  },
  {
   "cell_type": "markdown",
   "id": "1c2beec7-0fa4-4e58-94f6-f93ef73fc6e5",
   "metadata": {},
   "source": [
    "# isupper():"
   ]
  },
  {
   "cell_type": "code",
   "execution_count": 108,
   "id": "cbecff48-e441-4bb7-b056-4a3105379fae",
   "metadata": {},
   "outputs": [
    {
     "name": "stdout",
     "output_type": "stream",
     "text": [
      "False\n",
      "True\n"
     ]
    }
   ],
   "source": [
    "challenge = 'thirty days of python'\n",
    "print(challenge.isupper()) \n",
    "challenge = 'THIRTY DAYS OF PYTHON'\n",
    "print(challenge.isupper()) "
   ]
  },
  {
   "cell_type": "markdown",
   "id": "35c9a323-31d7-421f-8a38-1abe8cdac5a7",
   "metadata": {},
   "source": [
    "# isnumeric():"
   ]
  },
  {
   "cell_type": "code",
   "execution_count": 109,
   "id": "5483b79b-f812-429e-a271-6847cf02cd03",
   "metadata": {},
   "outputs": [
    {
     "name": "stdout",
     "output_type": "stream",
     "text": [
      "True\n",
      "False\n"
     ]
    }
   ],
   "source": [
    "num = '10'\n",
    "print(num.isnumeric())      \n",
    "print('ten'.isnumeric())"
   ]
  },
  {
   "cell_type": "markdown",
   "id": "d441bf65-9afd-4423-8ae8-b62b167e2647",
   "metadata": {},
   "source": [
    "# join():"
   ]
  },
  {
   "cell_type": "code",
   "execution_count": 110,
   "id": "f1f94711-d1c8-4f0b-af44-828558199443",
   "metadata": {},
   "outputs": [
    {
     "name": "stdout",
     "output_type": "stream",
     "text": [
      "HTML#, CSS#, JavaScript#, React\n"
     ]
    }
   ],
   "source": [
    "web_tech = ['HTML', 'CSS', 'JavaScript', 'React']\n",
    "result = '#, '.join(web_tech)\n",
    "print(result) \n"
   ]
  },
  {
   "cell_type": "markdown",
   "id": "b0fc8416-e900-477d-8a57-493687de3e10",
   "metadata": {},
   "source": [
    "# strip():"
   ]
  },
  {
   "cell_type": "code",
   "execution_count": 111,
   "id": "02f9f35d-7c65-435a-88ef-5f08bdf2e786",
   "metadata": {},
   "outputs": [
    {
     "name": "stdout",
     "output_type": "stream",
     "text": [
      " thirty days of python \n"
     ]
    }
   ],
   "source": [
    "challenge = ' thirty days of python '\n",
    "print(challenge.strip('y')) \n"
   ]
  },
  {
   "cell_type": "markdown",
   "id": "a549b351-bd79-49a6-876b-85d5f7d8cbdc",
   "metadata": {},
   "source": [
    "# replace():"
   ]
  },
  {
   "cell_type": "code",
   "execution_count": 112,
   "id": "8008550d-bccb-4a7e-9b70-156bde0a66fc",
   "metadata": {},
   "outputs": [
    {
     "name": "stdout",
     "output_type": "stream",
     "text": [
      "thirty days of coding\n"
     ]
    }
   ],
   "source": [
    "challenge = 'thirty days of python'\n",
    "print(challenge.replace('python', 'coding'))"
   ]
  },
  {
   "cell_type": "markdown",
   "id": "c1930c3b-3235-4ab2-9486-aae6afef596d",
   "metadata": {},
   "source": [
    "# split():"
   ]
  },
  {
   "cell_type": "code",
   "execution_count": 113,
   "id": "367f6776-b4c8-4d13-b8ad-9352aea249b2",
   "metadata": {},
   "outputs": [
    {
     "name": "stdout",
     "output_type": "stream",
     "text": [
      "['thirty', 'days', 'of', 'python']\n"
     ]
    }
   ],
   "source": [
    "challenge = 'thirty days of python'\n",
    "print(challenge.split())"
   ]
  },
  {
   "cell_type": "markdown",
   "id": "9a0c6b97-3713-4852-b5fd-34cf3f2ae449",
   "metadata": {},
   "source": [
    "# title():"
   ]
  },
  {
   "cell_type": "code",
   "execution_count": 114,
   "id": "6ff82d52-0833-43d5-a3ae-bce834ee78c3",
   "metadata": {},
   "outputs": [
    {
     "name": "stdout",
     "output_type": "stream",
     "text": [
      "Thirty Days Of Python\n"
     ]
    }
   ],
   "source": [
    "challenge = 'thirty days of python'\n",
    "print(challenge.title())"
   ]
  },
  {
   "cell_type": "markdown",
   "id": "8e7b645d-e499-4ef9-933e-008fa782c7b3",
   "metadata": {},
   "source": [
    "# swapcase():"
   ]
  },
  {
   "cell_type": "code",
   "execution_count": 115,
   "id": "11001574-d0b2-49ba-84fe-661a6b655038",
   "metadata": {},
   "outputs": [
    {
     "name": "stdout",
     "output_type": "stream",
     "text": [
      "THIRTY DAYS OF PYTHON\n",
      "tHIRTY dAYS oF pYTHON\n"
     ]
    }
   ],
   "source": [
    "challenge = 'thirty days of python'\n",
    "print(challenge.swapcase())   \n",
    "challenge = 'Thirty Days Of Python'\n",
    "print(challenge.swapcase())  "
   ]
  },
  {
   "cell_type": "markdown",
   "id": "3cbaed81-8d29-471e-b0cb-a4d8e86297af",
   "metadata": {},
   "source": [
    "# startswith():"
   ]
  },
  {
   "cell_type": "code",
   "execution_count": 116,
   "id": "a3c26cdb-fc41-4ee3-aed6-f54b6cdc973b",
   "metadata": {},
   "outputs": [
    {
     "name": "stdout",
     "output_type": "stream",
     "text": [
      "True\n",
      "False\n"
     ]
    }
   ],
   "source": [
    "challenge = 'thirty days of python'\n",
    "print(challenge.startswith('thirty')) \n",
    "challenge = '30 days of pcython'\n",
    "print(challenge.startswith('thirty')) "
   ]
  },
  {
   "cell_type": "code",
   "execution_count": null,
   "id": "70a08214-0061-4f2f-a7af-daf3370257fe",
   "metadata": {},
   "outputs": [],
   "source": []
  },
  {
   "cell_type": "code",
   "execution_count": 1,
   "id": "2d521431-5610-451d-876a-5dfad953846e",
   "metadata": {},
   "outputs": [
    {
     "data": {
      "text/plain": [
       "(10+0j)"
      ]
     },
     "execution_count": 1,
     "metadata": {},
     "output_type": "execute_result"
    }
   ],
   "source": [
    "complex('10')"
   ]
  },
  {
   "cell_type": "code",
   "execution_count": 2,
   "id": "8e962d45-812f-410c-b0ab-27fe59fe0dfe",
   "metadata": {},
   "outputs": [
    {
     "data": {
      "text/plain": [
       "(10+10j)"
      ]
     },
     "execution_count": 2,
     "metadata": {},
     "output_type": "execute_result"
    }
   ],
   "source": [
    "complex(10,int('10'))"
   ]
  },
  {
   "cell_type": "code",
   "execution_count": 4,
   "id": "cbd13db0-004c-42c9-b7b0-620878946425",
   "metadata": {},
   "outputs": [
    {
     "data": {
      "text/plain": [
       "1j"
      ]
     },
     "execution_count": 4,
     "metadata": {},
     "output_type": "execute_result"
    }
   ],
   "source": [
    "complex(False,True)"
   ]
  },
  {
   "cell_type": "code",
   "execution_count": 5,
   "id": "dd8c28db-05ce-4f1e-979b-c15b28eeb5e3",
   "metadata": {},
   "outputs": [
    {
     "data": {
      "text/plain": [
       "0j"
      ]
     },
     "execution_count": 5,
     "metadata": {},
     "output_type": "execute_result"
    }
   ],
   "source": [
    "complex(False,False)"
   ]
  },
  {
   "cell_type": "code",
   "execution_count": 6,
   "id": "4dd136c2-aeea-4149-a18b-da412a7bbfa4",
   "metadata": {},
   "outputs": [
    {
     "data": {
      "text/plain": [
       "True"
      ]
     },
     "execution_count": 6,
     "metadata": {},
     "output_type": "execute_result"
    }
   ],
   "source": [
    "bool(13)"
   ]
  },
  {
   "cell_type": "code",
   "execution_count": 7,
   "id": "3a7f0368-2657-4cc9-83ca-994afcf4ebae",
   "metadata": {},
   "outputs": [
    {
     "data": {
      "text/plain": [
       "False"
      ]
     },
     "execution_count": 7,
     "metadata": {},
     "output_type": "execute_result"
    }
   ],
   "source": [
    "bool()"
   ]
  },
  {
   "cell_type": "code",
   "execution_count": null,
   "id": "bfba2656-efc8-4996-8255-4a84f596da9e",
   "metadata": {},
   "outputs": [],
   "source": [
    "print(str(1))\n",
    "print(str(1.2)\n",
    "      "
   ]
  }
 ],
 "metadata": {
  "kernelspec": {
   "display_name": "Python [conda env:base] *",
   "language": "python",
   "name": "conda-base-py"
  },
  "language_info": {
   "codemirror_mode": {
    "name": "ipython",
    "version": 3
   },
   "file_extension": ".py",
   "mimetype": "text/x-python",
   "name": "python",
   "nbconvert_exporter": "python",
   "pygments_lexer": "ipython3",
   "version": "3.13.5"
  }
 },
 "nbformat": 4,
 "nbformat_minor": 5
}
