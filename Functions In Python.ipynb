{
 "cells": [
  {
   "cell_type": "markdown",
   "id": "d5d50de0-cf29-4742-b5a2-4aaf49f51c63",
   "metadata": {},
   "source": [
    "# Functions In Python"
   ]
  },
  {
   "cell_type": "code",
   "execution_count": 3,
   "id": "38309b30-fdfd-4e6b-a13d-803f933521ef",
   "metadata": {},
   "outputs": [],
   "source": [
    "def hello():\n",
    "    print(\"good evening\")"
   ]
  },
  {
   "cell_type": "code",
   "execution_count": 4,
   "id": "d3e97f29-ee3a-40e0-a507-7829458c0353",
   "metadata": {},
   "outputs": [
    {
     "name": "stdout",
     "output_type": "stream",
     "text": [
      "good evening\n"
     ]
    }
   ],
   "source": [
    "def hello():\n",
    "    print(\"good evening\")\n",
    "hello()"
   ]
  },
  {
   "cell_type": "markdown",
   "id": "763a4d88-f042-4cc7-9740-7895a659d11e",
   "metadata": {},
   "source": [
    "# Write a function first then just get output as you want"
   ]
  },
  {
   "cell_type": "code",
   "execution_count": 6,
   "id": "0eee4af0-7b49-49d0-9a7c-c95a627b902b",
   "metadata": {},
   "outputs": [
    {
     "name": "stdout",
     "output_type": "stream",
     "text": [
      "good evening\n",
      "good evening\n"
     ]
    }
   ],
   "source": [
    "def hello():\n",
    "    print(\"good evening\")\n",
    "hello()\n",
    "hello()"
   ]
  },
  {
   "cell_type": "code",
   "execution_count": 8,
   "id": "38a9f926-e66f-464f-8c49-1a6aa896a9dc",
   "metadata": {},
   "outputs": [
    {
     "name": "stdout",
     "output_type": "stream",
     "text": [
      "11\n"
     ]
    }
   ],
   "source": [
    "def add(x, y):\n",
    "    c = x + y\n",
    "    print(c)\n",
    "add(5, 6)"
   ]
  },
  {
   "cell_type": "code",
   "execution_count": 9,
   "id": "02ed5d7a-40dd-4d5a-b592-c4f27c938b9d",
   "metadata": {},
   "outputs": [
    {
     "ename": "TypeError",
     "evalue": "add() missing 1 required positional argument: 'z'",
     "output_type": "error",
     "traceback": [
      "\u001b[0;31m---------------------------------------------------------------------------\u001b[0m",
      "\u001b[0;31mTypeError\u001b[0m                                 Traceback (most recent call last)",
      "Cell \u001b[0;32mIn[9], line 4\u001b[0m\n\u001b[1;32m      2\u001b[0m     c \u001b[38;5;241m=\u001b[39m x \u001b[38;5;241m+\u001b[39m y \u001b[38;5;241m+\u001b[39m z\n\u001b[1;32m      3\u001b[0m     \u001b[38;5;28mprint\u001b[39m(c)\n\u001b[0;32m----> 4\u001b[0m add(\u001b[38;5;241m5\u001b[39m, \u001b[38;5;241m6\u001b[39m)\n",
      "\u001b[0;31mTypeError\u001b[0m: add() missing 1 required positional argument: 'z'"
     ]
    }
   ],
   "source": [
    "def add(x, y, z):\n",
    "    c = x + y + z\n",
    "    print(c)\n",
    "add(5, 6)"
   ]
  },
  {
   "cell_type": "code",
   "execution_count": 10,
   "id": "90f4cd95-29cd-4c53-8fd2-87b23070ee48",
   "metadata": {},
   "outputs": [
    {
     "name": "stdout",
     "output_type": "stream",
     "text": [
      "18\n"
     ]
    }
   ],
   "source": [
    "def add(x, y, z):\n",
    "    c = x + y + z\n",
    "    print(c)\n",
    "add(5, 6, 7)"
   ]
  },
  {
   "cell_type": "code",
   "execution_count": 13,
   "id": "668de1bc-0ea8-41a3-9b6b-7913ae71cefc",
   "metadata": {},
   "outputs": [
    {
     "data": {
      "text/plain": [
       "11"
      ]
     },
     "execution_count": 13,
     "metadata": {},
     "output_type": "execute_result"
    }
   ],
   "source": [
    "def add(x, y):\n",
    "    c = x + y\n",
    "    return c\n",
    "add(5, 6)"
   ]
  },
  {
   "cell_type": "code",
   "execution_count": 14,
   "id": "83a021f2-ab18-4315-a288-793277ce1cc7",
   "metadata": {},
   "outputs": [
    {
     "name": "stdout",
     "output_type": "stream",
     "text": [
      "good evening\n"
     ]
    },
    {
     "data": {
      "text/plain": [
       "11"
      ]
     },
     "execution_count": 14,
     "metadata": {},
     "output_type": "execute_result"
    }
   ],
   "source": [
    "def hello():\n",
    "    print(\"good evening\")\n",
    "\n",
    "def add(x, y):\n",
    "    c = x + y\n",
    "    return c\n",
    "\n",
    "hello()   \n",
    "add(5, 6)\n",
    "    "
   ]
  },
  {
   "cell_type": "code",
   "execution_count": 18,
   "id": "612468b4-9f88-4b96-b787-d37dd93251b4",
   "metadata": {},
   "outputs": [
    {
     "name": "stdout",
     "output_type": "stream",
     "text": [
      "hello\n",
      "good noon\n",
      "9\n",
      "4\n"
     ]
    }
   ],
   "source": [
    "def greet():\n",
    "    print ('hello')\n",
    "    print('good noon')\n",
    "    \n",
    "def add(x, y):\n",
    "    c = x + y\n",
    "    print(c)\n",
    "\n",
    "def sub(x, y, z):\n",
    "    d = x - y - z\n",
    "    print(d)\n",
    "\n",
    "greet()\n",
    "add(5, 4)\n",
    "sub(10, 2, 4)\n"
   ]
  },
  {
   "cell_type": "code",
   "execution_count": 21,
   "id": "84b17658-d189-45c3-bdd3-3880760e1180",
   "metadata": {},
   "outputs": [
    {
     "data": {
      "text/plain": [
       "(9, -1)"
      ]
     },
     "execution_count": 21,
     "metadata": {},
     "output_type": "execute_result"
    }
   ],
   "source": [
    "def add_sub(x, y):\n",
    "    c = x + y\n",
    "    d = x - y\n",
    "    return c, d\n",
    "add_sub(4, 5)"
   ]
  },
  {
   "cell_type": "code",
   "execution_count": null,
   "id": "b538509e-605d-45f1-8ca9-9caeb665838b",
   "metadata": {},
   "outputs": [],
   "source": [
    "def add_sub(x, y):\n",
    "    c = x + y\n",
    "    d = x - y\n",
    "    return c, d\n",
    "add_sub(4, 5)"
   ]
  },
  {
   "cell_type": "code",
   "execution_count": 23,
   "id": "7c4ed6d0-094b-4e78-9b4e-b8a0b904d31a",
   "metadata": {},
   "outputs": [
    {
     "name": "stdout",
     "output_type": "stream",
     "text": [
      "9\n",
      "-1\n",
      "<class 'int'>\n",
      "<class 'int'>\n"
     ]
    }
   ],
   "source": [
    "def add_sub(x, y):\n",
    "    c = x + y\n",
    "    d = x - y\n",
    "    return c, d\n",
    "result, result1 = add_sub(4, 5)\n",
    "print(result)\n",
    "print(result1)\n",
    "print(type(result))\n",
    "print(type(result1))"
   ]
  },
  {
   "cell_type": "code",
   "execution_count": 24,
   "id": "7c9cabf6-88e1-46e7-b573-729a68a069fd",
   "metadata": {},
   "outputs": [
    {
     "name": "stdout",
     "output_type": "stream",
     "text": [
      "9\n",
      "-1\n",
      "20\n",
      "<class 'int'>\n",
      "<class 'int'>\n",
      "<class 'int'>\n"
     ]
    }
   ],
   "source": [
    "def add_sub_mul(x, y):\n",
    "    c = x + y\n",
    "    d = x - y\n",
    "    e = x * y\n",
    "    return c, d, e\n",
    "result, result1, result2 = add_sub_mul(4, 5)\n",
    "print(result)\n",
    "print(result1)\n",
    "print(result2)\n",
    "print(type(result))\n",
    "print(type(result1))\n",
    "print(type(result2))"
   ]
  },
  {
   "cell_type": "markdown",
   "id": "0100881d-b9cd-4c78-abdb-b9ce507bd4d7",
   "metadata": {},
   "source": [
    "# Function Arguments"
   ]
  },
  {
   "cell_type": "code",
   "execution_count": 26,
   "id": "b1ccfa81-ad1d-4906-a4f0-782ed091f5cb",
   "metadata": {},
   "outputs": [
    {
     "name": "stdout",
     "output_type": "stream",
     "text": [
      "8\n"
     ]
    }
   ],
   "source": [
    "def update():\n",
    "    x = 8\n",
    "    print(x)\n",
    "update()"
   ]
  },
  {
   "cell_type": "code",
   "execution_count": null,
   "id": "12db6523-0d02-427d-9769-82869a744177",
   "metadata": {},
   "outputs": [],
   "source": [
    "def add(a, b)   # a and b are called as formal arguments\n",
    "    c = a + b\n",
    "    print(c)\n",
    "add(5, 6)   # 5 and 6 are called as actual arguments"
   ]
  },
  {
   "cell_type": "markdown",
   "id": "f04740db-ccc5-4dcb-8c57-5d7333864e22",
   "metadata": {},
   "source": [
    "# Position Argument"
   ]
  },
  {
   "cell_type": "code",
   "execution_count": 27,
   "id": "d9bbf124-d6e3-4c79-9022-2a5c9fec74dc",
   "metadata": {},
   "outputs": [
    {
     "name": "stdout",
     "output_type": "stream",
     "text": [
      "nit\n",
      "22\n"
     ]
    }
   ],
   "source": [
    "# Positional Arguments\n",
    "\n",
    "def person(name, age):\n",
    "    print(name)\n",
    "    print(age)\n",
    "person(\"nit\", 22)"
   ]
  },
  {
   "cell_type": "code",
   "execution_count": 28,
   "id": "bb234d0c-c455-47d0-b2ee-9f509ae4633c",
   "metadata": {},
   "outputs": [
    {
     "name": "stdout",
     "output_type": "stream",
     "text": [
      "22\n",
      "nit\n"
     ]
    }
   ],
   "source": [
    "def person(name, age):\n",
    "    print(name)\n",
    "    print(age)\n",
    "person(22, \"nit\")"
   ]
  },
  {
   "cell_type": "code",
   "execution_count": 29,
   "id": "ed58587f-79e8-4d64-9af7-f9ae34f884bc",
   "metadata": {},
   "outputs": [
    {
     "name": "stdout",
     "output_type": "stream",
     "text": [
      "22\n"
     ]
    },
    {
     "ename": "TypeError",
     "evalue": "unsupported operand type(s) for -: 'str' and 'int'",
     "output_type": "error",
     "traceback": [
      "\u001b[0;31m---------------------------------------------------------------------------\u001b[0m",
      "\u001b[0;31mTypeError\u001b[0m                                 Traceback (most recent call last)",
      "Cell \u001b[0;32mIn[29], line 4\u001b[0m\n\u001b[1;32m      2\u001b[0m     \u001b[38;5;28mprint\u001b[39m(name)\n\u001b[1;32m      3\u001b[0m     \u001b[38;5;28mprint\u001b[39m(age \u001b[38;5;241m-\u001b[39m \u001b[38;5;241m1\u001b[39m)\n\u001b[0;32m----> 4\u001b[0m person(\u001b[38;5;241m22\u001b[39m, \u001b[38;5;124m\"\u001b[39m\u001b[38;5;124mnit\u001b[39m\u001b[38;5;124m\"\u001b[39m)\n",
      "Cell \u001b[0;32mIn[29], line 3\u001b[0m, in \u001b[0;36mperson\u001b[0;34m(name, age)\u001b[0m\n\u001b[1;32m      1\u001b[0m \u001b[38;5;28;01mdef\u001b[39;00m\u001b[38;5;250m \u001b[39m\u001b[38;5;21mperson\u001b[39m(name, age):\n\u001b[1;32m      2\u001b[0m     \u001b[38;5;28mprint\u001b[39m(name)\n\u001b[0;32m----> 3\u001b[0m     \u001b[38;5;28mprint\u001b[39m(age \u001b[38;5;241m-\u001b[39m \u001b[38;5;241m1\u001b[39m)\n",
      "\u001b[0;31mTypeError\u001b[0m: unsupported operand type(s) for -: 'str' and 'int'"
     ]
    }
   ],
   "source": [
    "def person(name, age):\n",
    "    print(name)\n",
    "    print(age - 1)\n",
    "person(22, \"nit\")"
   ]
  },
  {
   "cell_type": "code",
   "execution_count": 31,
   "id": "4cb5a70c-912a-453d-b7d6-018203bb6b9a",
   "metadata": {},
   "outputs": [
    {
     "name": "stdout",
     "output_type": "stream",
     "text": [
      "nit\n",
      "23\n"
     ]
    }
   ],
   "source": [
    "def person(name, age):\n",
    "    print(name)\n",
    "    print(age + 1)\n",
    "person(\"nit\", 22)"
   ]
  },
  {
   "cell_type": "code",
   "execution_count": 32,
   "id": "b6285b2d-cd02-4b23-b73a-8adcb3335aa8",
   "metadata": {},
   "outputs": [
    {
     "ename": "TypeError",
     "evalue": "person() missing 1 required positional argument: 'age'",
     "output_type": "error",
     "traceback": [
      "\u001b[0;31m---------------------------------------------------------------------------\u001b[0m",
      "\u001b[0;31mTypeError\u001b[0m                                 Traceback (most recent call last)",
      "Cell \u001b[0;32mIn[32], line 4\u001b[0m\n\u001b[1;32m      2\u001b[0m     \u001b[38;5;28mprint\u001b[39m(name)\n\u001b[1;32m      3\u001b[0m     \u001b[38;5;28mprint\u001b[39m(age \u001b[38;5;241m+\u001b[39m \u001b[38;5;241m1\u001b[39m)\n\u001b[0;32m----> 4\u001b[0m person(\u001b[38;5;124m\"\u001b[39m\u001b[38;5;124mnit\u001b[39m\u001b[38;5;124m\"\u001b[39m)\n",
      "\u001b[0;31mTypeError\u001b[0m: person() missing 1 required positional argument: 'age'"
     ]
    }
   ],
   "source": [
    "def person(name, age):\n",
    "    print(name)\n",
    "    print(age + 1)\n",
    "person(\"nit\")"
   ]
  },
  {
   "cell_type": "code",
   "execution_count": 33,
   "id": "a73b7293-5ad5-4aac-b7f0-1edceeaf977b",
   "metadata": {},
   "outputs": [
    {
     "ename": "TypeError",
     "evalue": "person() missing 1 required positional argument: 'age'",
     "output_type": "error",
     "traceback": [
      "\u001b[0;31m---------------------------------------------------------------------------\u001b[0m",
      "\u001b[0;31mTypeError\u001b[0m                                 Traceback (most recent call last)",
      "Cell \u001b[0;32mIn[33], line 4\u001b[0m\n\u001b[1;32m      2\u001b[0m     \u001b[38;5;28mprint\u001b[39m(name)\n\u001b[1;32m      3\u001b[0m     \u001b[38;5;28mprint\u001b[39m(age \u001b[38;5;241m+\u001b[39m \u001b[38;5;241m1\u001b[39m)\n\u001b[0;32m----> 4\u001b[0m person(\u001b[38;5;241m22\u001b[39m)\n",
      "\u001b[0;31mTypeError\u001b[0m: person() missing 1 required positional argument: 'age'"
     ]
    }
   ],
   "source": [
    "def person(name, age):\n",
    "    print(name)\n",
    "    print(age + 1)\n",
    "person(22)"
   ]
  },
  {
   "cell_type": "code",
   "execution_count": 35,
   "id": "95eaac56-e0b8-4e9b-8aac-a1c5b735d32e",
   "metadata": {},
   "outputs": [
    {
     "ename": "TypeError",
     "evalue": "person() takes 1 positional argument but 2 were given",
     "output_type": "error",
     "traceback": [
      "\u001b[0;31m---------------------------------------------------------------------------\u001b[0m",
      "\u001b[0;31mTypeError\u001b[0m                                 Traceback (most recent call last)",
      "Cell \u001b[0;32mIn[35], line 4\u001b[0m\n\u001b[1;32m      2\u001b[0m     \u001b[38;5;28mprint\u001b[39m(name)\n\u001b[1;32m      3\u001b[0m     \u001b[38;5;28mprint\u001b[39m(age \u001b[38;5;241m+\u001b[39m \u001b[38;5;241m1\u001b[39m)\n\u001b[0;32m----> 4\u001b[0m person(\u001b[38;5;124m'\u001b[39m\u001b[38;5;124mnit\u001b[39m\u001b[38;5;124m'\u001b[39m, \u001b[38;5;241m22\u001b[39m)\n",
      "\u001b[0;31mTypeError\u001b[0m: person() takes 1 positional argument but 2 were given"
     ]
    }
   ],
   "source": [
    "def person(name):\n",
    "    print(name)\n",
    "    print(age + 1)\n",
    "person('nit', 22)"
   ]
  },
  {
   "cell_type": "markdown",
   "id": "85d3a12b-d923-4329-adf3-ca31894b3a99",
   "metadata": {},
   "source": [
    "# Keyword argument"
   ]
  },
  {
   "cell_type": "code",
   "execution_count": 36,
   "id": "bdb09d48-3245-422e-95f3-2a61702a63ed",
   "metadata": {},
   "outputs": [
    {
     "name": "stdout",
     "output_type": "stream",
     "text": [
      "22\n"
     ]
    },
    {
     "ename": "TypeError",
     "evalue": "can only concatenate str (not \"int\") to str",
     "output_type": "error",
     "traceback": [
      "\u001b[0;31m---------------------------------------------------------------------------\u001b[0m",
      "\u001b[0;31mTypeError\u001b[0m                                 Traceback (most recent call last)",
      "Cell \u001b[0;32mIn[36], line 4\u001b[0m\n\u001b[1;32m      2\u001b[0m     \u001b[38;5;28mprint\u001b[39m(name)\n\u001b[1;32m      3\u001b[0m     \u001b[38;5;28mprint\u001b[39m(age \u001b[38;5;241m+\u001b[39m \u001b[38;5;241m1\u001b[39m)\n\u001b[0;32m----> 4\u001b[0m person(\u001b[38;5;241m22\u001b[39m, \u001b[38;5;124m'\u001b[39m\u001b[38;5;124mnit\u001b[39m\u001b[38;5;124m'\u001b[39m)\n",
      "Cell \u001b[0;32mIn[36], line 3\u001b[0m, in \u001b[0;36mperson\u001b[0;34m(name, age)\u001b[0m\n\u001b[1;32m      1\u001b[0m \u001b[38;5;28;01mdef\u001b[39;00m\u001b[38;5;250m \u001b[39m\u001b[38;5;21mperson\u001b[39m(name, age):\n\u001b[1;32m      2\u001b[0m     \u001b[38;5;28mprint\u001b[39m(name)\n\u001b[0;32m----> 3\u001b[0m     \u001b[38;5;28mprint\u001b[39m(age \u001b[38;5;241m+\u001b[39m \u001b[38;5;241m1\u001b[39m)\n",
      "\u001b[0;31mTypeError\u001b[0m: can only concatenate str (not \"int\") to str"
     ]
    }
   ],
   "source": [
    "def person(name, age):\n",
    "    print(name)\n",
    "    print(age + 1)\n",
    "person(22, 'nit')"
   ]
  },
  {
   "cell_type": "code",
   "execution_count": 37,
   "id": "4973ed8e-b285-4fb9-9693-ee7c7d315359",
   "metadata": {},
   "outputs": [
    {
     "name": "stdout",
     "output_type": "stream",
     "text": [
      "nit\n",
      "23\n"
     ]
    }
   ],
   "source": [
    "def person(name, age):\n",
    "    print(name)\n",
    "    print(age + 1)\n",
    "person(age = 22, name = 'nit')"
   ]
  },
  {
   "cell_type": "code",
   "execution_count": 38,
   "id": "199657b6-e253-4c09-9255-8d7402b622d7",
   "metadata": {},
   "outputs": [
    {
     "ename": "TypeError",
     "evalue": "person() got an unexpected keyword argument 'phone'",
     "output_type": "error",
     "traceback": [
      "\u001b[0;31m---------------------------------------------------------------------------\u001b[0m",
      "\u001b[0;31mTypeError\u001b[0m                                 Traceback (most recent call last)",
      "Cell \u001b[0;32mIn[38], line 4\u001b[0m\n\u001b[1;32m      2\u001b[0m     \u001b[38;5;28mprint\u001b[39m(name)\n\u001b[1;32m      3\u001b[0m     \u001b[38;5;28mprint\u001b[39m(age \u001b[38;5;241m+\u001b[39m \u001b[38;5;241m1\u001b[39m)\n\u001b[0;32m----> 4\u001b[0m person(age \u001b[38;5;241m=\u001b[39m \u001b[38;5;241m22\u001b[39m, name \u001b[38;5;241m=\u001b[39m \u001b[38;5;124m'\u001b[39m\u001b[38;5;124mnit\u001b[39m\u001b[38;5;124m'\u001b[39m, phone \u001b[38;5;241m=\u001b[39m \u001b[38;5;241m9834544\u001b[39m)\n",
      "\u001b[0;31mTypeError\u001b[0m: person() got an unexpected keyword argument 'phone'"
     ]
    }
   ],
   "source": [
    "def person(name, age):\n",
    "    print(name)\n",
    "    print(age + 1)\n",
    "person(age = 22, name = 'nit', phone = 9834544)"
   ]
  },
  {
   "cell_type": "code",
   "execution_count": 40,
   "id": "d2ffa407-67a0-493d-9b6d-007cf31dea69",
   "metadata": {},
   "outputs": [
    {
     "name": "stdout",
     "output_type": "stream",
     "text": [
      "nit\n",
      "23\n",
      "9834544\n"
     ]
    }
   ],
   "source": [
    "def person(name, age, phone):\n",
    "    print(name)\n",
    "    print(age + 1)\n",
    "    print(phone)\n",
    "person(age = 22, name = 'nit', phone = 9834544)"
   ]
  },
  {
   "cell_type": "code",
   "execution_count": 41,
   "id": "b049c16a-3e56-4e02-aed5-6d46d45b5389",
   "metadata": {},
   "outputs": [
    {
     "name": "stdout",
     "output_type": "stream",
     "text": [
      "nit\n",
      "18\n"
     ]
    }
   ],
   "source": [
    "def person(name, age = 18):\n",
    "    print(name)\n",
    "    print(age)\n",
    "person('nit')"
   ]
  },
  {
   "cell_type": "code",
   "execution_count": null,
   "id": "98256a7e-c5e2-4cb6-8bb0-6b1948fbe071",
   "metadata": {},
   "outputs": [],
   "source": []
  },
  {
   "cell_type": "code",
   "execution_count": null,
   "id": "c3813c4a-8c68-4dbc-971d-e228209770ce",
   "metadata": {},
   "outputs": [],
   "source": []
  },
  {
   "cell_type": "code",
   "execution_count": null,
   "id": "9e8010c8-0f14-4495-b34a-25a8357c940b",
   "metadata": {},
   "outputs": [],
   "source": []
  }
 ],
 "metadata": {
  "kernelspec": {
   "display_name": "Python [conda env:base] *",
   "language": "python",
   "name": "conda-base-py"
  },
  "language_info": {
   "codemirror_mode": {
    "name": "ipython",
    "version": 3
   },
   "file_extension": ".py",
   "mimetype": "text/x-python",
   "name": "python",
   "nbconvert_exporter": "python",
   "pygments_lexer": "ipython3",
   "version": "3.13.5"
  }
 },
 "nbformat": 4,
 "nbformat_minor": 5
}
